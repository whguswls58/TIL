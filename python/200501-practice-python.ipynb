{
 "cells": [
  {
   "cell_type": "markdown",
   "metadata": {},
   "source": [
    "### 1. 기초문법(Python Basic Syntax)"
   ]
  },
  {
   "cell_type": "markdown",
   "metadata": {},
   "source": [
    "#### 1-1. 식별자\n",
    "- 식별자 규칙\n",
    "    - 소문자, 대문자, 숫자, (_) 사용\n",
    "    - 가장 앞에 숫자 사용 불가능\n",
    "    - 예약어 사용 불가\n",
    "    - 컨벤션\n",
    "        - snake case : fast_campus - 변수명, 함수명에 사용\n",
    "        - camel case : FastCampus,fastCampus - 클래스명에 사용"
   ]
  },
  {
   "cell_type": "markdown",
   "metadata": {},
   "source": [
    "#### 1-2. 데이터 타입\n",
    "- 기본 데이터 타입 : int, float, bool, str\n",
    "- 컬렉션 데이터 타입 : list, tuple, dict"
   ]
  },
  {
   "cell_type": "code",
   "execution_count": 2,
   "metadata": {},
   "outputs": [
    {
     "data": {
      "text/plain": [
       "('ABC', 'abc', 'Fast', '   Slow')"
      ]
     },
     "execution_count": 2,
     "metadata": {},
     "output_type": "execute_result"
    }
   ],
   "source": [
    "# 문자열 데이터 타입의 함수\n",
    "# 대문자변환(upper), 소문자변환(lower), 공백제거(strip), 문자열 치환(replace)\n",
    "upper_a = 'abc'\n",
    "lower_b = 'ABC'\n",
    "strip_c = '   Fast'\n",
    "\n",
    "upper_a.upper(), lower_b.lower(), strip_c.strip(), strip_c.replace(\"Fast\", \"Slow\")"
   ]
  },
  {
   "cell_type": "markdown",
   "metadata": {},
   "source": [
    "#### 1-3. 오프셋 인덱스"
   ]
  },
  {
   "cell_type": "code",
   "execution_count": 5,
   "metadata": {},
   "outputs": [
    {
     "data": {
      "text/plain": [
       "('c', 'g', 'cde', 'defgh', 'gh', 'geca')"
      ]
     },
     "execution_count": 5,
     "metadata": {},
     "output_type": "execute_result"
    }
   ],
   "source": [
    "g = 'abcdefgh'\n",
    "g[2], g[-2], g[2:5], g[3:], g[-2:], g[::2][::-1]"
   ]
  },
  {
   "cell_type": "markdown",
   "metadata": {},
   "source": [
    "#### 1-4. list - 수정 가능 데이터\n",
    "- 함수\n",
    "    - append : 가장 뒤에 값을 추가\n",
    "    - sort : 오름차순 정렬\n",
    "        - 내림차순 : sort 수행후 reverse\n",
    "    - reverse : 데이터를 역순으로 정렬\n",
    "    - pop : 가장 마지막 데이터 출력하고 리스트에서 삭제\n",
    "    - copy : 리스트 내용 복사"
   ]
  },
  {
   "cell_type": "code",
   "execution_count": 12,
   "metadata": {},
   "outputs": [
    {
     "name": "stdout",
     "output_type": "stream",
     "text": [
      "[1, 2, 4, 5]\n"
     ]
    }
   ],
   "source": [
    "ls = [1, 5, 2, 4]\n",
    "ls.sort()\n",
    "print(ls)"
   ]
  },
  {
   "cell_type": "code",
   "execution_count": 13,
   "metadata": {},
   "outputs": [
    {
     "name": "stdout",
     "output_type": "stream",
     "text": [
      "[1, 2, 4, 5]\n"
     ]
    },
    {
     "data": {
      "text/plain": [
       "[1, 2, 4, 5, 3]"
      ]
     },
     "execution_count": 13,
     "metadata": {},
     "output_type": "execute_result"
    }
   ],
   "source": [
    "# append\n",
    "print(ls)\n",
    "ls.append(3)\n",
    "ls"
   ]
  },
  {
   "cell_type": "code",
   "execution_count": 14,
   "metadata": {},
   "outputs": [
    {
     "name": "stdout",
     "output_type": "stream",
     "text": [
      "[1, 2, 4, 5, 3]\n"
     ]
    },
    {
     "data": {
      "text/plain": [
       "[5, 4, 3, 2, 1]"
      ]
     },
     "execution_count": 14,
     "metadata": {},
     "output_type": "execute_result"
    }
   ],
   "source": [
    "# sort & reverse\n",
    "print(ls)\n",
    "ls.sort()\n",
    "ls.reverse()\n",
    "ls"
   ]
  },
  {
   "cell_type": "code",
   "execution_count": 15,
   "metadata": {},
   "outputs": [
    {
     "data": {
      "text/plain": [
       "(1, [5, 4, 3, 2])"
      ]
     },
     "execution_count": 15,
     "metadata": {},
     "output_type": "execute_result"
    }
   ],
   "source": [
    "# pop\n",
    "num = ls.pop()\n",
    "num, ls"
   ]
  },
  {
   "cell_type": "code",
   "execution_count": 16,
   "metadata": {},
   "outputs": [
    {
     "data": {
      "text/plain": [
       "([1, 2, 10], [1, 2, 3])"
      ]
     },
     "execution_count": 16,
     "metadata": {},
     "output_type": "execute_result"
    }
   ],
   "source": [
    "# copy  ls1 = ls2 할 경우 얕은 복사로 값 수정시 ls1, ls2 모두 수정됨\n",
    "ls1 = [1, 2, 3]\n",
    "ls2 = ls1.copy()\n",
    "ls1[2] = 10\n",
    "ls1, ls2"
   ]
  },
  {
   "cell_type": "markdown",
   "metadata": {},
   "source": [
    "#### 1-5. tuple - 수정이 불가능\n",
    "- 기본적인 선언 및 인덱스 사용방법은 리스트와 동일"
   ]
  },
  {
   "cell_type": "markdown",
   "metadata": {},
   "source": [
    "#### 1-6. dict\n",
    "- 순서가 없고 {키:값}으로 구성되어 있는 데이터 타입"
   ]
  },
  {
   "cell_type": "code",
   "execution_count": 17,
   "metadata": {},
   "outputs": [
    {
     "data": {
      "text/plain": [
       "{1: 'one', 'two': 2, 'three': [1, 2, 3]}"
      ]
     },
     "execution_count": 17,
     "metadata": {},
     "output_type": "execute_result"
    }
   ],
   "source": [
    "# 선언 : 키 - 정수, 문자열 데이터 타입만 가능, 인덱스 대신 키값 사용\n",
    "dic = {\n",
    "    1:\"one\",\n",
    "    \"two\":2,\n",
    "    \"three\":[1,2,3]\n",
    "}\n",
    "dic"
   ]
  },
  {
   "cell_type": "code",
   "execution_count": 30,
   "metadata": {},
   "outputs": [
    {
     "name": "stdout",
     "output_type": "stream",
     "text": [
      "일\n",
      "일\n",
      "dict_items([(1, '일'), ('two', 2), ('three', [1, 2, 3])])\n"
     ]
    }
   ],
   "source": [
    "# dic[\"키값\"] -> 키가 가르키는 value값 출력\n",
    "# dic[\"키값\"] = value -> 키가 가르키는 value값을 변경\n",
    "# dic.items() : key 값과 value값으로 이루어진 튜플 생성\n",
    "print(dic[1])\n",
    "dic[1] = \"일\"\n",
    "print(dic[1])\n",
    "print(dic.items())"
   ]
  },
  {
   "cell_type": "markdown",
   "metadata": {},
   "source": [
    "#### 1-7. 형변환\n",
    "- 딕셔너리를 리스트로 바꾸는 법\n",
    "- 리스트를 딕셔너리 데이터로 바꾸는 법(zip함수)"
   ]
  },
  {
   "cell_type": "code",
   "execution_count": 21,
   "metadata": {},
   "outputs": [
    {
     "data": {
      "text/plain": [
       "([1, 'two', 'three'], ['일', 2, [1, 2, 3]])"
      ]
     },
     "execution_count": 21,
     "metadata": {},
     "output_type": "execute_result"
    }
   ],
   "source": [
    "# 딕셔너리 -> 리스트\n",
    "# 딕셔너리 이름을 리스트로 변환하면 key값을 리스트로 바꿈\n",
    "# 딕셔너리 value값을 리스트로 변환하면 value값을 리스트 형태로 바꿈\n",
    "dic_key = list(dic)\n",
    "dic_value = list(dic.values())\n",
    "dic_key, dic_value"
   ]
  },
  {
   "cell_type": "code",
   "execution_count": 19,
   "metadata": {},
   "outputs": [
    {
     "data": {
      "text/plain": [
       "{'seoul': 970, 'busan': 340, 'daegu': 248}"
      ]
     },
     "execution_count": 19,
     "metadata": {},
     "output_type": "execute_result"
    }
   ],
   "source": [
    "# 리스트 -> 딕셔너리\n",
    "city = ['seoul', 'busan', 'daegu']\n",
    "population = [970, 340, 248]\n",
    "dict(zip(city, population))"
   ]
  },
  {
   "cell_type": "markdown",
   "metadata": {},
   "source": [
    "#### 1-8. 연산자\n",
    "- 산술 연산자 : `합(+), 차(-), 곱(*), 나누기(/), 몫(//), 나머지(%), 제곱(**)`\n",
    "- 할당 연산자 : `변수에 누적시켜서 연산 : +=, -=, *=, /= , ....`\n",
    "- 비교 연산자 : ==, !=, >, <, >=, <= : 결과 True, False\n",
    "- 논리 연산자 : True와 False를 연산\n",
    "    - or : 모든 값이 False일 때, False 출력\n",
    "    - and : 모든 값이 True일 때, True 출력\n",
    "    - not : True -> False, False -> True\n",
    "- 멤버 연산자 : 특정 데이터가 있는지 확인할때 사용 : not in, in -> 결과 : True, False"
   ]
  },
  {
   "cell_type": "code",
   "execution_count": 23,
   "metadata": {},
   "outputs": [
    {
     "data": {
      "text/plain": [
       "True"
      ]
     },
     "execution_count": 23,
     "metadata": {},
     "output_type": "execute_result"
    }
   ],
   "source": [
    "# 멤버 연산\n",
    "'seoul' in city"
   ]
  },
  {
   "cell_type": "markdown",
   "metadata": {},
   "source": [
    "### 2. 조건문(Condition)\n",
    "- 조건 부분에 bool 데이터 타입 이외의 데이터 타입이 오면 자동으로 bool으로 형변환\n",
    "    - int : 0 - False, 나머지 True\n",
    "    - float : 0.0 - False, 나머지 True\n",
    "    - list, tuple, dict : [],(),{} - False(값이 없음), 나머지 True"
   ]
  },
  {
   "cell_type": "code",
   "execution_count": 25,
   "metadata": {},
   "outputs": [
    {
     "name": "stdout",
     "output_type": "stream",
     "text": [
      "odd\n",
      "even\n",
      "odd\n",
      "even\n",
      "odd\n"
     ]
    }
   ],
   "source": [
    "for x in range(5):\n",
    "    if(x%2):\n",
    "        print(\"even\")\n",
    "    else:\n",
    "        print(\"odd\")"
   ]
  },
  {
   "cell_type": "markdown",
   "metadata": {},
   "source": [
    "### 3. 반복문(Loop)"
   ]
  },
  {
   "cell_type": "markdown",
   "metadata": {},
   "source": [
    "#### 3-1. while\n",
    "- 무한루프 : 조건을 항상 참인 경우 루프가 무한히 돌아감 ex) 1\n",
    "- break : 반복문을 중단 시킴"
   ]
  },
  {
   "cell_type": "code",
   "execution_count": 27,
   "metadata": {},
   "outputs": [
    {
     "name": "stdout",
     "output_type": "stream",
     "text": [
      "[1, 2, 3]\n",
      "[1, 2]\n",
      "[1]\n"
     ]
    }
   ],
   "source": [
    "data = [1, 2, 3]\n",
    "while data :       #조건이 False가 될때까지 구문 실행\n",
    "    print (data)\n",
    "    data.pop()     #data 값을 출력 후 삭제"
   ]
  },
  {
   "cell_type": "markdown",
   "metadata": {},
   "source": [
    "#### 3-2. for\n",
    "- iterable한 값을 하나씩 꺼내서 value에 대입후 코드를 iterabel 변수의 값 개수만큼 실행\n",
    "- for문에서 iterable 데이터가 tuple로 나오면 여러개의 변수로 받아짐\n",
    "````\n",
    "for <variable> in <iterables>:\n",
    "    <code>\n",
    "````\n",
    "- continue : continue절 아래의 코드는 생략하고 다시 조건부분으로 올라가서 코드 실행\n",
    "- range 함수\n",
    "    - range(start, end, split)\n",
    "        - ex) `range(10) -> 0~9, range(1,100) -> 1~99, range(0,10,2) -> 0,2,4,6,8`"
   ]
  },
  {
   "cell_type": "code",
   "execution_count": 28,
   "metadata": {},
   "outputs": [
    {
     "name": "stdout",
     "output_type": "stream",
     "text": [
      "0 2 4 "
     ]
    }
   ],
   "source": [
    "ls = [0, 1, 2, 3, 4]\n",
    "for data in ls : \n",
    "    if data % 2 :       # data가 홀수면 다시 조건부분부터 실행\n",
    "        continue\n",
    "    print(data, end=\" \")"
   ]
  },
  {
   "cell_type": "code",
   "execution_count": 29,
   "metadata": {},
   "outputs": [
    {
     "name": "stdout",
     "output_type": "stream",
     "text": [
      "0\n",
      "2\n",
      "4\n",
      "6\n",
      "8\n"
     ]
    }
   ],
   "source": [
    "for x in range(0,10,2):\n",
    "    print(x)"
   ]
  },
  {
   "cell_type": "code",
   "execution_count": 31,
   "metadata": {},
   "outputs": [
    {
     "name": "stdout",
     "output_type": "stream",
     "text": [
      "Korean 80\n",
      "English 90\n",
      "Math 100\n"
     ]
    }
   ],
   "source": [
    "subject_ls = ['Korean', 'English', 'Math']\n",
    "points_ls =[80, 90, 100]\n",
    "points_dict = dict(zip(subject_ls,points_ls))\n",
    "\n",
    "for subject, point in points_dict.items():\n",
    "    print(subject, point)"
   ]
  },
  {
   "cell_type": "code",
   "execution_count": 39,
   "metadata": {},
   "outputs": [
    {
     "name": "stdout",
     "output_type": "stream",
     "text": [
      "2 x 2 = 4\t\n",
      "3 x 2 = 6\t3 x 3 = 9\t\n",
      "4 x 2 = 8\t4 x 3 = 12\t4 x 4 = 16\t\n",
      "5 x 2 = 10\t5 x 3 = 15\t5 x 4 = 20\t5 x 5 = 25\t\n",
      "6 x 2 = 12\t6 x 3 = 18\t6 x 4 = 24\t6 x 5 = 30\t6 x 6 = 36\t\n",
      "7 x 2 = 14\t7 x 3 = 21\t7 x 4 = 28\t7 x 5 = 35\t7 x 6 = 42\t7 x 7 = 49\t\n",
      "8 x 2 = 16\t8 x 3 = 24\t8 x 4 = 32\t8 x 5 = 40\t8 x 6 = 48\t8 x 7 = 56\t8 x 8 = 64\t\n",
      "9 x 2 = 18\t9 x 3 = 27\t9 x 4 = 36\t9 x 5 = 45\t9 x 6 = 54\t9 x 7 = 63\t9 x 8 = 72\t9 x 9 = 81\t\n"
     ]
    }
   ],
   "source": [
    "# 구구단 출력 가로 출력\n",
    "# print : end=\"\\t\" -> tap만큼 간격\n",
    "for dan in range(2, 10):\n",
    "    for cnt in range(2, 10):\n",
    "        if dan >= cnt:\n",
    "            print(\"{} x {} = {}\".format(dan, cnt, dan*cnt),end=\"\\t\")\n",
    "    print()"
   ]
  },
  {
   "cell_type": "markdown",
   "metadata": {},
   "source": [
    "#### 3-3. List Comprehention\n",
    "- 리스트 데이터를 만들어 주는 방법\n",
    "- for문보다 빠르게 동장\n",
    "````\n",
    "[ <conditional> for <valiable> in <iterable> ]\n",
    "[ data**2 for data(변수) in ls ]\n",
    "[ ('홀수' if data%2 else '짝수') for data in ls ]\n",
    "````"
   ]
  },
  {
   "cell_type": "code",
   "execution_count": 40,
   "metadata": {},
   "outputs": [
    {
     "data": {
      "text/plain": [
       "[1, 4, 9, 16, 25]"
      ]
     },
     "execution_count": 40,
     "metadata": {},
     "output_type": "execute_result"
    }
   ],
   "source": [
    "# ls에서 뽑은 값을 변환시킬때 -> 조건절에서 data에 함수를 넣어줌\n",
    "ls = [1, 2, 3, 4, 5]\n",
    "result = [data**2 for data in ls]\n",
    "result"
   ]
  },
  {
   "cell_type": "code",
   "execution_count": 41,
   "metadata": {},
   "outputs": [
    {
     "data": {
      "text/plain": [
       "[1, 3, 5, 7, 9]"
      ]
     },
     "execution_count": 41,
     "metadata": {},
     "output_type": "execute_result"
    }
   ],
   "source": [
    "# ls에서 특정 값을 뽑을 때 조건절 사용\n",
    "ls = range(10)\n",
    "[data for data in ls if data%2]"
   ]
  },
  {
   "cell_type": "markdown",
   "metadata": {},
   "source": [
    "### 4. 함수(Function)"
   ]
  },
  {
   "cell_type": "code",
   "execution_count": null,
   "metadata": {},
   "outputs": [],
   "source": []
  },
  {
   "cell_type": "code",
   "execution_count": null,
   "metadata": {},
   "outputs": [],
   "source": []
  },
  {
   "cell_type": "markdown",
   "metadata": {},
   "source": [
    "### 5. 클래스(Class)"
   ]
  },
  {
   "cell_type": "code",
   "execution_count": null,
   "metadata": {},
   "outputs": [],
   "source": []
  },
  {
   "cell_type": "code",
   "execution_count": null,
   "metadata": {},
   "outputs": [],
   "source": []
  },
  {
   "cell_type": "markdown",
   "metadata": {},
   "source": [
    "### 6. 모듈(Module)"
   ]
  },
  {
   "cell_type": "code",
   "execution_count": null,
   "metadata": {},
   "outputs": [],
   "source": []
  },
  {
   "cell_type": "code",
   "execution_count": null,
   "metadata": {},
   "outputs": [],
   "source": []
  },
  {
   "cell_type": "markdown",
   "metadata": {},
   "source": [
    "### 7. 패키지(Package)"
   ]
  },
  {
   "cell_type": "code",
   "execution_count": null,
   "metadata": {},
   "outputs": [],
   "source": []
  },
  {
   "cell_type": "code",
   "execution_count": null,
   "metadata": {},
   "outputs": [],
   "source": []
  },
  {
   "cell_type": "markdown",
   "metadata": {},
   "source": [
    "### 8. 예외처리(Exception)"
   ]
  },
  {
   "cell_type": "code",
   "execution_count": null,
   "metadata": {},
   "outputs": [],
   "source": []
  },
  {
   "cell_type": "code",
   "execution_count": null,
   "metadata": {},
   "outputs": [],
   "source": []
  },
  {
   "cell_type": "markdown",
   "metadata": {},
   "source": [
    "### 9. 입출력(IO)"
   ]
  },
  {
   "cell_type": "code",
   "execution_count": null,
   "metadata": {},
   "outputs": [],
   "source": []
  },
  {
   "cell_type": "code",
   "execution_count": null,
   "metadata": {},
   "outputs": [],
   "source": []
  },
  {
   "cell_type": "markdown",
   "metadata": {},
   "source": [
    "### 10. 정규식(Regex)"
   ]
  },
  {
   "cell_type": "code",
   "execution_count": null,
   "metadata": {},
   "outputs": [],
   "source": []
  },
  {
   "cell_type": "code",
   "execution_count": null,
   "metadata": {},
   "outputs": [],
   "source": []
  },
  {
   "cell_type": "markdown",
   "metadata": {},
   "source": [
    "### 11. Numpy"
   ]
  },
  {
   "cell_type": "code",
   "execution_count": null,
   "metadata": {},
   "outputs": [],
   "source": []
  },
  {
   "cell_type": "code",
   "execution_count": null,
   "metadata": {},
   "outputs": [],
   "source": []
  },
  {
   "cell_type": "markdown",
   "metadata": {},
   "source": [
    "### 12. Pandas"
   ]
  },
  {
   "cell_type": "code",
   "execution_count": null,
   "metadata": {},
   "outputs": [],
   "source": []
  }
 ],
 "metadata": {
  "kernelspec": {
   "display_name": "Python 3",
   "language": "python",
   "name": "python3"
  },
  "language_info": {
   "codemirror_mode": {
    "name": "ipython",
    "version": 3
   },
   "file_extension": ".py",
   "mimetype": "text/x-python",
   "name": "python",
   "nbconvert_exporter": "python",
   "pygments_lexer": "ipython3",
   "version": "3.7.6"
  }
 },
 "nbformat": 4,
 "nbformat_minor": 4
}
