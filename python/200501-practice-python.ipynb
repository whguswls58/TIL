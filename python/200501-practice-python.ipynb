{
 "cells": [
  {
   "cell_type": "markdown",
   "metadata": {},
   "source": [
    "### 1. 기초문법(Python Basic Syntax)"
   ]
  },
  {
   "cell_type": "markdown",
   "metadata": {},
   "source": [
    "#### 1-1. 식별자\n",
    "- 식별자 규칙\n",
    "    - 소문자, 대문자, 숫자, (_) 사용\n",
    "    - 가장 앞에 숫자 사용 불가능\n",
    "    - 예약어 사용 불가\n",
    "    - 컨벤션\n",
    "        - snake case : fast_campus - 변수명, 함수명에 사용\n",
    "        - camel case : FastCampus,fastCampus - 클래스명에 사용"
   ]
  },
  {
   "cell_type": "markdown",
   "metadata": {},
   "source": [
    "#### 1-2. 데이터 타입\n",
    "- 기본 데이터 타입 : int, float, bool, str\n",
    "- 컬렉션 데이터 타입 : list, tuple, dict"
   ]
  },
  {
   "cell_type": "code",
   "execution_count": 2,
   "metadata": {},
   "outputs": [
    {
     "data": {
      "text/plain": [
       "('ABC', 'abc', 'Fast', '   Slow')"
      ]
     },
     "execution_count": 2,
     "metadata": {},
     "output_type": "execute_result"
    }
   ],
   "source": [
    "# 문자열 데이터 타입의 함수\n",
    "# 대문자변환(upper), 소문자변환(lower), 공백제거(strip), 문자열 치환(replace)\n",
    "upper_a = 'abc'\n",
    "lower_b = 'ABC'\n",
    "strip_c = '   Fast'\n",
    "\n",
    "upper_a.upper(), lower_b.lower(), strip_c.strip(), strip_c.replace(\"Fast\", \"Slow\")"
   ]
  },
  {
   "cell_type": "markdown",
   "metadata": {},
   "source": [
    "#### 1-3. 오프셋 인덱스"
   ]
  },
  {
   "cell_type": "code",
   "execution_count": 5,
   "metadata": {},
   "outputs": [
    {
     "data": {
      "text/plain": [
       "('c', 'g', 'cde', 'defgh', 'gh', 'geca')"
      ]
     },
     "execution_count": 5,
     "metadata": {},
     "output_type": "execute_result"
    }
   ],
   "source": [
    "g = 'abcdefgh'\n",
    "g[2], g[-2], g[2:5], g[3:], g[-2:], g[::2][::-1]"
   ]
  },
  {
   "cell_type": "markdown",
   "metadata": {},
   "source": [
    "#### 1-4. list - 수정 가능 데이터\n",
    "- 함수\n",
    "    - append : 가장 뒤에 값을 추가\n",
    "    - sort : 오름차순 정렬\n",
    "        - 내림차순 : sort 수행후 reverse\n",
    "    - reverse : 데이터를 역순으로 정렬\n",
    "    - pop : 가장 마지막 데이터 출력하고 리스트에서 삭제\n",
    "    - copy : 리스트 내용 복사"
   ]
  },
  {
   "cell_type": "code",
   "execution_count": 12,
   "metadata": {},
   "outputs": [
    {
     "name": "stdout",
     "output_type": "stream",
     "text": [
      "[1, 2, 4, 5]\n"
     ]
    }
   ],
   "source": [
    "ls = [1, 5, 2, 4]\n",
    "ls.sort()\n",
    "print(ls)"
   ]
  },
  {
   "cell_type": "code",
   "execution_count": 13,
   "metadata": {},
   "outputs": [
    {
     "name": "stdout",
     "output_type": "stream",
     "text": [
      "[1, 2, 4, 5]\n"
     ]
    },
    {
     "data": {
      "text/plain": [
       "[1, 2, 4, 5, 3]"
      ]
     },
     "execution_count": 13,
     "metadata": {},
     "output_type": "execute_result"
    }
   ],
   "source": [
    "# append\n",
    "print(ls)\n",
    "ls.append(3)\n",
    "ls"
   ]
  },
  {
   "cell_type": "code",
   "execution_count": 14,
   "metadata": {},
   "outputs": [
    {
     "name": "stdout",
     "output_type": "stream",
     "text": [
      "[1, 2, 4, 5, 3]\n"
     ]
    },
    {
     "data": {
      "text/plain": [
       "[5, 4, 3, 2, 1]"
      ]
     },
     "execution_count": 14,
     "metadata": {},
     "output_type": "execute_result"
    }
   ],
   "source": [
    "# sort & reverse\n",
    "print(ls)\n",
    "ls.sort()\n",
    "ls.reverse()\n",
    "ls"
   ]
  },
  {
   "cell_type": "code",
   "execution_count": 15,
   "metadata": {},
   "outputs": [
    {
     "data": {
      "text/plain": [
       "(1, [5, 4, 3, 2])"
      ]
     },
     "execution_count": 15,
     "metadata": {},
     "output_type": "execute_result"
    }
   ],
   "source": [
    "# pop\n",
    "num = ls.pop()\n",
    "num, ls"
   ]
  },
  {
   "cell_type": "code",
   "execution_count": 16,
   "metadata": {},
   "outputs": [
    {
     "data": {
      "text/plain": [
       "([1, 2, 10], [1, 2, 3])"
      ]
     },
     "execution_count": 16,
     "metadata": {},
     "output_type": "execute_result"
    }
   ],
   "source": [
    "# copy  ls1 = ls2 할 경우 얕은 복사로 값 수정시 ls1, ls2 모두 수정됨\n",
    "ls1 = [1, 2, 3]\n",
    "ls2 = ls1.copy()\n",
    "ls1[2] = 10\n",
    "ls1, ls2"
   ]
  },
  {
   "cell_type": "markdown",
   "metadata": {},
   "source": [
    "#### 1-5. tuple - 수정이 불가능\n",
    "- 기본적인 선언 및 인덱스 사용방법은 리스트와 동일"
   ]
  },
  {
   "cell_type": "markdown",
   "metadata": {},
   "source": [
    "#### 1-6. dict\n",
    "- 순서가 없고 {키:값}으로 구성되어 있는 데이터 타입"
   ]
  },
  {
   "cell_type": "code",
   "execution_count": 17,
   "metadata": {},
   "outputs": [
    {
     "data": {
      "text/plain": [
       "{1: 'one', 'two': 2, 'three': [1, 2, 3]}"
      ]
     },
     "execution_count": 17,
     "metadata": {},
     "output_type": "execute_result"
    }
   ],
   "source": [
    "# 선언 : 키 - 정수, 문자열 데이터 타입만 가능, 인덱스 대신 키값 사용\n",
    "dic = {\n",
    "    1:\"one\",\n",
    "    \"two\":2,\n",
    "    \"three\":[1,2,3]\n",
    "}\n",
    "dic"
   ]
  },
  {
   "cell_type": "code",
   "execution_count": 30,
   "metadata": {},
   "outputs": [
    {
     "name": "stdout",
     "output_type": "stream",
     "text": [
      "일\n",
      "일\n",
      "dict_items([(1, '일'), ('two', 2), ('three', [1, 2, 3])])\n"
     ]
    }
   ],
   "source": [
    "# dic[\"키값\"] -> 키가 가르키는 value값 출력\n",
    "# dic[\"키값\"] = value -> 키가 가르키는 value값을 변경\n",
    "# dic.items() : key 값과 value값으로 이루어진 튜플 생성\n",
    "print(dic[1])\n",
    "dic[1] = \"일\"\n",
    "print(dic[1])\n",
    "print(dic.items())"
   ]
  },
  {
   "cell_type": "markdown",
   "metadata": {},
   "source": [
    "#### 1-7. 형변환\n",
    "- 딕셔너리를 리스트로 바꾸는 법\n",
    "- 리스트를 딕셔너리 데이터로 바꾸는 법(zip함수)"
   ]
  },
  {
   "cell_type": "code",
   "execution_count": 21,
   "metadata": {},
   "outputs": [
    {
     "data": {
      "text/plain": [
       "([1, 'two', 'three'], ['일', 2, [1, 2, 3]])"
      ]
     },
     "execution_count": 21,
     "metadata": {},
     "output_type": "execute_result"
    }
   ],
   "source": [
    "# 딕셔너리 -> 리스트\n",
    "# 딕셔너리 이름을 리스트로 변환하면 key값을 리스트로 바꿈\n",
    "# 딕셔너리 value값을 리스트로 변환하면 value값을 리스트 형태로 바꿈\n",
    "dic_key = list(dic)\n",
    "dic_value = list(dic.values())\n",
    "dic_key, dic_value"
   ]
  },
  {
   "cell_type": "code",
   "execution_count": 19,
   "metadata": {},
   "outputs": [
    {
     "data": {
      "text/plain": [
       "{'seoul': 970, 'busan': 340, 'daegu': 248}"
      ]
     },
     "execution_count": 19,
     "metadata": {},
     "output_type": "execute_result"
    }
   ],
   "source": [
    "# 리스트 -> 딕셔너리\n",
    "city = ['seoul', 'busan', 'daegu']\n",
    "population = [970, 340, 248]\n",
    "dict(zip(city, population))"
   ]
  },
  {
   "cell_type": "markdown",
   "metadata": {},
   "source": [
    "#### 1-8. 연산자\n",
    "- 산술 연산자 : `합(+), 차(-), 곱(*), 나누기(/), 몫(//), 나머지(%), 제곱(**)`\n",
    "- 할당 연산자 : `변수에 누적시켜서 연산 : +=, -=, *=, /= , ....`\n",
    "- 비교 연산자 : ==, !=, >, <, >=, <= : 결과 True, False\n",
    "- 논리 연산자 : True와 False를 연산\n",
    "    - or : 모든 값이 False일 때, False 출력\n",
    "    - and : 모든 값이 True일 때, True 출력\n",
    "    - not : True -> False, False -> True\n",
    "- 멤버 연산자 : 특정 데이터가 있는지 확인할때 사용 : not in, in -> 결과 : True, False"
   ]
  },
  {
   "cell_type": "code",
   "execution_count": 23,
   "metadata": {},
   "outputs": [
    {
     "data": {
      "text/plain": [
       "True"
      ]
     },
     "execution_count": 23,
     "metadata": {},
     "output_type": "execute_result"
    }
   ],
   "source": [
    "# 멤버 연산\n",
    "'seoul' in city"
   ]
  },
  {
   "cell_type": "markdown",
   "metadata": {},
   "source": [
    "### 2. 조건문(Condition)\n",
    "- 조건 부분에 bool 데이터 타입 이외의 데이터 타입이 오면 자동으로 bool으로 형변환\n",
    "    - int : 0 - False, 나머지 True\n",
    "    - float : 0.0 - False, 나머지 True\n",
    "    - list, tuple, dict : [],(),{} - False(값이 없음), 나머지 True"
   ]
  },
  {
   "cell_type": "code",
   "execution_count": 25,
   "metadata": {},
   "outputs": [
    {
     "name": "stdout",
     "output_type": "stream",
     "text": [
      "odd\n",
      "even\n",
      "odd\n",
      "even\n",
      "odd\n"
     ]
    }
   ],
   "source": [
    "for x in range(5):\n",
    "    if(x%2):\n",
    "        print(\"even\")\n",
    "    else:\n",
    "        print(\"odd\")"
   ]
  },
  {
   "cell_type": "markdown",
   "metadata": {},
   "source": [
    "### 3. 반복문(Loop)"
   ]
  },
  {
   "cell_type": "markdown",
   "metadata": {},
   "source": [
    "#### 3-1. while\n",
    "- 무한루프 : 조건을 항상 참인 경우 루프가 무한히 돌아감 ex) 1\n",
    "- break : 반복문을 중단 시킴"
   ]
  },
  {
   "cell_type": "code",
   "execution_count": 27,
   "metadata": {},
   "outputs": [
    {
     "name": "stdout",
     "output_type": "stream",
     "text": [
      "[1, 2, 3]\n",
      "[1, 2]\n",
      "[1]\n"
     ]
    }
   ],
   "source": [
    "data = [1, 2, 3]\n",
    "while data :       #조건이 False가 될때까지 구문 실행\n",
    "    print (data)\n",
    "    data.pop()     #data 값을 출력 후 삭제"
   ]
  },
  {
   "cell_type": "code",
   "execution_count": 49,
   "metadata": {},
   "outputs": [
    {
     "name": "stdout",
     "output_type": "stream",
     "text": [
      "[9, 12, 17, 29, 33, 41]\n"
     ]
    }
   ],
   "source": [
    "# 6자리의 로또번호를 생성하는 코드를 작성\n",
    "# 6자리의 번호는 중복 x\n",
    "import random\n",
    "\n",
    "lotto = []\n",
    "while True:\n",
    "    if len(lotto) < 6 :\n",
    "         num = random.randint(1,45)\n",
    "         if num not in lotto :\n",
    "            lotto.append(num)\n",
    "    else :\n",
    "         lotto.sort()\n",
    "         print (lotto)\n",
    "         break"
   ]
  },
  {
   "cell_type": "markdown",
   "metadata": {},
   "source": [
    "#### 3-2. for\n",
    "- iterable한 값을 하나씩 꺼내서 value에 대입후 코드를 iterabel 변수의 값 개수만큼 실행\n",
    "- for문에서 iterable 데이터가 tuple로 나오면 여러개의 변수로 받아짐\n",
    "````\n",
    "for <variable> in <iterables>:\n",
    "    <code>\n",
    "````\n",
    "- continue : continue절 아래의 코드는 생략하고 다시 조건부분으로 올라가서 코드 실행\n",
    "- range 함수\n",
    "    - range(start, end, split)\n",
    "        - ex) `range(10) -> 0~9, range(1,100) -> 1~99, range(0,10,2) -> 0,2,4,6,8`"
   ]
  },
  {
   "cell_type": "code",
   "execution_count": 28,
   "metadata": {},
   "outputs": [
    {
     "name": "stdout",
     "output_type": "stream",
     "text": [
      "0 2 4 "
     ]
    }
   ],
   "source": [
    "ls = [0, 1, 2, 3, 4]\n",
    "for data in ls : \n",
    "    if data % 2 :       # data가 홀수면 다시 조건부분부터 실행\n",
    "        continue\n",
    "    print(data, end=\" \")"
   ]
  },
  {
   "cell_type": "code",
   "execution_count": 29,
   "metadata": {},
   "outputs": [
    {
     "name": "stdout",
     "output_type": "stream",
     "text": [
      "0\n",
      "2\n",
      "4\n",
      "6\n",
      "8\n"
     ]
    }
   ],
   "source": [
    "for x in range(0,10,2):\n",
    "    print(x)"
   ]
  },
  {
   "cell_type": "code",
   "execution_count": 31,
   "metadata": {},
   "outputs": [
    {
     "name": "stdout",
     "output_type": "stream",
     "text": [
      "Korean 80\n",
      "English 90\n",
      "Math 100\n"
     ]
    }
   ],
   "source": [
    "subject_ls = ['Korean', 'English', 'Math']\n",
    "points_ls =[80, 90, 100]\n",
    "points_dict = dict(zip(subject_ls,points_ls))\n",
    "\n",
    "for subject, point in points_dict.items():\n",
    "    print(subject, point)"
   ]
  },
  {
   "cell_type": "code",
   "execution_count": 39,
   "metadata": {},
   "outputs": [
    {
     "name": "stdout",
     "output_type": "stream",
     "text": [
      "2 x 2 = 4\t\n",
      "3 x 2 = 6\t3 x 3 = 9\t\n",
      "4 x 2 = 8\t4 x 3 = 12\t4 x 4 = 16\t\n",
      "5 x 2 = 10\t5 x 3 = 15\t5 x 4 = 20\t5 x 5 = 25\t\n",
      "6 x 2 = 12\t6 x 3 = 18\t6 x 4 = 24\t6 x 5 = 30\t6 x 6 = 36\t\n",
      "7 x 2 = 14\t7 x 3 = 21\t7 x 4 = 28\t7 x 5 = 35\t7 x 6 = 42\t7 x 7 = 49\t\n",
      "8 x 2 = 16\t8 x 3 = 24\t8 x 4 = 32\t8 x 5 = 40\t8 x 6 = 48\t8 x 7 = 56\t8 x 8 = 64\t\n",
      "9 x 2 = 18\t9 x 3 = 27\t9 x 4 = 36\t9 x 5 = 45\t9 x 6 = 54\t9 x 7 = 63\t9 x 8 = 72\t9 x 9 = 81\t\n"
     ]
    }
   ],
   "source": [
    "# 구구단 출력 가로 출력\n",
    "# print : end=\"\\t\" -> tap만큼 간격\n",
    "for dan in range(2, 10):\n",
    "    for cnt in range(2, 10):\n",
    "        if dan >= cnt:\n",
    "            print(\"{} x {} = {}\".format(dan, cnt, dan*cnt),end=\"\\t\")\n",
    "    print()"
   ]
  },
  {
   "cell_type": "markdown",
   "metadata": {},
   "source": [
    "#### 3-3. List Comprehention\n",
    "- 리스트 데이터를 만들어 주는 방법\n",
    "- for문보다 빠르게 동장\n",
    "````\n",
    "[ <conditional> for <valiable> in <iterable> ]\n",
    "[ data**2 for data(변수) in ls ]\n",
    "[ ('홀수' if data%2 else '짝수') for data in ls ]\n",
    "````"
   ]
  },
  {
   "cell_type": "code",
   "execution_count": 40,
   "metadata": {},
   "outputs": [
    {
     "data": {
      "text/plain": [
       "[1, 4, 9, 16, 25]"
      ]
     },
     "execution_count": 40,
     "metadata": {},
     "output_type": "execute_result"
    }
   ],
   "source": [
    "# ls에서 뽑은 값을 변환시킬때 -> 조건절에서 data에 함수를 넣어줌\n",
    "ls = [1, 2, 3, 4, 5]\n",
    "result = [data**2 for data in ls]\n",
    "result"
   ]
  },
  {
   "cell_type": "code",
   "execution_count": 41,
   "metadata": {},
   "outputs": [
    {
     "data": {
      "text/plain": [
       "[1, 3, 5, 7, 9]"
      ]
     },
     "execution_count": 41,
     "metadata": {},
     "output_type": "execute_result"
    }
   ],
   "source": [
    "# ls에서 특정 값을 뽑을 때 조건절 사용\n",
    "ls = range(10)\n",
    "[data for data in ls if data%2]"
   ]
  },
  {
   "cell_type": "markdown",
   "metadata": {},
   "source": [
    "### 4. 함수(Function)"
   ]
  },
  {
   "cell_type": "markdown",
   "metadata": {},
   "source": [
    "#### 4-1. 함수 선언과 호출\n",
    "````\n",
    "# 선언\n",
    "def function_name (<parameter>):\n",
    "    <code>\n",
    "    \n",
    "# 호출\n",
    "function_name(<argument>)\n",
    "````\n",
    "- parameter : 함수를 선언할때 호출하는 부분에서 보내주는 데이터를 받는 변수\n",
    "- argument : 함수를 호출할때 함수에 보내주는 데이터"
   ]
  },
  {
   "cell_type": "code",
   "execution_count": 45,
   "metadata": {},
   "outputs": [
    {
     "name": "stdout",
     "output_type": "stream",
     "text": [
      "11\n",
      "6\n",
      "5\n"
     ]
    },
    {
     "data": {
      "text/plain": [
       "(None, None, None)"
      ]
     },
     "execution_count": 45,
     "metadata": {},
     "output_type": "execute_result"
    }
   ],
   "source": [
    "def plus(num1, num2=10):      #parameter : num1, num2 = 10 -> num2의 default값: 10\n",
    "    print(num1 + num2)\n",
    "\n",
    "plus(1), plus(1,5), plus(1, num2 = 4) # argument 이름을 명시 -> kwargument"
   ]
  },
  {
   "cell_type": "markdown",
   "metadata": {},
   "source": [
    "#### 4-2. 리턴\n",
    "- 함수를 실행한 결과를 저장\n",
    "- return\n",
    "- return문이 실행되면 그 즉시 함수 실행 종료 -> return문 이하의 코드는 실행되지 않음"
   ]
  },
  {
   "cell_type": "code",
   "execution_count": 46,
   "metadata": {},
   "outputs": [
    {
     "data": {
      "text/plain": [
       "(6, 3)"
      ]
     },
     "execution_count": 46,
     "metadata": {},
     "output_type": "execute_result"
    }
   ],
   "source": [
    "def return_test(num1, num2, num3):\n",
    "    if num1 > num2 :\n",
    "        return num1\n",
    "    num = num1 + num2 + num3\n",
    "    return num\n",
    "\n",
    "return_test(1, 2, 3), return_test(3, 2, 1)"
   ]
  },
  {
   "cell_type": "markdown",
   "metadata": {},
   "source": [
    "#### 4-3. `*args, **kwargs`\n",
    "- 함수를 호출할때 아규먼트와 키워드 아규먼트의 갯수를 특정지을수 없을때 사용\n",
    "- `*args`는 튜플 데이터형으로 값 저장\n",
    "- `**kwargs`는 딕셔너리 데이터형으로 값 저장"
   ]
  },
  {
   "cell_type": "code",
   "execution_count": 47,
   "metadata": {},
   "outputs": [],
   "source": [
    "def plus(*args, **kwargs):\n",
    "    print(type(args),args)\n",
    "    print(type(kwargs), kwargs)\n",
    "    return sum(args) + sum(list(kwargs.values()))"
   ]
  },
  {
   "cell_type": "code",
   "execution_count": 48,
   "metadata": {},
   "outputs": [
    {
     "name": "stdout",
     "output_type": "stream",
     "text": [
      "<class 'tuple'> (1, 2, 3, 4, 5)\n",
      "<class 'dict'> {'num3': 5}\n"
     ]
    },
    {
     "data": {
      "text/plain": [
       "20"
      ]
     },
     "execution_count": 48,
     "metadata": {},
     "output_type": "execute_result"
    }
   ],
   "source": [
    "plus(1,2,3,4,5, num3 =5)"
   ]
  },
  {
   "cell_type": "markdown",
   "metadata": {},
   "source": [
    "#### 4-4. Docstirng\n",
    "- 함수 설명 작성\n",
    "````\n",
    "def echo(msg):\n",
    "    \"한줄의 Docstring 작성\"\n",
    "    \"\"\"\n",
    "    여러줄의 Docstring 내용 작성\n",
    "    \"\"\"\n",
    "    <code>\n",
    "````\n",
    "- Docstring 보는 법\n",
    "    - shift + tab\n",
    "    - (함수명)?\n",
    "    - (함수명)?? : 소스코드를 볼 수 있음\n",
    "    - help(함수명) : 함수의 docstring 부분이 출력\n",
    "    - print(함수명.doc) : 함수의 docstring 부분 출력"
   ]
  },
  {
   "cell_type": "markdown",
   "metadata": {},
   "source": [
    "#### 4-5. Scope : 범위\n",
    "- 함수 안에서 선언되는 변수와 함수 밖에서 선언되는 변수의 범위가 다름\n",
    "- global(전역), local(지역)\n",
    "- 지역 내에서 전역변수 선언 방법 -> global <변수명>"
   ]
  },
  {
   "cell_type": "markdown",
   "metadata": {},
   "source": [
    "#### 4-6. Inner Function\n",
    "- 함수가 지역영역에 선언, 함수 안에 함수가 선언\n",
    "````\n",
    "# inner function\n",
    "    def outer(a,b): \n",
    "        def inner(c,d):\n",
    "            return c + d\n",
    "        return inner(a, b)\n",
    "    outer(2, 3)\n",
    "````\n",
    "- callback function : 함수를 argument parameter로 설정해서 사용\n",
    "````\n",
    "# callback function\n",
    "    def calc(func, a, b):\n",
    "        return func(a, b)\n",
    "\n",
    "    def plus(a, b):\n",
    "        return a + b\n",
    "    \n",
    "    calc(plus, 12, 34)\n",
    "````"
   ]
  },
  {
   "cell_type": "markdown",
   "metadata": {},
   "source": [
    "#### 4-7. 람다함수\n",
    "- parameter를 간단한 계산으로 리턴하는 함수 : 삼항연산과 유사\n",
    "````\n",
    "def plus(a, b):\n",
    "    return a + b\n",
    "<함수명> = lambda <변수> : <연산식>\n",
    "````"
   ]
  },
  {
   "cell_type": "code",
   "execution_count": 52,
   "metadata": {},
   "outputs": [
    {
     "data": {
      "text/plain": [
       "10"
      ]
     },
     "execution_count": 52,
     "metadata": {},
     "output_type": "execute_result"
    }
   ],
   "source": [
    "# 리스트를 사용한 람다함수 활용\n",
    "ls = range(5)\n",
    "plus = lambda *args : sum(*args)\n",
    "plus(ls)"
   ]
  },
  {
   "cell_type": "markdown",
   "metadata": {},
   "source": [
    "#### 4-8. map, filter, reduce\n",
    "- map : 순서가 있는 데이터 집합에서 모든 값에 함수를 적용시킨 결과를 출력\n",
    "- filter : 리스트 데이터에서 특정 조건에 맞는 value만 남기는 함수\n",
    "- reduce : 리스트 데이터를 처음부터 순서대로 특정 함수를 실행하여 결과를 누적시켜주는 함수"
   ]
  },
  {
   "cell_type": "code",
   "execution_count": 57,
   "metadata": {},
   "outputs": [
    {
     "data": {
      "text/plain": [
       "['even', 'odd', 'even', 'odd', 'even']"
      ]
     },
     "execution_count": 57,
     "metadata": {},
     "output_type": "execute_result"
    }
   ],
   "source": [
    "# map\n",
    "ls = range(5)\n",
    "func = lambda data : 'odd' if data % 2 else 'even'\n",
    "\n",
    "list(map(func, ls))"
   ]
  },
  {
   "cell_type": "code",
   "execution_count": 59,
   "metadata": {},
   "outputs": [
    {
     "data": {
      "text/plain": [
       "[1, 3]"
      ]
     },
     "execution_count": 59,
     "metadata": {},
     "output_type": "execute_result"
    }
   ],
   "source": [
    "# filter\n",
    "func = lambda data: True if data %2 else False\n",
    "list(filter(func, ls))"
   ]
  },
  {
   "cell_type": "code",
   "execution_count": 60,
   "metadata": {},
   "outputs": [
    {
     "data": {
      "text/plain": [
       "15"
      ]
     },
     "execution_count": 60,
     "metadata": {},
     "output_type": "execute_result"
    }
   ],
   "source": [
    "# Reduce\n",
    "from functools import reduce\n",
    "ls = [3, 1, 2, 4, 5]\n",
    "reduce(lambda x, y : x + y, ls)"
   ]
  },
  {
   "cell_type": "markdown",
   "metadata": {},
   "source": [
    "#### 4-9. decorator\n",
    " - 함수에서 코드를 바꾸지 않고 기능을 추가하거나 수정하고 싶을때 사용하는 문법\n",
    " - 데코레이터의 사용\n",
    " ```\n",
    " def c(func):\n",
    "     def wraper(*args, **kwargs):\n",
    "         code_1\n",
    "         result = func(*args, **kwargs)\n",
    "         code_3\n",
    "         return result\n",
    "     return wraper\n",
    "     \n",
    " @c\n",
    " def a():\n",
    "     code_2\n",
    " @c\n",
    " def b():\n",
    "     code_4\n",
    " ```"
   ]
  },
  {
   "cell_type": "markdown",
   "metadata": {},
   "source": [
    "### 5. 클래스(Class)\n",
    "- 변수와 함수를 모아서 사용하는 문법\n",
    "- 객체지향을 구현하기 위해 만든 문법\n",
    "    - 객체지향 : 실제세계를 반영해서 코드를 작성하는 방법\n",
    "    - 여러명이 개발할때 효율적으로 코드를 작성할수 있도록 하는 개념\n",
    "- 클래스의 선언 -> 객체생성 -> 객체의 함수 사용"
   ]
  },
  {
   "cell_type": "markdown",
   "metadata": {},
   "source": [
    "#### 5-1. 클래스 구조\n",
    "````\n",
    "class Data:\n",
    "    \n",
    "    def __init__(self, num1, num2):\n",
    "        self.num1 = num1\n",
    "        self.num2 = num2\n",
    "\n",
    "        \n",
    "    def disp(self):\n",
    "        print(self.num1, self.num2)\n",
    "````"
   ]
  },
  {
   "cell_type": "markdown",
   "metadata": {},
   "source": [
    "####  5-2. 생성자\n",
    "- 클래스가 객체로 생성될때 실행되는 함수\n",
    "- 변수(재료)를 추가할때 사용\n",
    "````\n",
    "생성자 함수 : __init__\n",
    "````"
   ]
  },
  {
   "cell_type": "markdown",
   "metadata": {},
   "source": [
    "#### 5-3. 상속\n",
    "- 클래스의 기능을 가져다가 기능을 수적하거나 추가할때 사용하는 방법\n",
    "````\n",
    "    class Calculator :\n",
    "        def __init__(self, num1, num2):\n",
    "            self.num1 = num1\n",
    "            self.num2 = num2\n",
    "        \n",
    "        def plus(self):\n",
    "            return self.num1 + self.num2\n",
    "    \n",
    "    # 상속을 사용하여 class 함수 추가\n",
    "    class Calculator2(Calculator):\n",
    "        def minus(self):\n",
    "            return self.num1 - self.num2\n",
    "````\n",
    "- 메서드 오버라이딩\n",
    "````\n",
    "class Calculator4(Calculator2):\n",
    "    def plus(self):\n",
    "        return self.num1**2 + self.num2**3\n",
    "````"
   ]
  },
  {
   "cell_type": "markdown",
   "metadata": {},
   "source": [
    "#### 5-4. super\n",
    "- 부모 클래스에서 사용된 함수의 코드를 가져다가 자식 클래스의 함수에서 재사용할때\n",
    "````\n",
    "    class A:\n",
    "        def plus(self):\n",
    "            code1\n",
    "\n",
    "    class B(A):\n",
    "        def minus(self):\n",
    "            code1      # super().plus()\n",
    "            code2\n",
    "````"
   ]
  },
  {
   "cell_type": "markdown",
   "metadata": {},
   "source": [
    "#### 5-5. getter, setter\n",
    "- 객체의 변수에 접근할때 함수로 접근하도록하기 위한 문법\n",
    "````\n",
    "class Car:\n",
    "    \n",
    "    def __init__(self, init_speed = 0):\n",
    "        self.speed = init_speed\n",
    "        self.__max_speed = 200\n",
    "        \n",
    "    def add_speed(self, speed):\n",
    "        self.speed += speed\n",
    "        if self.speed > self.__max_speed :\n",
    "            self.speed = 200\n",
    "    \n",
    "    def setter(self, max_speed):\n",
    "        if max_speed > 200:\n",
    "            print('less than 200')\n",
    "        else:\n",
    "            self.__max_speed = max_speed\n",
    "    \n",
    "    def getter(self):\n",
    "        print(self.__max_speed, 'km/h')\n",
    "    \n",
    "    def disp(self):\n",
    "        print(self.speed, self.__max_speed)\n",
    "        \n",
    "    max_speed = property(getter, setter)\n",
    "````"
   ]
  },
  {
   "cell_type": "markdown",
   "metadata": {},
   "source": [
    "### 6. 모듈(Module)"
   ]
  },
  {
   "cell_type": "code",
   "execution_count": null,
   "metadata": {},
   "outputs": [],
   "source": []
  },
  {
   "cell_type": "code",
   "execution_count": null,
   "metadata": {},
   "outputs": [],
   "source": []
  },
  {
   "cell_type": "markdown",
   "metadata": {},
   "source": [
    "### 7. 패키지(Package)"
   ]
  },
  {
   "cell_type": "code",
   "execution_count": null,
   "metadata": {},
   "outputs": [],
   "source": []
  },
  {
   "cell_type": "code",
   "execution_count": null,
   "metadata": {},
   "outputs": [],
   "source": []
  },
  {
   "cell_type": "markdown",
   "metadata": {},
   "source": [
    "### 8. 예외처리(Exception)"
   ]
  },
  {
   "cell_type": "code",
   "execution_count": null,
   "metadata": {},
   "outputs": [],
   "source": []
  },
  {
   "cell_type": "code",
   "execution_count": null,
   "metadata": {},
   "outputs": [],
   "source": []
  },
  {
   "cell_type": "markdown",
   "metadata": {},
   "source": [
    "### 9. 입출력(IO)"
   ]
  },
  {
   "cell_type": "code",
   "execution_count": null,
   "metadata": {},
   "outputs": [],
   "source": []
  },
  {
   "cell_type": "code",
   "execution_count": null,
   "metadata": {},
   "outputs": [],
   "source": []
  },
  {
   "cell_type": "markdown",
   "metadata": {},
   "source": [
    "### 10. 정규 표현식(Regex)\n",
    "- 문자열 데이터를 특정 패턴으로 처리하는 문법\n",
    "- 함수\n",
    "    - findall : 일치하는 패턴을 모두 찾기\n",
    "    - sub : 특정 패턴을 찾아서 문자열을 치환\n",
    "- 패턴\n",
    "    - 문자 : `[]`\n",
    "    - 범위 : `-`\n",
    "    - 문자 하나 : `.`\n",
    "    - 0회 1회 반복 : `?`\n",
    "    - 0회 이상 반복 : `*`\n",
    "    - 1회 이상 반복 : `+`\n",
    "    - m회 반복 : `{m}`\n",
    "    - m~n회 반복 : `{m, n}`\n",
    "    - 그룹핑 : `()`"
   ]
  },
  {
   "cell_type": "code",
   "execution_count": 62,
   "metadata": {},
   "outputs": [
    {
     "data": {
      "text/plain": [
       "[('abcd1234', 'gmail'), ('1234abcd', 'naver')]"
      ]
     },
     "execution_count": 62,
     "metadata": {},
     "output_type": "execute_result"
    }
   ],
   "source": [
    "# 이메일 찾기\n",
    "import re\n",
    "data = \"저의 이메일 주소는 abcd1234@gmail.com 과 1234abcd@naver.com을 사용합니다.\"\n",
    "pattern = \"([a-zA-Z0-9._]+)@([a-z0-9]+)[a-z0-9.]+\"\n",
    "re.findall(pattern, data)"
   ]
  },
  {
   "cell_type": "code",
   "execution_count": 69,
   "metadata": {},
   "outputs": [
    {
     "data": {
      "text/plain": [
       "['011211-1098765']"
      ]
     },
     "execution_count": 69,
     "metadata": {},
     "output_type": "execute_result"
    }
   ],
   "source": [
    "# 주민등록번호 패턴을 찾아서 치환\n",
    "data = \"저의 주민등록번호는 011211-1098765 입니다.\"\n",
    "re.findall(\"[0-9]{6}.?[1-4]{1}[0-9]{6}\", data)"
   ]
  },
  {
   "cell_type": "code",
   "execution_count": 70,
   "metadata": {},
   "outputs": [
    {
     "data": {
      "text/plain": [
       "'저의 주민등록번호는 011211-1****** 입니다.'"
      ]
     },
     "execution_count": 70,
     "metadata": {},
     "output_type": "execute_result"
    }
   ],
   "source": [
    "re.sub(\"([0-9]{6}.?[1-4]{1})([0-9]{6})\", \"\\g<1>******\" , data)"
   ]
  },
  {
   "cell_type": "code",
   "execution_count": 71,
   "metadata": {},
   "outputs": [
    {
     "name": "stdout",
     "output_type": "stream",
     "text": [
      "저의 연락처는 공일0-칠영19오O삼7 입니다.\n",
      "저의 연락처는 010-7019-5037 입니다.\n"
     ]
    }
   ],
   "source": [
    "# 저의 연락처는 공일0-칠영19오O삼7 입니다. -> 010-7019-5037\n",
    "datas = '저의 연락처는 공일0-칠영19오O삼7 입니다.'\n",
    "pattern = '([공영일이삼사오육칠팔구0-9O]{3})(.?)([공영일이삼사오육칠팔구0-9O]{4})(.?)([공영일이삼사오육칠팔구0-9O]{4})'\n",
    "new_data = re.findall(pattern, datas)\n",
    "result = \"\".join(new_data[0])\n",
    "trans_result = []\n",
    "\n",
    "num_ls1 = ['영', '일', '이', '삼', '사', '오', '육', '칠', '팔', '구', '공', 'O',\n",
    "          '0', '1', '2', '3', '4', '5', '6', '7', '8', '9']\n",
    "num_ls2 = ['0', '1', '2', '3', '4', '5', '6', '7', '8', '9', '0', '0',\n",
    "           '0', '1', '2', '3', '4', '5', '6', '7', '8', '9']\n",
    "num_dic = dict(zip(num_ls1, num_ls2))\n",
    "\n",
    "for x in range(len(result)):\n",
    "    for data in num_dic:\n",
    "        if result[x] == data :\n",
    "            trans_result.append(num_dic[data])\n",
    "        \n",
    "text = \"\".join(trans_result)\n",
    "pattern_2 = '([0-9]{3})(.?)([0-9]{4})(.?)([0-9]{4})'\n",
    "text = re.sub(pattern, '\\g<1>-\\g<3>-\\g<5>', text)\n",
    "\n",
    "new_data = re.sub(pattern,text ,datas)\n",
    "print(datas)\n",
    "print(new_data)"
   ]
  },
  {
   "cell_type": "markdown",
   "metadata": {},
   "source": [
    "### 11. Numpy\n",
    "- 데이터는 행렬로 표현\n",
    "- 행렬 데이터를 빠르게 계산해야함\n",
    "- 행렬 데이터 생성, 수정, 계산 등을 빠르게 처리해주는 패키지"
   ]
  },
  {
   "cell_type": "markdown",
   "metadata": {},
   "source": [
    "#### 11-1. 행렬 데이터 생성"
   ]
  },
  {
   "cell_type": "code",
   "execution_count": 76,
   "metadata": {},
   "outputs": [
    {
     "data": {
      "text/plain": [
       "(numpy.ndarray, array([1, 2, 3]))"
      ]
     },
     "execution_count": 76,
     "metadata": {},
     "output_type": "execute_result"
    }
   ],
   "source": [
    "# 행렬 데이터 생성\n",
    "# ndarray 타입 : 한가지 데이터 타입만 값으로 사용이 가능\n",
    "array = np.array([1,2,3])\n",
    "type(array),array"
   ]
  },
  {
   "cell_type": "code",
   "execution_count": 82,
   "metadata": {},
   "outputs": [
    {
     "data": {
      "text/plain": [
       "(array([[1, 2, 3],\n",
       "        [4, 5, 6]]),\n",
       " 2,\n",
       " (2, 3))"
      ]
     },
     "execution_count": 82,
     "metadata": {},
     "output_type": "execute_result"
    }
   ],
   "source": [
    "# ndim = 행렬의 차원\n",
    "# shape = 행렬 모양 : n x m\n",
    "array2 = np.array([[1,2,3],\n",
    "                  [4,5,6]])\n",
    "array2, array2.ndim, array2.shape"
   ]
  },
  {
   "cell_type": "code",
   "execution_count": 78,
   "metadata": {},
   "outputs": [
    {
     "data": {
      "text/plain": [
       "array([[1, 2, 3, 4, 5, 6]])"
      ]
     },
     "execution_count": 78,
     "metadata": {},
     "output_type": "execute_result"
    }
   ],
   "source": [
    "# 행렬 모양(shape) 변경\n",
    "# reshape(*args) - argument의 값들의 곱이 같아야 변경 가능\n",
    "array2.reshape(1,6)"
   ]
  },
  {
   "cell_type": "code",
   "execution_count": 79,
   "metadata": {},
   "outputs": [
    {
     "data": {
      "text/plain": [
       "array([[1],\n",
       "       [2],\n",
       "       [3],\n",
       "       [4],\n",
       "       [5],\n",
       "       [6]])"
      ]
     },
     "execution_count": 79,
     "metadata": {},
     "output_type": "execute_result"
    }
   ],
   "source": [
    "array2.reshape(6,1)"
   ]
  },
  {
   "cell_type": "code",
   "execution_count": 80,
   "metadata": {},
   "outputs": [
    {
     "data": {
      "text/plain": [
       "array([6, 5, 4])"
      ]
     },
     "execution_count": 80,
     "metadata": {},
     "output_type": "execute_result"
    }
   ],
   "source": [
    "# 행렬 데이터의 선택 : offset index\n",
    "# masking\n",
    "array2[1][::-1]"
   ]
  },
  {
   "cell_type": "code",
   "execution_count": 81,
   "metadata": {},
   "outputs": [
    {
     "data": {
      "text/plain": [
       "6"
      ]
     },
     "execution_count": 81,
     "metadata": {},
     "output_type": "execute_result"
    }
   ],
   "source": [
    "array2[1,2] # array2[1][2]"
   ]
  },
  {
   "cell_type": "code",
   "execution_count": 83,
   "metadata": {},
   "outputs": [
    {
     "data": {
      "text/plain": [
       "array([[ 1,  2,  3],\n",
       "       [ 4,  5, 10]])"
      ]
     },
     "execution_count": 83,
     "metadata": {},
     "output_type": "execute_result"
    }
   ],
   "source": [
    "# 데이터 수정\n",
    "array2[1][2] = 10\n",
    "array2"
   ]
  },
  {
   "cell_type": "markdown",
   "metadata": {},
   "source": [
    "#### 11-2. 브로드캐스팅"
   ]
  },
  {
   "cell_type": "code",
   "execution_count": 84,
   "metadata": {},
   "outputs": [
    {
     "data": {
      "text/plain": [
       "array([[ 7,  8,  9],\n",
       "       [ 4,  5, 10]])"
      ]
     },
     "execution_count": 84,
     "metadata": {},
     "output_type": "execute_result"
    }
   ],
   "source": [
    "# 브로드 캐스팅\n",
    "array2[0] = [7, 8, 9]\n",
    "array2"
   ]
  },
  {
   "cell_type": "code",
   "execution_count": 87,
   "metadata": {},
   "outputs": [
    {
     "data": {
      "text/plain": [
       "array([[  7, 100, 100],\n",
       "       [  4,   5, 100]])"
      ]
     },
     "execution_count": 87,
     "metadata": {},
     "output_type": "execute_result"
    }
   ],
   "source": [
    "# 조건으로 선택\n",
    "idx = array2 > 7\n",
    "array2[idx] = 100\n",
    "array2"
   ]
  },
  {
   "cell_type": "markdown",
   "metadata": {},
   "source": [
    "#### 11-3. linspace, logspace\n",
    "- linspace : 설정한 범위에서 선형적으로 분할한 위치의 값을 출력\n",
    "- logsapce : 설정한 범위에서 로그로 분할한 위치의 값을 출력"
   ]
  },
  {
   "cell_type": "code",
   "execution_count": 89,
   "metadata": {},
   "outputs": [
    {
     "data": {
      "text/plain": [
       "(array([  0.,  25.,  50.,  75., 100.]), array([  100.,  1000., 10000.]))"
      ]
     },
     "execution_count": 89,
     "metadata": {},
     "output_type": "execute_result"
    }
   ],
   "source": [
    "np.linspace(0,100,5), np.logspace(2, 4, 3)"
   ]
  },
  {
   "cell_type": "markdown",
   "metadata": {},
   "source": [
    "#### 11-4. numpy random\n",
    "- seed : 랜덤값을 설정값\n",
    "- rand : 균등분포로 난수 발생\n",
    "- randn : 정규분포로 난수 발생\n",
    "- randint : 균등분포로 정수값 발생\n",
    "- suffle : 행렬 데이터를 섞어줌\n",
    "- choice : 특정 확률로 데이터를 선택"
   ]
  },
  {
   "cell_type": "code",
   "execution_count": 90,
   "metadata": {},
   "outputs": [
    {
     "data": {
      "text/plain": [
       "(array([47, 22, 82, 19, 85, 15, 89, 74, 26, 11]),\n",
       " array([47, 22, 82, 19, 85, 15, 89, 74, 26, 11]),\n",
       " array([50, 25, 82, 32, 53, 92, 85, 17, 44, 59]))"
      ]
     },
     "execution_count": 90,
     "metadata": {},
     "output_type": "execute_result"
    }
   ],
   "source": [
    "# seed\n",
    "np.random.seed(1)\n",
    "result1 = np.random.randint(10, 100, 10)\n",
    "\n",
    "np.random.seed(1)\n",
    "result2 = np.random.randint(10, 100, 10)\n",
    "\n",
    "np.random.seed(2)\n",
    "result3 = np.random.randint(10, 100, 10)\n",
    "\n",
    "result1, result2, result3"
   ]
  },
  {
   "cell_type": "code",
   "execution_count": 91,
   "metadata": {},
   "outputs": [
    {
     "data": {
      "text/plain": [
       "array([0.20464863, 0.61927097, 0.29965467, 0.26682728, 0.62113383,\n",
       "       0.52914209, 0.13457995, 0.51357812, 0.18443987, 0.78533515])"
      ]
     },
     "execution_count": 91,
     "metadata": {},
     "output_type": "execute_result"
    }
   ],
   "source": [
    "np.random.rand(10)"
   ]
  },
  {
   "cell_type": "code",
   "execution_count": 95,
   "metadata": {},
   "outputs": [
    {
     "data": {
      "text/plain": [
       "array([[7, 7, 4, 9],\n",
       "       [3, 2, 5, 9],\n",
       "       [2, 7, 6, 2]])"
      ]
     },
     "execution_count": 95,
     "metadata": {},
     "output_type": "execute_result"
    }
   ],
   "source": [
    "# shuffle\n",
    "r = np.random.randint(1, 10, (3, 4))\n",
    "r"
   ]
  },
  {
   "cell_type": "code",
   "execution_count": 97,
   "metadata": {},
   "outputs": [
    {
     "data": {
      "text/plain": [
       "array([[3, 2, 5, 9],\n",
       "       [7, 7, 4, 9],\n",
       "       [2, 7, 6, 2]])"
      ]
     },
     "execution_count": 97,
     "metadata": {},
     "output_type": "execute_result"
    }
   ],
   "source": [
    "np.random.shuffle(r)\n",
    "r"
   ]
  },
  {
   "cell_type": "code",
   "execution_count": 98,
   "metadata": {},
   "outputs": [
    {
     "data": {
      "text/plain": [
       "array([[7, 9, 2, 6],\n",
       "       [3, 2, 9, 5],\n",
       "       [2, 7, 7, 4]])"
      ]
     },
     "execution_count": 98,
     "metadata": {},
     "output_type": "execute_result"
    }
   ],
   "source": [
    "# 가장 바깥쪽 차원의 값만 바뀜 (행 단위로 섞임)\n",
    "# 모두 바꾸고 싶은 경우\n",
    "# reshape사용 -> 1차원으로 변환 suffle -> 기존 차원으로 다시 reshape\n",
    "r2 = r.reshape(12)\n",
    "np.random.shuffle(r2)\n",
    "r2.reshape(3, 4)"
   ]
  },
  {
   "cell_type": "code",
   "execution_count": 99,
   "metadata": {},
   "outputs": [
    {
     "data": {
      "text/plain": [
       "array([1, 2, 3, 2, 2, 3, 2, 2, 1, 3])"
      ]
     },
     "execution_count": 99,
     "metadata": {},
     "output_type": "execute_result"
    }
   ],
   "source": [
    "# choice\n",
    "np.random.choice(5, 10, p =[0.1, 0.4, 0.3, 0.2, 0])"
   ]
  },
  {
   "cell_type": "code",
   "execution_count": 101,
   "metadata": {},
   "outputs": [
    {
     "name": "stdout",
     "output_type": "stream",
     "text": [
      "[2 3 4 5 6 7 9]\n",
      "[3 1 1 1 1 3 2]\n"
     ]
    }
   ],
   "source": [
    "# unique\n",
    "numbers, counts = np.unique(r, return_counts = True)\n",
    "print(numbers)\n",
    "print(counts)\n"
   ]
  },
  {
   "cell_type": "markdown",
   "metadata": {},
   "source": [
    "#### 11-5. 행렬 데이터의 결합\n",
    "- concatenate"
   ]
  },
  {
   "cell_type": "code",
   "execution_count": 102,
   "metadata": {},
   "outputs": [],
   "source": [
    "na1 = np.random.randint(10, size = (2,3))\n",
    "na2 = np.random.randint(10, size = (3,2))\n",
    "na3 = np.random.randint(10, size = (3,3))"
   ]
  },
  {
   "cell_type": "code",
   "execution_count": 103,
   "metadata": {},
   "outputs": [
    {
     "data": {
      "text/plain": [
       "array([[3, 6, 1],\n",
       "       [4, 0, 8],\n",
       "       [9, 2, 1],\n",
       "       [0, 7, 1],\n",
       "       [8, 9, 0]])"
      ]
     },
     "execution_count": 103,
     "metadata": {},
     "output_type": "execute_result"
    }
   ],
   "source": [
    "# 세로 결합\n",
    "np.concatenate((na1,na3))"
   ]
  },
  {
   "cell_type": "code",
   "execution_count": 104,
   "metadata": {},
   "outputs": [
    {
     "data": {
      "text/plain": [
       "array([[5, 4, 9, 2, 1],\n",
       "       [2, 9, 0, 7, 1],\n",
       "       [7, 1, 8, 9, 0]])"
      ]
     },
     "execution_count": 104,
     "metadata": {},
     "output_type": "execute_result"
    }
   ],
   "source": [
    "# 가로 결합\n",
    "# 함수의 axis 값을 항상 확인하고 사용 \n",
    "# axis = 축, axis = 0 -> 세로, axis = 1 -> 가로\n",
    "np.concatenate((na2, na3), axis =1)"
   ]
  },
  {
   "cell_type": "code",
   "execution_count": 105,
   "metadata": {},
   "outputs": [
    {
     "data": {
      "text/plain": [
       "array([[1, 4],\n",
       "       [2, 5],\n",
       "       [3, 6]])"
      ]
     },
     "execution_count": 105,
     "metadata": {},
     "output_type": "execute_result"
    }
   ],
   "source": [
    "# c_, r_\n",
    "np.c_[np.array([1, 2, 3]), np.array([4, 5, 6])]"
   ]
  },
  {
   "cell_type": "code",
   "execution_count": 106,
   "metadata": {},
   "outputs": [
    {
     "data": {
      "text/plain": [
       "array([[1, 4, 7],\n",
       "       [2, 5, 8],\n",
       "       [3, 6, 9]])"
      ]
     },
     "execution_count": 106,
     "metadata": {},
     "output_type": "execute_result"
    }
   ],
   "source": [
    "np.r_['1, 2, 0', np.array([1, 2, 3]), np.array([4, 5, 6]), np.array([7, 8, 9])]"
   ]
  },
  {
   "cell_type": "markdown",
   "metadata": {},
   "source": [
    "### 12. Pandas\n",
    "- 데이터 타입\n",
    "    - Series : index와 value로 이루어진 데이터 타입\n",
    "    - DataFrame : index, column, value로 이루어진 데이터 타입\n",
    "        - column은 index와 value 모두 포함 -> column 한줄이 하나의 Series"
   ]
  },
  {
   "cell_type": "markdown",
   "metadata": {},
   "source": [
    "#### 12-1. Series\n",
    "- Series는 동일한 데이터 타입을 가짐(ndarray와 동일)"
   ]
  },
  {
   "cell_type": "code",
   "execution_count": 107,
   "metadata": {},
   "outputs": [
    {
     "data": {
      "text/plain": [
       "0    7\n",
       "1    0\n",
       "2    5\n",
       "3    2\n",
       "4    5\n",
       "dtype: int32"
      ]
     },
     "execution_count": 107,
     "metadata": {},
     "output_type": "execute_result"
    }
   ],
   "source": [
    "# Serise : value만 설정하면 index는 0부터 자동으로 설정\n",
    "data = pd.Series(np.random.randint(10, size=5))\n",
    "data"
   ]
  },
  {
   "cell_type": "code",
   "execution_count": 108,
   "metadata": {},
   "outputs": [
    {
     "data": {
      "text/plain": [
       "A    7\n",
       "B    0\n",
       "C    5\n",
       "D    2\n",
       "E    5\n",
       "dtype: int32"
      ]
     },
     "execution_count": 108,
     "metadata": {},
     "output_type": "execute_result"
    }
   ],
   "source": [
    "# index 설정\n",
    "data.index= list(\"ABCDE\")\n",
    "data"
   ]
  },
  {
   "cell_type": "code",
   "execution_count": 109,
   "metadata": {},
   "outputs": [
    {
     "data": {
      "text/plain": [
       "(Index(['A', 'B', 'C', 'D', 'E'], dtype='object'), array([7, 0, 5, 2, 5]))"
      ]
     },
     "execution_count": 109,
     "metadata": {},
     "output_type": "execute_result"
    }
   ],
   "source": [
    "# data.index : Series의 인덱스 모두 호출\n",
    "# data.values : Series의 value값 모두 호출\n",
    "data.index, data.values"
   ]
  },
  {
   "cell_type": "code",
   "execution_count": 110,
   "metadata": {},
   "outputs": [
    {
     "data": {
      "text/plain": [
       "10"
      ]
     },
     "execution_count": 110,
     "metadata": {},
     "output_type": "execute_result"
    }
   ],
   "source": [
    "# index가 value값의 key값임\n",
    "# 특정 인덱스의 데이터 호출 및 변환\n",
    "data['C'] = 10\n",
    "data['C']"
   ]
  },
  {
   "cell_type": "code",
   "execution_count": 111,
   "metadata": {},
   "outputs": [
    {
     "data": {
      "text/plain": [
       "A     70\n",
       "B      0\n",
       "C    100\n",
       "D     20\n",
       "E     50\n",
       "dtype: int32"
      ]
     },
     "execution_count": 111,
     "metadata": {},
     "output_type": "execute_result"
    }
   ],
   "source": [
    "# 브로드캐스팅 및 오프셋 인덱스 모두 list와 유사\n",
    "data * 10"
   ]
  },
  {
   "cell_type": "markdown",
   "metadata": {},
   "source": [
    "#### 12-2. Series 연산\n",
    "- 같은 index끼리만 연산되며 둘중 하나라도 값이 없을 경우 NaN 반환\n",
    "- .isnull() : value 값이 null인 경우 True"
   ]
  },
  {
   "cell_type": "code",
   "execution_count": 112,
   "metadata": {},
   "outputs": [
    {
     "data": {
      "text/plain": [
       "D    3\n",
       "E    5\n",
       "F    7\n",
       "dtype: int64"
      ]
     },
     "execution_count": 112,
     "metadata": {},
     "output_type": "execute_result"
    }
   ],
   "source": [
    "data2 = pd.Series({\"D\":3, \"E\":5, \"F\":7})\n",
    "data2"
   ]
  },
  {
   "cell_type": "code",
   "execution_count": 113,
   "metadata": {},
   "outputs": [
    {
     "data": {
      "text/plain": [
       "A     NaN\n",
       "B     NaN\n",
       "C     NaN\n",
       "D     5.0\n",
       "E    10.0\n",
       "F     NaN\n",
       "dtype: float64"
      ]
     },
     "execution_count": 113,
     "metadata": {},
     "output_type": "execute_result"
    }
   ],
   "source": [
    "result = data + data2\n",
    "result"
   ]
  },
  {
   "cell_type": "code",
   "execution_count": 114,
   "metadata": {},
   "outputs": [
    {
     "data": {
      "text/plain": [
       "A     True\n",
       "B     True\n",
       "C     True\n",
       "D    False\n",
       "E    False\n",
       "F     True\n",
       "dtype: bool"
      ]
     },
     "execution_count": 114,
     "metadata": {},
     "output_type": "execute_result"
    }
   ],
   "source": [
    "result.isnull()"
   ]
  },
  {
   "cell_type": "code",
   "execution_count": 119,
   "metadata": {},
   "outputs": [
    {
     "data": {
      "text/plain": [
       "A     7.0\n",
       "B     0.0\n",
       "C    10.0\n",
       "D     5.0\n",
       "E    10.0\n",
       "F     7.0\n",
       "dtype: float64"
      ]
     },
     "execution_count": 119,
     "metadata": {},
     "output_type": "execute_result"
    }
   ],
   "source": [
    "# value 값이 true인 것만 result에서 출력\n",
    "# 마스킹\n",
    "result[result.isnull()] = data\n",
    "result[result.isnull()] = data2\n",
    "result"
   ]
  },
  {
   "cell_type": "markdown",
   "metadata": {},
   "source": [
    "#### 12-3. DataFrame\n",
    "- 데이터 프레임 생성 1: 딕셔너리의 리스트\n",
    "````\n",
    "datas = {\n",
    "    \"name\":['dss', 'fastcamp'],\n",
    "    \"email\":['dss@gmail.com', 'fastcamp.net'],\n",
    "}\n",
    "````\n",
    "- 데이터 프레임 생성 2: 리스트의 딕셔너리\n",
    "````\n",
    "datas = [\n",
    "    {'name':'dss','email':'dss@gmail.com'},\n",
    "    {'name':'fcamp','email':'fcamp@facamp.net'}\n",
    "]\n",
    "````\n",
    "- .columns : 데이터 프레임의 column이름 리스트\n",
    "- .values : 데이터 프레임의 데이터 리스트\n",
    "- .head : 상위 N개의 데이터 출력 default = 5\n",
    "- .tail : 하위 N개의 데이터 출력 default = 5"
   ]
  },
  {
   "cell_type": "code",
   "execution_count": 126,
   "metadata": {},
   "outputs": [
    {
     "data": {
      "text/html": [
       "<div>\n",
       "<style scoped>\n",
       "    .dataframe tbody tr th:only-of-type {\n",
       "        vertical-align: middle;\n",
       "    }\n",
       "\n",
       "    .dataframe tbody tr th {\n",
       "        vertical-align: top;\n",
       "    }\n",
       "\n",
       "    .dataframe thead th {\n",
       "        text-align: right;\n",
       "    }\n",
       "</style>\n",
       "<table border=\"1\" class=\"dataframe\">\n",
       "  <thead>\n",
       "    <tr style=\"text-align: right;\">\n",
       "      <th></th>\n",
       "      <th>name</th>\n",
       "      <th>email</th>\n",
       "    </tr>\n",
       "  </thead>\n",
       "  <tbody>\n",
       "    <tr>\n",
       "      <th>0</th>\n",
       "      <td>dss</td>\n",
       "      <td>dss@gmail.com</td>\n",
       "    </tr>\n",
       "    <tr>\n",
       "      <th>1</th>\n",
       "      <td>fastcamp</td>\n",
       "      <td>fastcamp.net</td>\n",
       "    </tr>\n",
       "  </tbody>\n",
       "</table>\n",
       "</div>"
      ],
      "text/plain": [
       "       name          email\n",
       "0       dss  dss@gmail.com\n",
       "1  fastcamp   fastcamp.net"
      ]
     },
     "execution_count": 126,
     "metadata": {},
     "output_type": "execute_result"
    }
   ],
   "source": [
    "datas = {\n",
    "  \"name\":['dss', 'fastcamp'],\n",
    "  \"email\":['dss@gmail.com', 'fastcamp.net'],\n",
    "}\n",
    "df = pd.DataFrame(datas)\n",
    "df"
   ]
  },
  {
   "cell_type": "code",
   "execution_count": 127,
   "metadata": {},
   "outputs": [
    {
     "data": {
      "text/html": [
       "<div>\n",
       "<style scoped>\n",
       "    .dataframe tbody tr th:only-of-type {\n",
       "        vertical-align: middle;\n",
       "    }\n",
       "\n",
       "    .dataframe tbody tr th {\n",
       "        vertical-align: top;\n",
       "    }\n",
       "\n",
       "    .dataframe thead th {\n",
       "        text-align: right;\n",
       "    }\n",
       "</style>\n",
       "<table border=\"1\" class=\"dataframe\">\n",
       "  <thead>\n",
       "    <tr style=\"text-align: right;\">\n",
       "      <th></th>\n",
       "      <th>name</th>\n",
       "      <th>email</th>\n",
       "    </tr>\n",
       "  </thead>\n",
       "  <tbody>\n",
       "    <tr>\n",
       "      <th>1</th>\n",
       "      <td>dss</td>\n",
       "      <td>dss@gmail.com</td>\n",
       "    </tr>\n",
       "    <tr>\n",
       "      <th>2</th>\n",
       "      <td>fastcamp</td>\n",
       "      <td>fastcamp.net</td>\n",
       "    </tr>\n",
       "  </tbody>\n",
       "</table>\n",
       "</div>"
      ],
      "text/plain": [
       "       name          email\n",
       "1       dss  dss@gmail.com\n",
       "2  fastcamp   fastcamp.net"
      ]
     },
     "execution_count": 127,
     "metadata": {},
     "output_type": "execute_result"
    }
   ],
   "source": [
    "# 인덱스 추가\n",
    "datas = pd.DataFrame(datas, index = range(1,3))\n",
    "datas"
   ]
  },
  {
   "cell_type": "code",
   "execution_count": 130,
   "metadata": {},
   "outputs": [
    {
     "data": {
      "text/plain": [
       "Index(['name', 'email'], dtype='object')"
      ]
     },
     "execution_count": 130,
     "metadata": {},
     "output_type": "execute_result"
    }
   ],
   "source": [
    "df.columns"
   ]
  },
  {
   "cell_type": "code",
   "execution_count": 135,
   "metadata": {},
   "outputs": [
    {
     "data": {
      "text/plain": [
       "'fastcamp.net'"
      ]
     },
     "execution_count": 135,
     "metadata": {},
     "output_type": "execute_result"
    }
   ],
   "source": [
    "# 데이터 프레임에서 데이터의 선택 : row, column, (row, column)\n",
    "# 2행의 email 컬럼의 데이터 출력\n",
    "# index가 있으면 수정, 없으면 추가\n",
    "# column이 없으면 새로운 column 추가\n",
    "df.loc[1]['email']"
   ]
  },
  {
   "cell_type": "markdown",
   "metadata": {},
   "source": [
    "#### 12-4. apply\n",
    "- map 함수와 유사\n",
    "````\n",
    "    def domain(email):\n",
    "        # split[0] 스플릿 기준 앞의 문자열, [1] 뒤의 문자열\n",
    "        return email.split(\"@\")[1].split(\".\")[0]      \n",
    "\n",
    "    df[\"domain\"] = df[\"email\"].apply(domain)\n",
    "````\n"
   ]
  },
  {
   "cell_type": "markdown",
   "metadata": {},
   "source": [
    "#### 12-5. append\n",
    "- 데이터프레임 합치기\n",
    "- df.append(df, ignore_index = True) -> ignore_index = True : 자동 인덱스 정렬\n",
    "````\n",
    "    df3 = df1.append(df2)\n",
    "````\n",
    "- reset_index()만 실행했을 경우 재정렬된 객체값만 존재\n",
    "- drop = True -> 기존의 index를 제외하고 결과만 출력해줌\n",
    "- inplace = True 객체에 바뀐 내용을 저장하고 출력\n",
    "````\n",
    "    df3.reset_index(drop=True, inplace=True)\n",
    "````"
   ]
  },
  {
   "cell_type": "markdown",
   "metadata": {},
   "source": [
    "#### 12-6. concat\n",
    "- row나 column으로 데이터 프레임을 합칠때 사용"
   ]
  },
  {
   "cell_type": "code",
   "execution_count": null,
   "metadata": {},
   "outputs": [],
   "source": []
  }
 ],
 "metadata": {
  "kernelspec": {
   "display_name": "Python 3",
   "language": "python",
   "name": "python3"
  },
  "language_info": {
   "codemirror_mode": {
    "name": "ipython",
    "version": 3
   },
   "file_extension": ".py",
   "mimetype": "text/x-python",
   "name": "python",
   "nbconvert_exporter": "python",
   "pygments_lexer": "ipython3",
   "version": "3.7.6"
  }
 },
 "nbformat": 4,
 "nbformat_minor": 4
}
