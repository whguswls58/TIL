{
 "cells": [
  {
   "cell_type": "markdown",
   "metadata": {},
   "source": [
    "###  1. HTML\n",
    "- 웹 문서를 작성하는 마크업 언어(시작 포맷과 끝 포맷이 있는 언어)\n",
    "- 구성요소\n",
    "    - Documnet : 한페이지를 구성하는 HTML 전부\n",
    "    - Element : 하나의 요소를 표현하는 단위 : Tag, Attr, Text 포함\n",
    "    - Tag : 시작태그와 끝태그가 있으며 시작과 끝태그를 합쳐서 element가 됨\n",
    "    - Attribute : 시작태그에 태그의 속성값을 설정\n",
    "        - id, class, attr\n",
    "    - Text : 시작태그와 끝태그 사이에 있는 문자열"
   ]
  },
  {
   "cell_type": "code",
   "execution_count": 2,
   "metadata": {},
   "outputs": [
    {
     "data": {
      "text/html": [
       "<div class=\"wrapper\">\n",
       "    <button id=\"btn1\" class=\"btn no1\" type=\"button\" value=\"1\">test 1</button>\n",
       "    <button class=\"btn no2\" type=\"button\" value=\"2\">test 2</button>\n",
       "</div>\n"
      ],
      "text/plain": [
       "<IPython.core.display.HTML object>"
      ]
     },
     "metadata": {},
     "output_type": "display_data"
    }
   ],
   "source": [
    "%%html\n",
    "<div class=\"wrapper\">\n",
    "    <button id=\"btn1\" class=\"btn no1\" type=\"button\" value=\"1\">test 1</button>\n",
    "    <button class=\"btn no2\" type=\"button\" value=\"2\">test 2</button>\n",
    "</div>"
   ]
  },
  {
   "cell_type": "markdown",
   "metadata": {},
   "source": [
    "#### 태그 종류"
   ]
  },
  {
   "cell_type": "markdown",
   "metadata": {},
   "source": [
    "- p, span : 문자열 출력"
   ]
  },
  {
   "cell_type": "code",
   "execution_count": 3,
   "metadata": {},
   "outputs": [
    {
     "data": {
      "text/html": [
       "<p>test 1</p>\n",
       "<p>test 2</p>\n",
       "<span>test3</span>\n",
       "<span>test4</span\n"
      ],
      "text/plain": [
       "<IPython.core.display.HTML object>"
      ]
     },
     "metadata": {},
     "output_type": "display_data"
    }
   ],
   "source": [
    "%%html\n",
    "<p>test 1</p>\n",
    "<p>test 2</p>\n",
    "<span>test3</span>\n",
    "<span>test4</span"
   ]
  },
  {
   "cell_type": "markdown",
   "metadata": {},
   "source": [
    "- div 레이아웃 출력 \n",
    "- ul, li : 리스트 데이터를 출력"
   ]
  },
  {
   "cell_type": "code",
   "execution_count": 5,
   "metadata": {},
   "outputs": [
    {
     "data": {
      "text/html": [
       "<ul>\n",
       "    <li>test 1</li>\n",
       "    <li>test 2</li>\n",
       "</ul>\n"
      ],
      "text/plain": [
       "<IPython.core.display.HTML object>"
      ]
     },
     "metadata": {},
     "output_type": "display_data"
    }
   ],
   "source": [
    "%%html\n",
    "<ul>\n",
    "    <li>test 1</li>\n",
    "    <li>test 2</li>\n",
    "</ul>"
   ]
  },
  {
   "cell_type": "markdown",
   "metadata": {},
   "source": [
    "- a : 링크를 나타내는 태그, href 속성 값에 url 문자열을 넣음"
   ]
  },
  {
   "cell_type": "code",
   "execution_count": 6,
   "metadata": {},
   "outputs": [
    {
     "data": {
      "text/html": [
       "<a href=\"https://google.com\" target=\"_blinc\">click</a>\n"
      ],
      "text/plain": [
       "<IPython.core.display.HTML object>"
      ]
     },
     "metadata": {},
     "output_type": "display_data"
    }
   ],
   "source": [
    "%%html\n",
    "<a href=\"https://google.com\" target=\"_blinc\">click</a>"
   ]
  },
  {
   "cell_type": "markdown",
   "metadata": {},
   "source": [
    "- img : 이미지를 출력하는 태그, src 속성값에 이미지 url을 넣음"
   ]
  },
  {
   "cell_type": "code",
   "execution_count": 7,
   "metadata": {},
   "outputs": [
    {
     "data": {
      "text/html": [
       "<img src=\"//pics.gmarket.co.kr/pc/single/kr/common/image__logo.png\">\n"
      ],
      "text/plain": [
       "<IPython.core.display.HTML object>"
      ]
     },
     "metadata": {},
     "output_type": "display_data"
    }
   ],
   "source": [
    "%%html\n",
    "<img src=\"//pics.gmarket.co.kr/pc/single/kr/common/image__logo.png\">"
   ]
  },
  {
   "cell_type": "markdown",
   "metadata": {},
   "source": [
    "### 2. css selector\n",
    "- id : #btn : test 1 선택\n",
    "- class \n",
    "    - .btn : test 1, test2 선택\n",
    "    - .btn.no1 : test1 선택\n",
    "- tag name \n",
    "    - button : test1, test2 선택\n",
    "    - button.no1 : test1 선택\n",
    "- attr \n",
    "    - `[value=\"1\"]` : test 1 선택"
   ]
  },
  {
   "cell_type": "markdown",
   "metadata": {},
   "source": [
    "- 계층적으로 선택하는 방법\n",
    "    - `>` \n",
    "        - .wrapper1 > .btn.no2 : test 2 선택\n",
    "        - 한단계 아래 엘리먼트에서 선택\n",
    "    - ` ` \n",
    "        - .wrapper1 .btn.no2 : test 2, test 5 선택\n",
    "        - 하위 엘리먼트 전체에서 선택"
   ]
  },
  {
   "cell_type": "code",
   "execution_count": 9,
   "metadata": {},
   "outputs": [
    {
     "data": {
      "text/html": [
       "<div class=\"wrapper\">\n",
       "    <button id=\"btn1\" class=\"btn no1\" type=\"button\" value=\"1\">test 1</button>\n",
       "    <button class=\"btn no2\" type=\"button\" value=\"2\">test 2</button>\n",
       "    <div>\n",
       "        <p class=\"btn no2\">test 5</p>\n",
       "    </div>\n",
       "</div>\n",
       "<div class=\"wrapper2\">\n",
       "    <button id=\"btn2\" class=\"btn no1\" type=\"button\" value=\"1\">test 3</button>\n",
       "    <button class=\"btn no2\" type=\"button\" value=\"2\">test 4</button>\n",
       "</div>\n"
      ],
      "text/plain": [
       "<IPython.core.display.HTML object>"
      ]
     },
     "metadata": {},
     "output_type": "display_data"
    }
   ],
   "source": [
    "%%html\n",
    "<div class=\"wrapper\">\n",
    "    <button id=\"btn1\" class=\"btn no1\" type=\"button\" value=\"1\">test 1</button>\n",
    "    <button class=\"btn no2\" type=\"button\" value=\"2\">test 2</button>\n",
    "    <div>\n",
    "        <p class=\"btn no2\">test 5</p>\n",
    "    </div>\n",
    "</div>\n",
    "<div class=\"wrapper2\">\n",
    "    <button id=\"btn2\" class=\"btn no1\" type=\"button\" value=\"1\">test 3</button>\n",
    "    <button class=\"btn no2\" type=\"button\" value=\"2\">test 4</button>\n",
    "</div>"
   ]
  },
  {
   "cell_type": "code",
   "execution_count": null,
   "metadata": {},
   "outputs": [],
   "source": []
  },
  {
   "cell_type": "code",
   "execution_count": null,
   "metadata": {},
   "outputs": [],
   "source": []
  },
  {
   "cell_type": "code",
   "execution_count": null,
   "metadata": {},
   "outputs": [],
   "source": []
  },
  {
   "cell_type": "code",
   "execution_count": null,
   "metadata": {},
   "outputs": [],
   "source": []
  },
  {
   "cell_type": "code",
   "execution_count": null,
   "metadata": {},
   "outputs": [],
   "source": []
  },
  {
   "cell_type": "code",
   "execution_count": null,
   "metadata": {},
   "outputs": [],
   "source": []
  },
  {
   "cell_type": "code",
   "execution_count": null,
   "metadata": {},
   "outputs": [],
   "source": []
  },
  {
   "cell_type": "code",
   "execution_count": null,
   "metadata": {},
   "outputs": [],
   "source": []
  },
  {
   "cell_type": "code",
   "execution_count": null,
   "metadata": {},
   "outputs": [],
   "source": []
  }
 ],
 "metadata": {
  "kernelspec": {
   "display_name": "Python 3",
   "language": "python",
   "name": "python3"
  },
  "language_info": {
   "codemirror_mode": {
    "name": "ipython",
    "version": 3
   },
   "file_extension": ".py",
   "mimetype": "text/x-python",
   "name": "python",
   "nbconvert_exporter": "python",
   "pygments_lexer": "ipython3",
   "version": "3.7.6"
  }
 },
 "nbformat": 4,
 "nbformat_minor": 4
}
