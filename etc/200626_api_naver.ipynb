{
 "cells": [
  {
   "cell_type": "markdown",
   "metadata": {},
   "source": [
    "### Naver Rest API\n",
    "- 통합검색어 트렌드 api\n",
    "- 파파고 번역 api"
   ]
  },
  {
   "cell_type": "markdown",
   "metadata": {},
   "source": [
    "#### 1. 통학검색어 트렌드\n",
    "-  https://developers.naver.com\n",
    "- 1. Request Token 얻기 : 앱등록 -> app_key 획득\n",
    "- 2. app_key를 이용해서 데이터 가져오기"
   ]
  },
  {
   "cell_type": "code",
   "execution_count": 1,
   "metadata": {},
   "outputs": [],
   "source": [
    "import json"
   ]
  },
  {
   "cell_type": "code",
   "execution_count": 2,
   "metadata": {},
   "outputs": [],
   "source": [
    "client_id = \"\"\n",
    "client_secret = \"\""
   ]
  },
  {
   "cell_type": "code",
   "execution_count": 3,
   "metadata": {},
   "outputs": [],
   "source": [
    "url = \"https://openapi.naver.com/v1/datalab/search\""
   ]
  },
  {
   "cell_type": "code",
   "execution_count": 14,
   "metadata": {},
   "outputs": [],
   "source": [
    "params = {\n",
    "    \"startDate\" : \"2018-01-01\",\n",
    "    \"endDate\" : \"2020-06-26\",\n",
    "    \"timeUnit\" : \"month\",\n",
    "    \"keywordGroups\" : [\n",
    "        {\"groupName\":\"트위터\", \"keywords\": [\"트위터\", \"트윗\"]},\n",
    "        {\"groupName\":\"페이스북\", \"keywords\": [\"페이스북\", \"페북\"]},\n",
    "        {\"groupName\":\"인스타그램\", \"keywords\": [\"인스타그램\", \"인스타\"]}\n",
    "    ]\n",
    "}"
   ]
  },
  {
   "cell_type": "code",
   "execution_count": 15,
   "metadata": {},
   "outputs": [],
   "source": [
    "headers = {\n",
    "    \"X-Naver-Client-Id\" : client_id,\n",
    "    \"X-Naver-Client-Secret\" : client_secret,\n",
    "    \"Content-Type\": \"application/json\"\n",
    "}"
   ]
  },
  {
   "cell_type": "code",
   "execution_count": 16,
   "metadata": {},
   "outputs": [
    {
     "data": {
      "text/plain": [
       "<Response [200]>"
      ]
     },
     "execution_count": 16,
     "metadata": {},
     "output_type": "execute_result"
    }
   ],
   "source": [
    "# API 요청\n",
    "response = requests.post(url, data = json.dumps(params), headers = headers)\n",
    "response"
   ]
  },
  {
   "cell_type": "code",
   "execution_count": 17,
   "metadata": {},
   "outputs": [
    {
     "data": {
      "text/plain": [
       "'{\"startDate\":\"2018-01-01\",\"endDate\":\"2020-06-26\",\"timeUnit\":\"month\",\"results\":[{\"title\":\"트위터\",\"keywords\":[\"트위터\",\"트윗\"],\"data\":[{\"period\":\"2018-01-01\",\"ratio\":14.59502},{\"period\":\"2018-02-01\",\"ratio\":13.0238},{\"period\":\"2018-03-01\",\"ratio\":12.97953},{\"period\":\"2018-04-01\",\"ratio\":12.82991},{\"period\":\"2018-05-01\",\"ratio\":13.05391},{\"period\":\"2018-06-01\",\"ratio\":13.34512},{\"period\":\"2018-07-01\",\"ratio\":13.02773},{\"period\":\"2018-08-01\",\"ratio\":13.45399},{\"period\":\"2018-09-01\",\"ratio\":12.83755},{\"period\":\"2018-10-01\",\"ratio\":13.05677},{\"period\":\"2018-11-01\",\"ratio\":12.77338},{\"period\":\"2018-12-01\",\"ratio\":12.86931},{\"period\":\"2019-01-01\",\"ratio\":13.31172},{\"period\":\"2019-02-01\",\"ratio\":11.74776},{\"period\":\"2019-03-01\",\"ratio\":11.82313},{\"period\":\"2019-04-01\",\"ratio\":12.32991},{\"period\":\"2019-05-01\",\"ratio\":12.43771},{\"period\":\"2019-06-01\",\"ratio\":13.29913},{\"period\":\"2019-07-01\",\"ratio\":14.00593},{\"period\":\"2019-08-01\",\"ratio\":14.208},{\"period\":\"2019-09-01\",\"ratio\":14.00856},{\"period\":\"2019-10-01\",\"ratio\":14.88466},{\"period\":\"2019-11-01\",\"ratio\":14.352},{\"period\":\"2019-12-01\",\"ratio\":14.36689},{\"period\":\"2020-01-01\",\"ratio\":16.05722},{\"period\":\"2020-02-01\",\"ratio\":15.71465},{\"period\":\"2020-03-01\",\"ratio\":18.5669},{\"period\":\"2020-04-01\",\"ratio\":18.29928},{\"period\":\"2020-05-01\",\"ratio\":21.0523},{\"period\":\"2020-06-01\",\"ratio\":16.20296}]},{\"title\":\"페이스북\",\"keywords\":[\"페이스북\",\"페북\"],\"data\":[{\"period\":\"2018-01-01\",\"ratio\":97.80481},{\"period\":\"2018-02-01\",\"ratio\":89.05814},{\"period\":\"2018-03-01\",\"ratio\":98.84292},{\"period\":\"2018-04-01\",\"ratio\":100},{\"period\":\"2018-05-01\",\"ratio\":92.23588},{\"period\":\"2018-06-01\",\"ratio\":91.70143},{\"period\":\"2018-07-01\",\"ratio\":87.916},{\"period\":\"2018-08-01\",\"ratio\":83.56488},{\"period\":\"2018-09-01\",\"ratio\":82.66018},{\"period\":\"2018-10-01\",\"ratio\":81.30381},{\"period\":\"2018-11-01\",\"ratio\":76.80167},{\"period\":\"2018-12-01\",\"ratio\":75.43269},{\"period\":\"2019-01-01\",\"ratio\":70.21709},{\"period\":\"2019-02-01\",\"ratio\":62.57096},{\"period\":\"2019-03-01\",\"ratio\":70.02431},{\"period\":\"2019-04-01\",\"ratio\":71.67271},{\"period\":\"2019-05-01\",\"ratio\":67.79872},{\"period\":\"2019-06-01\",\"ratio\":69.23259},{\"period\":\"2019-07-01\",\"ratio\":64.22088},{\"period\":\"2019-08-01\",\"ratio\":61.74662},{\"period\":\"2019-09-01\",\"ratio\":62.30318},{\"period\":\"2019-10-01\",\"ratio\":62.46025},{\"period\":\"2019-11-01\",\"ratio\":59.88514},{\"period\":\"2019-12-01\",\"ratio\":57.80639},{\"period\":\"2020-01-01\",\"ratio\":55.94828},{\"period\":\"2020-02-01\",\"ratio\":56.90092},{\"period\":\"2020-03-01\",\"ratio\":63.03497},{\"period\":\"2020-04-01\",\"ratio\":57.31923},{\"period\":\"2020-05-01\",\"ratio\":56.65968},{\"period\":\"2020-06-01\",\"ratio\":45.45014}]},{\"title\":\"인스타그램\",\"keywords\":[\"인스타그램\",\"인스타\"],\"data\":[{\"period\":\"2018-01-01\",\"ratio\":23.41982},{\"period\":\"2018-02-01\",\"ratio\":22.53544},{\"period\":\"2018-03-01\",\"ratio\":25.3988},{\"period\":\"2018-04-01\",\"ratio\":26.55983},{\"period\":\"2018-05-01\",\"ratio\":28.60035},{\"period\":\"2018-06-01\",\"ratio\":28.40753},{\"period\":\"2018-07-01\",\"ratio\":27.84405},{\"period\":\"2018-08-01\",\"ratio\":29.84383},{\"period\":\"2018-09-01\",\"ratio\":25.05096},{\"period\":\"2018-10-01\",\"ratio\":27.2048},{\"period\":\"2018-11-01\",\"ratio\":21.97864},{\"period\":\"2018-12-01\",\"ratio\":20.8739},{\"period\":\"2019-01-01\",\"ratio\":22.51379},{\"period\":\"2019-02-01\",\"ratio\":19.33788},{\"period\":\"2019-03-01\",\"ratio\":21.67678},{\"period\":\"2019-04-01\",\"ratio\":21.16257},{\"period\":\"2019-05-01\",\"ratio\":20.9485},{\"period\":\"2019-06-01\",\"ratio\":21.76954},{\"period\":\"2019-07-01\",\"ratio\":22.586},{\"period\":\"2019-08-01\",\"ratio\":21.43535},{\"period\":\"2019-09-01\",\"ratio\":19.83802},{\"period\":\"2019-10-01\",\"ratio\":22.24957},{\"period\":\"2019-11-01\",\"ratio\":21.55812},{\"period\":\"2019-12-01\",\"ratio\":21.52333},{\"period\":\"2020-01-01\",\"ratio\":22.0381},{\"period\":\"2020-02-01\",\"ratio\":21.53446},{\"period\":\"2020-03-01\",\"ratio\":25.01454},{\"period\":\"2020-04-01\",\"ratio\":24.12708},{\"period\":\"2020-05-01\",\"ratio\":25.68412},{\"period\":\"2020-06-01\",\"ratio\":21.36119}]}]}'"
      ]
     },
     "execution_count": 17,
     "metadata": {},
     "output_type": "execute_result"
    }
   ],
   "source": [
    "response.text"
   ]
  },
  {
   "cell_type": "code",
   "execution_count": 18,
   "metadata": {},
   "outputs": [],
   "source": [
    "datas = response.json()[\"results\"]"
   ]
  },
  {
   "cell_type": "code",
   "execution_count": 22,
   "metadata": {},
   "outputs": [],
   "source": [
    "dfs = []\n",
    "\n",
    "for data in datas:\n",
    "    df = pd.DataFrame(data[\"data\"])\n",
    "    df[\"title\"] = data[\"title\"] # 트위터, 페이스북, 인스타그램\n",
    "    dfs.append(df)"
   ]
  },
  {
   "cell_type": "code",
   "execution_count": 24,
   "metadata": {},
   "outputs": [
    {
     "data": {
      "text/html": [
       "<div>\n",
       "<style scoped>\n",
       "    .dataframe tbody tr th:only-of-type {\n",
       "        vertical-align: middle;\n",
       "    }\n",
       "\n",
       "    .dataframe tbody tr th {\n",
       "        vertical-align: top;\n",
       "    }\n",
       "\n",
       "    .dataframe thead th {\n",
       "        text-align: right;\n",
       "    }\n",
       "</style>\n",
       "<table border=\"1\" class=\"dataframe\">\n",
       "  <thead>\n",
       "    <tr style=\"text-align: right;\">\n",
       "      <th></th>\n",
       "      <th>period</th>\n",
       "      <th>ratio</th>\n",
       "      <th>title</th>\n",
       "    </tr>\n",
       "  </thead>\n",
       "  <tbody>\n",
       "    <tr>\n",
       "      <th>88</th>\n",
       "      <td>2020-05-01</td>\n",
       "      <td>25.68412</td>\n",
       "      <td>인스타그램</td>\n",
       "    </tr>\n",
       "    <tr>\n",
       "      <th>89</th>\n",
       "      <td>2020-06-01</td>\n",
       "      <td>21.36119</td>\n",
       "      <td>인스타그램</td>\n",
       "    </tr>\n",
       "  </tbody>\n",
       "</table>\n",
       "</div>"
      ],
      "text/plain": [
       "        period     ratio  title\n",
       "88  2020-05-01  25.68412  인스타그램\n",
       "89  2020-06-01  21.36119  인스타그램"
      ]
     },
     "execution_count": 24,
     "metadata": {},
     "output_type": "execute_result"
    }
   ],
   "source": [
    "result_df = pd.concat(dfs, ignore_index=True)\n",
    "result_df.tail(2)"
   ]
  },
  {
   "cell_type": "code",
   "execution_count": 25,
   "metadata": {},
   "outputs": [
    {
     "data": {
      "text/html": [
       "<div>\n",
       "<style scoped>\n",
       "    .dataframe tbody tr th:only-of-type {\n",
       "        vertical-align: middle;\n",
       "    }\n",
       "\n",
       "    .dataframe tbody tr th {\n",
       "        vertical-align: top;\n",
       "    }\n",
       "\n",
       "    .dataframe thead th {\n",
       "        text-align: right;\n",
       "    }\n",
       "</style>\n",
       "<table border=\"1\" class=\"dataframe\">\n",
       "  <thead>\n",
       "    <tr style=\"text-align: right;\">\n",
       "      <th>title</th>\n",
       "      <th>인스타그램</th>\n",
       "      <th>트위터</th>\n",
       "      <th>페이스북</th>\n",
       "    </tr>\n",
       "    <tr>\n",
       "      <th>period</th>\n",
       "      <th></th>\n",
       "      <th></th>\n",
       "      <th></th>\n",
       "    </tr>\n",
       "  </thead>\n",
       "  <tbody>\n",
       "    <tr>\n",
       "      <th>2018-01-01</th>\n",
       "      <td>23.41982</td>\n",
       "      <td>14.59502</td>\n",
       "      <td>97.80481</td>\n",
       "    </tr>\n",
       "    <tr>\n",
       "      <th>2018-02-01</th>\n",
       "      <td>22.53544</td>\n",
       "      <td>13.02380</td>\n",
       "      <td>89.05814</td>\n",
       "    </tr>\n",
       "    <tr>\n",
       "      <th>2018-03-01</th>\n",
       "      <td>25.39880</td>\n",
       "      <td>12.97953</td>\n",
       "      <td>98.84292</td>\n",
       "    </tr>\n",
       "    <tr>\n",
       "      <th>2018-04-01</th>\n",
       "      <td>26.55983</td>\n",
       "      <td>12.82991</td>\n",
       "      <td>100.00000</td>\n",
       "    </tr>\n",
       "    <tr>\n",
       "      <th>2018-05-01</th>\n",
       "      <td>28.60035</td>\n",
       "      <td>13.05391</td>\n",
       "      <td>92.23588</td>\n",
       "    </tr>\n",
       "    <tr>\n",
       "      <th>2018-06-01</th>\n",
       "      <td>28.40753</td>\n",
       "      <td>13.34512</td>\n",
       "      <td>91.70143</td>\n",
       "    </tr>\n",
       "    <tr>\n",
       "      <th>2018-07-01</th>\n",
       "      <td>27.84405</td>\n",
       "      <td>13.02773</td>\n",
       "      <td>87.91600</td>\n",
       "    </tr>\n",
       "    <tr>\n",
       "      <th>2018-08-01</th>\n",
       "      <td>29.84383</td>\n",
       "      <td>13.45399</td>\n",
       "      <td>83.56488</td>\n",
       "    </tr>\n",
       "    <tr>\n",
       "      <th>2018-09-01</th>\n",
       "      <td>25.05096</td>\n",
       "      <td>12.83755</td>\n",
       "      <td>82.66018</td>\n",
       "    </tr>\n",
       "    <tr>\n",
       "      <th>2018-10-01</th>\n",
       "      <td>27.20480</td>\n",
       "      <td>13.05677</td>\n",
       "      <td>81.30381</td>\n",
       "    </tr>\n",
       "    <tr>\n",
       "      <th>2018-11-01</th>\n",
       "      <td>21.97864</td>\n",
       "      <td>12.77338</td>\n",
       "      <td>76.80167</td>\n",
       "    </tr>\n",
       "    <tr>\n",
       "      <th>2018-12-01</th>\n",
       "      <td>20.87390</td>\n",
       "      <td>12.86931</td>\n",
       "      <td>75.43269</td>\n",
       "    </tr>\n",
       "    <tr>\n",
       "      <th>2019-01-01</th>\n",
       "      <td>22.51379</td>\n",
       "      <td>13.31172</td>\n",
       "      <td>70.21709</td>\n",
       "    </tr>\n",
       "    <tr>\n",
       "      <th>2019-02-01</th>\n",
       "      <td>19.33788</td>\n",
       "      <td>11.74776</td>\n",
       "      <td>62.57096</td>\n",
       "    </tr>\n",
       "    <tr>\n",
       "      <th>2019-03-01</th>\n",
       "      <td>21.67678</td>\n",
       "      <td>11.82313</td>\n",
       "      <td>70.02431</td>\n",
       "    </tr>\n",
       "    <tr>\n",
       "      <th>2019-04-01</th>\n",
       "      <td>21.16257</td>\n",
       "      <td>12.32991</td>\n",
       "      <td>71.67271</td>\n",
       "    </tr>\n",
       "    <tr>\n",
       "      <th>2019-05-01</th>\n",
       "      <td>20.94850</td>\n",
       "      <td>12.43771</td>\n",
       "      <td>67.79872</td>\n",
       "    </tr>\n",
       "    <tr>\n",
       "      <th>2019-06-01</th>\n",
       "      <td>21.76954</td>\n",
       "      <td>13.29913</td>\n",
       "      <td>69.23259</td>\n",
       "    </tr>\n",
       "    <tr>\n",
       "      <th>2019-07-01</th>\n",
       "      <td>22.58600</td>\n",
       "      <td>14.00593</td>\n",
       "      <td>64.22088</td>\n",
       "    </tr>\n",
       "    <tr>\n",
       "      <th>2019-08-01</th>\n",
       "      <td>21.43535</td>\n",
       "      <td>14.20800</td>\n",
       "      <td>61.74662</td>\n",
       "    </tr>\n",
       "    <tr>\n",
       "      <th>2019-09-01</th>\n",
       "      <td>19.83802</td>\n",
       "      <td>14.00856</td>\n",
       "      <td>62.30318</td>\n",
       "    </tr>\n",
       "    <tr>\n",
       "      <th>2019-10-01</th>\n",
       "      <td>22.24957</td>\n",
       "      <td>14.88466</td>\n",
       "      <td>62.46025</td>\n",
       "    </tr>\n",
       "    <tr>\n",
       "      <th>2019-11-01</th>\n",
       "      <td>21.55812</td>\n",
       "      <td>14.35200</td>\n",
       "      <td>59.88514</td>\n",
       "    </tr>\n",
       "    <tr>\n",
       "      <th>2019-12-01</th>\n",
       "      <td>21.52333</td>\n",
       "      <td>14.36689</td>\n",
       "      <td>57.80639</td>\n",
       "    </tr>\n",
       "    <tr>\n",
       "      <th>2020-01-01</th>\n",
       "      <td>22.03810</td>\n",
       "      <td>16.05722</td>\n",
       "      <td>55.94828</td>\n",
       "    </tr>\n",
       "    <tr>\n",
       "      <th>2020-02-01</th>\n",
       "      <td>21.53446</td>\n",
       "      <td>15.71465</td>\n",
       "      <td>56.90092</td>\n",
       "    </tr>\n",
       "    <tr>\n",
       "      <th>2020-03-01</th>\n",
       "      <td>25.01454</td>\n",
       "      <td>18.56690</td>\n",
       "      <td>63.03497</td>\n",
       "    </tr>\n",
       "    <tr>\n",
       "      <th>2020-04-01</th>\n",
       "      <td>24.12708</td>\n",
       "      <td>18.29928</td>\n",
       "      <td>57.31923</td>\n",
       "    </tr>\n",
       "    <tr>\n",
       "      <th>2020-05-01</th>\n",
       "      <td>25.68412</td>\n",
       "      <td>21.05230</td>\n",
       "      <td>56.65968</td>\n",
       "    </tr>\n",
       "    <tr>\n",
       "      <th>2020-06-01</th>\n",
       "      <td>21.36119</td>\n",
       "      <td>16.20296</td>\n",
       "      <td>45.45014</td>\n",
       "    </tr>\n",
       "  </tbody>\n",
       "</table>\n",
       "</div>"
      ],
      "text/plain": [
       "title          인스타그램       트위터       페이스북\n",
       "period                                   \n",
       "2018-01-01  23.41982  14.59502   97.80481\n",
       "2018-02-01  22.53544  13.02380   89.05814\n",
       "2018-03-01  25.39880  12.97953   98.84292\n",
       "2018-04-01  26.55983  12.82991  100.00000\n",
       "2018-05-01  28.60035  13.05391   92.23588\n",
       "2018-06-01  28.40753  13.34512   91.70143\n",
       "2018-07-01  27.84405  13.02773   87.91600\n",
       "2018-08-01  29.84383  13.45399   83.56488\n",
       "2018-09-01  25.05096  12.83755   82.66018\n",
       "2018-10-01  27.20480  13.05677   81.30381\n",
       "2018-11-01  21.97864  12.77338   76.80167\n",
       "2018-12-01  20.87390  12.86931   75.43269\n",
       "2019-01-01  22.51379  13.31172   70.21709\n",
       "2019-02-01  19.33788  11.74776   62.57096\n",
       "2019-03-01  21.67678  11.82313   70.02431\n",
       "2019-04-01  21.16257  12.32991   71.67271\n",
       "2019-05-01  20.94850  12.43771   67.79872\n",
       "2019-06-01  21.76954  13.29913   69.23259\n",
       "2019-07-01  22.58600  14.00593   64.22088\n",
       "2019-08-01  21.43535  14.20800   61.74662\n",
       "2019-09-01  19.83802  14.00856   62.30318\n",
       "2019-10-01  22.24957  14.88466   62.46025\n",
       "2019-11-01  21.55812  14.35200   59.88514\n",
       "2019-12-01  21.52333  14.36689   57.80639\n",
       "2020-01-01  22.03810  16.05722   55.94828\n",
       "2020-02-01  21.53446  15.71465   56.90092\n",
       "2020-03-01  25.01454  18.56690   63.03497\n",
       "2020-04-01  24.12708  18.29928   57.31923\n",
       "2020-05-01  25.68412  21.05230   56.65968\n",
       "2020-06-01  21.36119  16.20296   45.45014"
      ]
     },
     "execution_count": 25,
     "metadata": {},
     "output_type": "execute_result"
    }
   ],
   "source": [
    "result_df.pivot(\"period\", \"title\", \"ratio\")"
   ]
  },
  {
   "cell_type": "markdown",
   "metadata": {},
   "source": [
    "#### 2. 파파고 API\n",
    "- 내 어플리케이션에 파파고 추가"
   ]
  },
  {
   "cell_type": "code",
   "execution_count": 26,
   "metadata": {},
   "outputs": [],
   "source": [
    "url = \"https://openapi.naver.com/v1/papago/n2mt\""
   ]
  },
  {
   "cell_type": "code",
   "execution_count": 27,
   "metadata": {},
   "outputs": [],
   "source": [
    "params = {\n",
    "    \"source\": \"ko\",\n",
    "    \"target\": \"en\",\n",
    "    \"text\": \"파이썬 웹 크롤링 및 자동화\",\n",
    "}"
   ]
  },
  {
   "cell_type": "code",
   "execution_count": 28,
   "metadata": {},
   "outputs": [
    {
     "data": {
      "text/plain": [
       "<Response [200]>"
      ]
     },
     "execution_count": 28,
     "metadata": {},
     "output_type": "execute_result"
    }
   ],
   "source": [
    "response = requests.post(url, json.dumps(params), headers =headers)\n",
    "response"
   ]
  },
  {
   "cell_type": "code",
   "execution_count": 31,
   "metadata": {},
   "outputs": [
    {
     "data": {
      "text/plain": [
       "'Python Web crawling and automation'"
      ]
     },
     "execution_count": 31,
     "metadata": {},
     "output_type": "execute_result"
    }
   ],
   "source": [
    "response.json()[\"message\"][\"result\"][\"translatedText\"]"
   ]
  },
  {
   "cell_type": "code",
   "execution_count": null,
   "metadata": {},
   "outputs": [],
   "source": []
  },
  {
   "cell_type": "code",
   "execution_count": null,
   "metadata": {},
   "outputs": [],
   "source": []
  }
 ],
 "metadata": {
  "kernelspec": {
   "display_name": "Python 3",
   "language": "python",
   "name": "python3"
  },
  "language_info": {
   "codemirror_mode": {
    "name": "ipython",
    "version": 3
   },
   "file_extension": ".py",
   "mimetype": "text/x-python",
   "name": "python",
   "nbconvert_exporter": "python",
   "pygments_lexer": "ipython3",
   "version": "3.7.6"
  }
 },
 "nbformat": 4,
 "nbformat_minor": 4
}
