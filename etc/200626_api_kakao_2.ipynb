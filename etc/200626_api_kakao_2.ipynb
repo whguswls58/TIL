{
 "cells": [
  {
   "cell_type": "markdown",
   "metadata": {},
   "source": [
    "#### 카카오톡 메세지 전송\n",
    "- 사용자 인증이 필요한 API\n",
    "- 어플리케이션에 정보 등록\n",
    "    - 사이트 도메인 추가 : 플랫폼 -> Web 플랫폼 등록\n",
    "    - 카카오 로그인 활성화 \n",
    "    - 정보제공 동의항목 설정 \n",
    "        - 프로필 정보(닉네임/프로필 사진) : 필수 동의\n",
    "        - 카카오톡 메세지 전송 : 선택 동의"
   ]
  },
  {
   "cell_type": "code",
   "execution_count": 40,
   "metadata": {},
   "outputs": [],
   "source": [
    "app_key = \"\"\n",
    "redirect_uri = \"https://fastcampus.co.kr/oauth\""
   ]
  },
  {
   "cell_type": "code",
   "execution_count": 41,
   "metadata": {},
   "outputs": [
    {
     "name": "stdout",
     "output_type": "stream",
     "text": [
      "https://kauth.kakao.com/oauth/authorize?client_id=&redirect_uri=https://fastcampus.co.kr/oauth&response_type=code\n"
     ]
    }
   ],
   "source": [
    "url = \"https://kauth.kakao.com/oauth/authorize?\\\n",
    "client_id={}&redirect_uri={}&response_type=code\".format(app_key, redirect_uri)\n",
    "print(url)"
   ]
  },
  {
   "cell_type": "code",
   "execution_count": 42,
   "metadata": {},
   "outputs": [],
   "source": [
    "auth_code = \"\""
   ]
  },
  {
   "cell_type": "code",
   "execution_count": 8,
   "metadata": {},
   "outputs": [],
   "source": [
    "# access token 받기\n",
    "url = \"https://kauth.kakao.com/oauth/token\""
   ]
  },
  {
   "cell_type": "code",
   "execution_count": 43,
   "metadata": {},
   "outputs": [
    {
     "data": {
      "text/plain": [
       "{'grant_type': 'authorization_code',\n",
       " 'client_id': '',\n",
       " 'redirect_uri': 'https://fastcampus.co.kr/oauth',\n",
       " 'code': ''}"
      ]
     },
     "execution_count": 43,
     "metadata": {},
     "output_type": "execute_result"
    }
   ],
   "source": [
    "params = {\n",
    "    \"grant_type\" : \"authorization_code\",\n",
    "    \"client_id\" : app_key,\n",
    "    \"redirect_uri\" : redirect_uri,\n",
    "    \"code\" : auth_code\n",
    "}\n",
    "\n",
    "params"
   ]
  },
  {
   "cell_type": "code",
   "execution_count": 10,
   "metadata": {},
   "outputs": [
    {
     "data": {
      "text/plain": [
       "<Response [200]>"
      ]
     },
     "execution_count": 10,
     "metadata": {},
     "output_type": "execute_result"
    }
   ],
   "source": [
    "response = requests.post(url, params)\n",
    "response"
   ]
  },
  {
   "cell_type": "code",
   "execution_count": 44,
   "metadata": {},
   "outputs": [
    {
     "data": {
      "text/plain": [
       "{'result_code': 0}"
      ]
     },
     "execution_count": 44,
     "metadata": {},
     "output_type": "execute_result"
    }
   ],
   "source": [
    "user_datas = response.json()\n",
    "user_datas"
   ]
  },
  {
   "cell_type": "code",
   "execution_count": null,
   "metadata": {},
   "outputs": [],
   "source": [
    "# 1. 프로필 데이터 가져오기 : "
   ]
  },
  {
   "cell_type": "code",
   "execution_count": 15,
   "metadata": {},
   "outputs": [],
   "source": [
    "url = \"https://kapi.kakao.com/v1/api/talk/profile\"\n",
    "headers = {\n",
    "    \"Authorization\": \"Bearer {}\".format(user_datas[\"access_token\"])\n",
    "}"
   ]
  },
  {
   "cell_type": "code",
   "execution_count": 16,
   "metadata": {},
   "outputs": [
    {
     "data": {
      "text/plain": [
       "<Response [200]>"
      ]
     },
     "execution_count": 16,
     "metadata": {},
     "output_type": "execute_result"
    }
   ],
   "source": [
    "response = requests.get(url, headers = headers)\n",
    "response"
   ]
  },
  {
   "cell_type": "code",
   "execution_count": 17,
   "metadata": {},
   "outputs": [
    {
     "data": {
      "text/plain": [
       "'{\"nickName\":\"조현진\",\"profileImageURL\":\"http://th-p.talk.kakao.co.kr/th/talkp/wkLueW5rlz/yiSuk9as66MJFAKW77yklk/40ghqg_640x640_s.jpg\",\"thumbnailURL\":\"http://th-p.talk.kakao.co.kr/th/talkp/wkLueW5rlz/yiSuk9as66MJFAKW77yklk/40ghqg_110x110_c.jpg\",\"countryISO\":\"KR\"}'"
      ]
     },
     "execution_count": 17,
     "metadata": {},
     "output_type": "execute_result"
    }
   ],
   "source": [
    "response.text"
   ]
  },
  {
   "cell_type": "code",
   "execution_count": 21,
   "metadata": {},
   "outputs": [
    {
     "data": {
      "text/html": [
       "<img src = \"http://th-p.talk.kakao.co.kr/th/talkp/wkLueW5rlz/yiSuk9as66MJFAKW77yklk/40ghqg_110x110_c.jpg\"\n"
      ],
      "text/plain": [
       "<IPython.core.display.HTML object>"
      ]
     },
     "metadata": {},
     "output_type": "display_data"
    }
   ],
   "source": [
    "%%html\n",
    "<img src = \"http://th-p.talk.kakao.co.kr/th/talkp/wkLueW5rlz/yiSuk9as66MJFAKW77yklk/40ghqg_640x640_s.jpg\""
   ]
  },
  {
   "cell_type": "code",
   "execution_count": null,
   "metadata": {},
   "outputs": [],
   "source": [
    "# 2. 카카오톡 메시지 전송"
   ]
  },
  {
   "cell_type": "code",
   "execution_count": 23,
   "metadata": {},
   "outputs": [],
   "source": [
    "url = \"https://kapi.kakao.com/v2/api/talk/memo/default/send\"\n",
    "\n",
    "headers = {\n",
    "    \"Content-Type\": \"application/x-www-form-urlencoded\",\n",
    "    \"Authorization\": \"Bearer {}\".format(user_datas[\"access_token\"])\n",
    "} "
   ]
  },
  {
   "cell_type": "code",
   "execution_count": 36,
   "metadata": {},
   "outputs": [],
   "source": [
    "params = {\n",
    "    \"object_type\": \"text\",\n",
    "    \"text\": \"집에 가고 싶어요... 보내주세요...ㅠㅠ\",\n",
    "    \"link\" : {\n",
    "        \"web_url\" : \"https://fastcampus.co.kr\",\n",
    "        \"mobile_web_url\": \"https://m.fastcampus.co.kr\"\n",
    "    }\n",
    "}"
   ]
  },
  {
   "cell_type": "code",
   "execution_count": 37,
   "metadata": {},
   "outputs": [],
   "source": [
    "import json"
   ]
  },
  {
   "cell_type": "code",
   "execution_count": 38,
   "metadata": {},
   "outputs": [
    {
     "data": {
      "text/plain": [
       "<Response [200]>"
      ]
     },
     "execution_count": 38,
     "metadata": {},
     "output_type": "execute_result"
    }
   ],
   "source": [
    "payload = \"template_object=\" + str(json.dumps(params))\n",
    "response = requests.post(url, payload, headers = headers)\n",
    "response"
   ]
  },
  {
   "cell_type": "code",
   "execution_count": 39,
   "metadata": {},
   "outputs": [
    {
     "data": {
      "text/plain": [
       "'{\"result_code\":0}'"
      ]
     },
     "execution_count": 39,
     "metadata": {},
     "output_type": "execute_result"
    }
   ],
   "source": [
    "response.text"
   ]
  },
  {
   "cell_type": "code",
   "execution_count": null,
   "metadata": {},
   "outputs": [],
   "source": []
  }
 ],
 "metadata": {
  "kernelspec": {
   "display_name": "Python 3",
   "language": "python",
   "name": "python3"
  },
  "language_info": {
   "codemirror_mode": {
    "name": "ipython",
    "version": 3
   },
   "file_extension": ".py",
   "mimetype": "text/x-python",
   "name": "python",
   "nbconvert_exporter": "python",
   "pygments_lexer": "ipython3",
   "version": "3.7.6"
  }
 },
 "nbformat": 4,
 "nbformat_minor": 4
}
