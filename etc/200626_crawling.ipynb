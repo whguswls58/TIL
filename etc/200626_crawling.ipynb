{
 "cells": [
  {
   "cell_type": "markdown",
   "metadata": {},
   "source": [
    "### 웹 크롤링\n",
    "- 크롤링 절차\n",
    "    - 1. 웹서비스 확인 : URL을 가져옴\n",
    "    - 2. URL을 이용 -> request, response : json 포맷의 데이터를 가져옴 (str)\n",
    "    - 3. json(str) -> dict(parsing) : DataFrame을 얻어냄\n",
    "    \n",
    "- naver stock data\n",
    "    - kospi, kosdaq, usd(need login)\n",
    "    \n",
    "- 크롤링할 때 모바일 페이지가 있는지 먼저 확인해보는게 좋음\n",
    "- referer : 요청하기 전 페이지\n",
    "- user-agent : -> fake user-agent를 사용해서 랜덤하게 바꿔서 사용\n",
    "- Query String Parameters\n",
    "    - code : 요청 코드\n",
    "    - pageSize : 한번에 가져오는 데이터 수\n",
    "    - page : 해당 페이지"
   ]
  },
  {
   "cell_type": "code",
   "execution_count": 1,
   "metadata": {},
   "outputs": [],
   "source": [
    "import requests"
   ]
  },
  {
   "cell_type": "code",
   "execution_count": 3,
   "metadata": {},
   "outputs": [
    {
     "data": {
      "text/plain": [
       "'https://m.stock.naver.com/api/json/sise/dailySiseIndexListJson.nhn?code=KOSPI&pageSize=20&page=1'"
      ]
     },
     "execution_count": 3,
     "metadata": {},
     "output_type": "execute_result"
    }
   ],
   "source": [
    "# 1. URL\n",
    "code, page_size, page = \"KOSPI\", 20, 1\n",
    "url = \"https://m.stock.naver.com/api/json/sise/dailySiseIndexListJson.nhn?\\\n",
    "code={}&pageSize={}&page={}\".format(code, page_size, page)\n",
    "\n",
    "url"
   ]
  },
  {
   "cell_type": "code",
   "execution_count": 4,
   "metadata": {},
   "outputs": [
    {
     "data": {
      "text/plain": [
       "<Response [200]>"
      ]
     },
     "execution_count": 4,
     "metadata": {},
     "output_type": "execute_result"
    }
   ],
   "source": [
    "# 2. URL -> req, rep : JSON(str)\n",
    "# post방식이면 get대신 post\n",
    "response = requests.get(url)\n",
    "response"
   ]
  },
  {
   "cell_type": "code",
   "execution_count": 6,
   "metadata": {},
   "outputs": [
    {
     "data": {
      "text/plain": [
       "'{\"result\":{\"siseList\":[{\"cd\":\"KOSPI\",\"dt\":\"20200626\",\"ncv\":2136.96,\"cv\":24.59,\"cr\":1.16,\"ov\":2137.47,\"hv\":2142.04,\"lv\":2115.25},{\"cd\":\"KOSPI\",\"dt\":\"20200625\",\"ncv\":2112.37,\"cv\":-49.14,\"cr\":-2.27,\"ov\":2130.45,\"hv\":2143.33,\"lv\":2112.37},{\"cd\":\"KOSPI\",\"dt\":\"20200624\",\"ncv\":2161.51,\"cv\":30.27,\"cr\":1.42,\"ov\":2145.93,\"hv\":2171.86,\"lv\":2143.91},{\"cd\":\"KOSPI\",\"dt\":\"20200623\",\"ncv\":2131.24,\"cv\":4.51,\"cr\":0.21,\"ov\":2149.13,\"hv\":2158.15,\"lv\":2110.51},{\"cd\":\"KOSPI\",\"dt\":\"20200622\",\"ncv\":2126.73,\"cv\":-14.59,\"cr\":-0.68,\"ov\":2126.38,\"hv\":2142.88,\"lv\":2122.1},{\"cd\":\"KOSPI\",\"dt\":\"20200619\",\"ncv\":2141.32,\"cv\":7.84,\"cr\":0.37,\"ov\":2153.09,\"hv\":2153.57,\"lv\":2108.91},{\"cd\":\"KOSPI\",\"dt\":\"20200618\",\"ncv\":2133.48,\"cv\":-7.57,\"cr\":-0.35,\"ov\":2134.35,\"hv\":2145.13,\"lv\":2120.29},{\"cd\":\"KOSPI\",\"dt\":\"20200617\",\"ncv\":2141.05,\"cv\":3.0,\"cr\":0.14,\"ov\":2133.18,\"hv\":2154.37,\"lv\":2105.26},{\"cd\":\"KOSPI\",\"dt\":\"20200616\",\"ncv\":2138.05,\"cv\":107.23,\"cr\":5.28,\"ov\":2091.09,\"hv\":2138.08,\"lv\":2079.02},{\"cd\":\"KOSPI\",\"dt\":\"20200615\",\"ncv\":2030.82,\"cv\":-101.48,\"cr\":-4.76,\"ov\":2114.41,\"hv\":2129.67,\"lv\":2030.82},{\"cd\":\"KOSPI\",\"dt\":\"20200612\",\"ncv\":2132.3,\"cv\":-44.48,\"cr\":-2.04,\"ov\":2088.24,\"hv\":2137.12,\"lv\":2084.63},{\"cd\":\"KOSPI\",\"dt\":\"20200611\",\"ncv\":2176.78,\"cv\":-18.91,\"cr\":-0.86,\"ov\":2184.36,\"hv\":2200.72,\"lv\":2148.51},{\"cd\":\"KOSPI\",\"dt\":\"20200610\",\"ncv\":2195.69,\"cv\":6.77,\"cr\":0.31,\"ov\":2187.91,\"hv\":2200.68,\"lv\":2178.12},{\"cd\":\"KOSPI\",\"dt\":\"20200609\",\"ncv\":2188.92,\"cv\":4.63,\"cr\":0.21,\"ov\":2206.23,\"hv\":2212.17,\"lv\":2166.01},{\"cd\":\"KOSPI\",\"dt\":\"20200608\",\"ncv\":2184.29,\"cv\":2.42,\"cr\":0.11,\"ov\":2215.6,\"hv\":2217.21,\"lv\":2174.96},{\"cd\":\"KOSPI\",\"dt\":\"20200605\",\"ncv\":2181.87,\"cv\":30.69,\"cr\":1.43,\"ov\":2151.17,\"hv\":2187.25,\"lv\":2138.18},{\"cd\":\"KOSPI\",\"dt\":\"20200604\",\"ncv\":2151.18,\"cv\":4.18,\"cr\":0.19,\"ov\":2181.64,\"hv\":2191.0,\"lv\":2139.68},{\"cd\":\"KOSPI\",\"dt\":\"20200603\",\"ncv\":2147.0,\"cv\":59.81,\"cr\":2.87,\"ov\":2108.55,\"hv\":2156.55,\"lv\":2107.69},{\"cd\":\"KOSPI\",\"dt\":\"20200602\",\"ncv\":2087.19,\"cv\":22.11,\"cr\":1.07,\"ov\":2061.45,\"hv\":2089.43,\"lv\":2059.14},{\"cd\":\"KOSPI\",\"dt\":\"20200601\",\"ncv\":2065.08,\"cv\":35.48,\"cr\":1.75,\"ov\":2037.04,\"hv\":2065.38,\"lv\":2035.63}]},\"resultCode\":\"success\"}'"
      ]
     },
     "execution_count": 6,
     "metadata": {},
     "output_type": "execute_result"
    }
   ],
   "source": [
    "response.text"
   ]
  },
  {
   "cell_type": "code",
   "execution_count": 5,
   "metadata": {},
   "outputs": [
    {
     "data": {
      "text/plain": [
       "{'result': {'siseList': [{'cd': 'KOSPI',\n",
       "    'dt': '20200626',\n",
       "    'ncv': 2136.96,\n",
       "    'cv': 24.59,\n",
       "    'cr': 1.16,\n",
       "    'ov': 2137.47,\n",
       "    'hv': 2142.04,\n",
       "    'lv': 2115.25},\n",
       "   {'cd': 'KOSPI',\n",
       "    'dt': '20200625',\n",
       "    'ncv': 2112.37,\n",
       "    'cv': -49.14,\n",
       "    'cr': -2.27,\n",
       "    'ov': 2130.45,\n",
       "    'hv': 2143.33,\n",
       "    'lv': 2112.37},\n",
       "   {'cd': 'KOSPI',\n",
       "    'dt': '20200624',\n",
       "    'ncv': 2161.51,\n",
       "    'cv': 30.27,\n",
       "    'cr': 1.42,\n",
       "    'ov': 2145.93,\n",
       "    'hv': 2171.86,\n",
       "    'lv': 2143.91},\n",
       "   {'cd': 'KOSPI',\n",
       "    'dt': '20200623',\n",
       "    'ncv': 2131.24,\n",
       "    'cv': 4.51,\n",
       "    'cr': 0.21,\n",
       "    'ov': 2149.13,\n",
       "    'hv': 2158.15,\n",
       "    'lv': 2110.51},\n",
       "   {'cd': 'KOSPI',\n",
       "    'dt': '20200622',\n",
       "    'ncv': 2126.73,\n",
       "    'cv': -14.59,\n",
       "    'cr': -0.68,\n",
       "    'ov': 2126.38,\n",
       "    'hv': 2142.88,\n",
       "    'lv': 2122.1},\n",
       "   {'cd': 'KOSPI',\n",
       "    'dt': '20200619',\n",
       "    'ncv': 2141.32,\n",
       "    'cv': 7.84,\n",
       "    'cr': 0.37,\n",
       "    'ov': 2153.09,\n",
       "    'hv': 2153.57,\n",
       "    'lv': 2108.91},\n",
       "   {'cd': 'KOSPI',\n",
       "    'dt': '20200618',\n",
       "    'ncv': 2133.48,\n",
       "    'cv': -7.57,\n",
       "    'cr': -0.35,\n",
       "    'ov': 2134.35,\n",
       "    'hv': 2145.13,\n",
       "    'lv': 2120.29},\n",
       "   {'cd': 'KOSPI',\n",
       "    'dt': '20200617',\n",
       "    'ncv': 2141.05,\n",
       "    'cv': 3.0,\n",
       "    'cr': 0.14,\n",
       "    'ov': 2133.18,\n",
       "    'hv': 2154.37,\n",
       "    'lv': 2105.26},\n",
       "   {'cd': 'KOSPI',\n",
       "    'dt': '20200616',\n",
       "    'ncv': 2138.05,\n",
       "    'cv': 107.23,\n",
       "    'cr': 5.28,\n",
       "    'ov': 2091.09,\n",
       "    'hv': 2138.08,\n",
       "    'lv': 2079.02},\n",
       "   {'cd': 'KOSPI',\n",
       "    'dt': '20200615',\n",
       "    'ncv': 2030.82,\n",
       "    'cv': -101.48,\n",
       "    'cr': -4.76,\n",
       "    'ov': 2114.41,\n",
       "    'hv': 2129.67,\n",
       "    'lv': 2030.82},\n",
       "   {'cd': 'KOSPI',\n",
       "    'dt': '20200612',\n",
       "    'ncv': 2132.3,\n",
       "    'cv': -44.48,\n",
       "    'cr': -2.04,\n",
       "    'ov': 2088.24,\n",
       "    'hv': 2137.12,\n",
       "    'lv': 2084.63},\n",
       "   {'cd': 'KOSPI',\n",
       "    'dt': '20200611',\n",
       "    'ncv': 2176.78,\n",
       "    'cv': -18.91,\n",
       "    'cr': -0.86,\n",
       "    'ov': 2184.36,\n",
       "    'hv': 2200.72,\n",
       "    'lv': 2148.51},\n",
       "   {'cd': 'KOSPI',\n",
       "    'dt': '20200610',\n",
       "    'ncv': 2195.69,\n",
       "    'cv': 6.77,\n",
       "    'cr': 0.31,\n",
       "    'ov': 2187.91,\n",
       "    'hv': 2200.68,\n",
       "    'lv': 2178.12},\n",
       "   {'cd': 'KOSPI',\n",
       "    'dt': '20200609',\n",
       "    'ncv': 2188.92,\n",
       "    'cv': 4.63,\n",
       "    'cr': 0.21,\n",
       "    'ov': 2206.23,\n",
       "    'hv': 2212.17,\n",
       "    'lv': 2166.01},\n",
       "   {'cd': 'KOSPI',\n",
       "    'dt': '20200608',\n",
       "    'ncv': 2184.29,\n",
       "    'cv': 2.42,\n",
       "    'cr': 0.11,\n",
       "    'ov': 2215.6,\n",
       "    'hv': 2217.21,\n",
       "    'lv': 2174.96},\n",
       "   {'cd': 'KOSPI',\n",
       "    'dt': '20200605',\n",
       "    'ncv': 2181.87,\n",
       "    'cv': 30.69,\n",
       "    'cr': 1.43,\n",
       "    'ov': 2151.17,\n",
       "    'hv': 2187.25,\n",
       "    'lv': 2138.18},\n",
       "   {'cd': 'KOSPI',\n",
       "    'dt': '20200604',\n",
       "    'ncv': 2151.18,\n",
       "    'cv': 4.18,\n",
       "    'cr': 0.19,\n",
       "    'ov': 2181.64,\n",
       "    'hv': 2191.0,\n",
       "    'lv': 2139.68},\n",
       "   {'cd': 'KOSPI',\n",
       "    'dt': '20200603',\n",
       "    'ncv': 2147.0,\n",
       "    'cv': 59.81,\n",
       "    'cr': 2.87,\n",
       "    'ov': 2108.55,\n",
       "    'hv': 2156.55,\n",
       "    'lv': 2107.69},\n",
       "   {'cd': 'KOSPI',\n",
       "    'dt': '20200602',\n",
       "    'ncv': 2087.19,\n",
       "    'cv': 22.11,\n",
       "    'cr': 1.07,\n",
       "    'ov': 2061.45,\n",
       "    'hv': 2089.43,\n",
       "    'lv': 2059.14},\n",
       "   {'cd': 'KOSPI',\n",
       "    'dt': '20200601',\n",
       "    'ncv': 2065.08,\n",
       "    'cv': 35.48,\n",
       "    'cr': 1.75,\n",
       "    'ov': 2037.04,\n",
       "    'hv': 2065.38,\n",
       "    'lv': 2035.63}]},\n",
       " 'resultCode': 'success'}"
      ]
     },
     "execution_count": 5,
     "metadata": {},
     "output_type": "execute_result"
    }
   ],
   "source": [
    "# 3. JSON(str) > dict형태로 parsing해줌 : DF\n",
    "# .json : str -> dict\n",
    "datas = response.json()\n",
    "datas\n"
   ]
  },
  {
   "cell_type": "code",
   "execution_count": null,
   "metadata": {},
   "outputs": [],
   "source": []
  },
  {
   "cell_type": "code",
   "execution_count": null,
   "metadata": {},
   "outputs": [],
   "source": []
  },
  {
   "cell_type": "code",
   "execution_count": null,
   "metadata": {},
   "outputs": [],
   "source": []
  }
 ],
 "metadata": {
  "kernelspec": {
   "display_name": "Python 3",
   "language": "python",
   "name": "python3"
  },
  "language_info": {
   "codemirror_mode": {
    "name": "ipython",
    "version": 3
   },
   "file_extension": ".py",
   "mimetype": "text/x-python",
   "name": "python",
   "nbconvert_exporter": "python",
   "pygments_lexer": "ipython3",
   "version": "3.7.6"
  }
 },
 "nbformat": 4,
 "nbformat_minor": 4
}
