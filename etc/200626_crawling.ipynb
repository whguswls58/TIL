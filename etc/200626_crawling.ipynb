{
 "cells": [
  {
   "cell_type": "markdown",
   "metadata": {},
   "source": [
    "### 웹 크롤링\n",
    "- 크롤링 절차\n",
    "    - 1. 웹서비스 확인 : URL을 가져옴\n",
    "    - 2. URL을 이용 -> request, response : json 포맷의 데이터를 가져옴 (str)\n",
    "    - 3. json(str) -> dict(parsing) : DataFrame을 얻어냄\n",
    "    \n",
    "- naver stock data\n",
    "    - kospi, kosdaq, usd(need login)\n",
    "    \n",
    "- 크롤링할 때 모바일 페이지가 있는지 먼저 확인해보는게 좋음\n",
    "- referer : 요청하기 전 페이지\n",
    "- user-agent : -> fake user-agent를 사용해서 랜덤하게 바꿔서 사용\n",
    "- Query String Parameters\n",
    "    - code : 요청 코드\n",
    "    - pageSize : 한번에 가져오는 데이터 수\n",
    "    - page : ㅍ"
   ]
  },
  {
   "cell_type": "code",
   "execution_count": 1,
   "metadata": {},
   "outputs": [],
   "source": [
    "import requests"
   ]
  },
  {
   "cell_type": "code",
   "execution_count": null,
   "metadata": {},
   "outputs": [],
   "source": []
  },
  {
   "cell_type": "code",
   "execution_count": null,
   "metadata": {},
   "outputs": [],
   "source": []
  },
  {
   "cell_type": "code",
   "execution_count": null,
   "metadata": {},
   "outputs": [],
   "source": []
  },
  {
   "cell_type": "code",
   "execution_count": null,
   "metadata": {},
   "outputs": [],
   "source": []
  },
  {
   "cell_type": "code",
   "execution_count": null,
   "metadata": {},
   "outputs": [],
   "source": []
  },
  {
   "cell_type": "code",
   "execution_count": null,
   "metadata": {},
   "outputs": [],
   "source": []
  }
 ],
 "metadata": {
  "kernelspec": {
   "display_name": "Python 3",
   "language": "python",
   "name": "python3"
  },
  "language_info": {
   "codemirror_mode": {
    "name": "ipython",
    "version": 3
   },
   "file_extension": ".py",
   "mimetype": "text/x-python",
   "name": "python",
   "nbconvert_exporter": "python",
   "pygments_lexer": "ipython3",
   "version": "3.7.6"
  }
 },
 "nbformat": 4,
 "nbformat_minor": 4
}
