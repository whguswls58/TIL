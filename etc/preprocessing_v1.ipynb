{
 "cells": [
  {
   "cell_type": "code",
   "execution_count": 41,
   "metadata": {},
   "outputs": [],
   "source": [
    "# 작업 환경 설정\n",
    "import matplotlib.dates as md\n",
    "import pandas as pd\n",
    "import numpy as np\n",
    "\n",
    "%matplotlib inline"
   ]
  },
  {
   "cell_type": "markdown",
   "metadata": {},
   "source": [
    "#### 날씨 데이터 불러오기\n",
    "- ASOS 관측소의 데이터만 사용\n",
    "- area 184(제주), 185(고산), 188(성산), 189(서귀포)"
   ]
  },
  {
   "cell_type": "code",
   "execution_count": 20,
   "metadata": {},
   "outputs": [],
   "source": [
    "weather_df = pd.read_csv(\"weather_v2.csv\")\n",
    "weather_df = weather_df[weather_df[\"station\"] == \"ASOS\"]"
   ]
  },
  {
   "cell_type": "markdown",
   "metadata": {},
   "source": [
    "##### datetime 컬럼을 date와 time으로 나누기"
   ]
  },
  {
   "cell_type": "code",
   "execution_count": 25,
   "metadata": {},
   "outputs": [],
   "source": [
    "def split_date(data, col):\n",
    "    date = data[col].str.split(' ').str[0]\n",
    "    time = data[col].str.split(' ').str[1]\n",
    "    return date, time"
   ]
  },
  {
   "cell_type": "code",
   "execution_count": 26,
   "metadata": {},
   "outputs": [],
   "source": [
    "weather_df[\"date\"], weather_df[\"time\"] = split_date(weather_df, \"datetime\")"
   ]
  },
  {
   "cell_type": "markdown",
   "metadata": {},
   "source": [
    "##### 날씨 데이터에서 사용할 데이터만 추출\n",
    "- 온도, 풍속, 풍향, 습도(상대) 사용\n",
    "- 체감온도 및 불쾌지수 추가\n",
    "    - 체감온도\n",
    "        - 기상자료개방포털 자료 활용 (각 관측소 184(제주), 185(고산), 188(성산), 189(서귀포)에서 측정된 일간 체감온도)\n",
    "    - 불쾌지수\n",
    "        - 0.81 * 섭씨온도 +0.01 * 상대습도(%)（0.99*섭씨온도 - 14.3）+ 46.3\n",
    "        \n",
    "    - 자료 출처 : 체감온도 - 기상청, 불쾌지수 - 위키백과"
   ]
  },
  {
   "cell_type": "code",
   "execution_count": 28,
   "metadata": {},
   "outputs": [],
   "source": [
    "weather_useful = weather_df[[\"date\", \"temp\", \"ws\", \"wd\", \"humid\"]]"
   ]
  },
  {
   "cell_type": "code",
   "execution_count": 29,
   "metadata": {},
   "outputs": [],
   "source": [
    "weather_useful['date'] = pd.to_datetime(weather_useful['date'])"
   ]
  },
  {
   "cell_type": "code",
   "execution_count": 74,
   "metadata": {},
   "outputs": [],
   "source": [
    "# 불쾌지수 연산 함수, 소수점 첫째짜리까지\n",
    "def discomfort_index(temp, rh):\n",
    "    discomfort = round(0.81 * temp + 0.01 * rh * (0.99 * temp - 14.3) + 46.3, 1)\n",
    "    return discomfort"
   ]
  },
  {
   "cell_type": "code",
   "execution_count": 77,
   "metadata": {},
   "outputs": [],
   "source": [
    "# 불쾌지수 추가\n",
    "weather_useful[\"angry\"] = discomfort_index(weather_useful[\"temp\"], weather_useful[\"humid\"])"
   ]
  },
  {
   "cell_type": "code",
   "execution_count": 78,
   "metadata": {},
   "outputs": [],
   "source": [
    "weather_useful = weather_useful.groupby(\"date\").mean().reset_index()"
   ]
  },
  {
   "cell_type": "code",
   "execution_count": 79,
   "metadata": {},
   "outputs": [
    {
     "data": {
      "text/html": [
       "<div>\n",
       "<style scoped>\n",
       "    .dataframe tbody tr th:only-of-type {\n",
       "        vertical-align: middle;\n",
       "    }\n",
       "\n",
       "    .dataframe tbody tr th {\n",
       "        vertical-align: top;\n",
       "    }\n",
       "\n",
       "    .dataframe thead th {\n",
       "        text-align: right;\n",
       "    }\n",
       "</style>\n",
       "<table border=\"1\" class=\"dataframe\">\n",
       "  <thead>\n",
       "    <tr style=\"text-align: right;\">\n",
       "      <th></th>\n",
       "      <th>date</th>\n",
       "      <th>temp</th>\n",
       "      <th>ws</th>\n",
       "      <th>wd</th>\n",
       "      <th>humid</th>\n",
       "      <th>angry</th>\n",
       "    </tr>\n",
       "  </thead>\n",
       "  <tbody>\n",
       "    <tr>\n",
       "      <th>0</th>\n",
       "      <td>2018-02-01</td>\n",
       "      <td>4.346739</td>\n",
       "      <td>3.859783</td>\n",
       "      <td>201.195652</td>\n",
       "      <td>60.119565</td>\n",
       "      <td>43.8</td>\n",
       "    </tr>\n",
       "    <tr>\n",
       "      <th>1</th>\n",
       "      <td>2018-02-02</td>\n",
       "      <td>3.760417</td>\n",
       "      <td>4.320833</td>\n",
       "      <td>276.770833</td>\n",
       "      <td>55.281250</td>\n",
       "      <td>43.5</td>\n",
       "    </tr>\n",
       "    <tr>\n",
       "      <th>2</th>\n",
       "      <td>2018-02-03</td>\n",
       "      <td>1.337500</td>\n",
       "      <td>6.854167</td>\n",
       "      <td>314.895833</td>\n",
       "      <td>67.281250</td>\n",
       "      <td>38.7</td>\n",
       "    </tr>\n",
       "    <tr>\n",
       "      <th>3</th>\n",
       "      <td>2018-02-04</td>\n",
       "      <td>-1.017708</td>\n",
       "      <td>7.000000</td>\n",
       "      <td>313.958333</td>\n",
       "      <td>72.010417</td>\n",
       "      <td>34.5</td>\n",
       "    </tr>\n",
       "    <tr>\n",
       "      <th>4</th>\n",
       "      <td>2018-02-05</td>\n",
       "      <td>-0.077083</td>\n",
       "      <td>6.506250</td>\n",
       "      <td>304.687500</td>\n",
       "      <td>71.239583</td>\n",
       "      <td>36.0</td>\n",
       "    </tr>\n",
       "    <tr>\n",
       "      <th>...</th>\n",
       "      <td>...</td>\n",
       "      <td>...</td>\n",
       "      <td>...</td>\n",
       "      <td>...</td>\n",
       "      <td>...</td>\n",
       "      <td>...</td>\n",
       "    </tr>\n",
       "    <tr>\n",
       "      <th>833</th>\n",
       "      <td>2020-05-14</td>\n",
       "      <td>18.710417</td>\n",
       "      <td>2.708333</td>\n",
       "      <td>174.166667</td>\n",
       "      <td>56.291667</td>\n",
       "      <td>63.8</td>\n",
       "    </tr>\n",
       "    <tr>\n",
       "      <th>834</th>\n",
       "      <td>2020-05-15</td>\n",
       "      <td>19.930208</td>\n",
       "      <td>3.497917</td>\n",
       "      <td>208.125000</td>\n",
       "      <td>91.500000</td>\n",
       "      <td>67.4</td>\n",
       "    </tr>\n",
       "    <tr>\n",
       "      <th>835</th>\n",
       "      <td>2020-05-16</td>\n",
       "      <td>17.560417</td>\n",
       "      <td>1.961458</td>\n",
       "      <td>205.000000</td>\n",
       "      <td>96.583333</td>\n",
       "      <td>63.5</td>\n",
       "    </tr>\n",
       "    <tr>\n",
       "      <th>836</th>\n",
       "      <td>2020-05-17</td>\n",
       "      <td>17.070833</td>\n",
       "      <td>2.247917</td>\n",
       "      <td>176.770833</td>\n",
       "      <td>91.635417</td>\n",
       "      <td>62.5</td>\n",
       "    </tr>\n",
       "    <tr>\n",
       "      <th>837</th>\n",
       "      <td>2020-05-18</td>\n",
       "      <td>19.205208</td>\n",
       "      <td>3.052083</td>\n",
       "      <td>167.916667</td>\n",
       "      <td>92.135417</td>\n",
       "      <td>66.2</td>\n",
       "    </tr>\n",
       "  </tbody>\n",
       "</table>\n",
       "<p>838 rows × 6 columns</p>\n",
       "</div>"
      ],
      "text/plain": [
       "          date       temp        ws          wd      humid  angry\n",
       "0   2018-02-01   4.346739  3.859783  201.195652  60.119565   43.8\n",
       "1   2018-02-02   3.760417  4.320833  276.770833  55.281250   43.5\n",
       "2   2018-02-03   1.337500  6.854167  314.895833  67.281250   38.7\n",
       "3   2018-02-04  -1.017708  7.000000  313.958333  72.010417   34.5\n",
       "4   2018-02-05  -0.077083  6.506250  304.687500  71.239583   36.0\n",
       "..         ...        ...       ...         ...        ...    ...\n",
       "833 2020-05-14  18.710417  2.708333  174.166667  56.291667   63.8\n",
       "834 2020-05-15  19.930208  3.497917  208.125000  91.500000   67.4\n",
       "835 2020-05-16  17.560417  1.961458  205.000000  96.583333   63.5\n",
       "836 2020-05-17  17.070833  2.247917  176.770833  91.635417   62.5\n",
       "837 2020-05-18  19.205208  3.052083  167.916667  92.135417   66.2\n",
       "\n",
       "[838 rows x 6 columns]"
      ]
     },
     "execution_count": 79,
     "metadata": {},
     "output_type": "execute_result"
    }
   ],
   "source": [
    "weather_useful"
   ]
  },
  {
   "cell_type": "code",
   "execution_count": 80,
   "metadata": {},
   "outputs": [],
   "source": [
    "# 체감온도 추가\n",
    "body_temp = pd.read_csv(\"body_temp.csv\")\n",
    "body_temp = body_temp.drop(\"Unnamed: 0\", axis = 1)"
   ]
  },
  {
   "cell_type": "code",
   "execution_count": 83,
   "metadata": {},
   "outputs": [],
   "source": [
    "# 4개의 관측소의 평균 일별 체감온도\n",
    "weather_useful[\"body_temp\"] = body_temp.groupby(\"date\").mean().reset_index()[\"body_temp\"]"
   ]
  },
  {
   "cell_type": "code",
   "execution_count": 84,
   "metadata": {},
   "outputs": [
    {
     "data": {
      "text/html": [
       "<div>\n",
       "<style scoped>\n",
       "    .dataframe tbody tr th:only-of-type {\n",
       "        vertical-align: middle;\n",
       "    }\n",
       "\n",
       "    .dataframe tbody tr th {\n",
       "        vertical-align: top;\n",
       "    }\n",
       "\n",
       "    .dataframe thead th {\n",
       "        text-align: right;\n",
       "    }\n",
       "</style>\n",
       "<table border=\"1\" class=\"dataframe\">\n",
       "  <thead>\n",
       "    <tr style=\"text-align: right;\">\n",
       "      <th></th>\n",
       "      <th>date</th>\n",
       "      <th>temp</th>\n",
       "      <th>ws</th>\n",
       "      <th>wd</th>\n",
       "      <th>humid</th>\n",
       "      <th>angry</th>\n",
       "      <th>body_temp</th>\n",
       "    </tr>\n",
       "  </thead>\n",
       "  <tbody>\n",
       "    <tr>\n",
       "      <th>0</th>\n",
       "      <td>2018-02-01</td>\n",
       "      <td>4.346739</td>\n",
       "      <td>3.859783</td>\n",
       "      <td>201.195652</td>\n",
       "      <td>60.119565</td>\n",
       "      <td>43.8</td>\n",
       "      <td>1.900</td>\n",
       "    </tr>\n",
       "    <tr>\n",
       "      <th>1</th>\n",
       "      <td>2018-02-02</td>\n",
       "      <td>3.760417</td>\n",
       "      <td>4.320833</td>\n",
       "      <td>276.770833</td>\n",
       "      <td>55.281250</td>\n",
       "      <td>43.5</td>\n",
       "      <td>0.950</td>\n",
       "    </tr>\n",
       "    <tr>\n",
       "      <th>2</th>\n",
       "      <td>2018-02-03</td>\n",
       "      <td>1.337500</td>\n",
       "      <td>6.854167</td>\n",
       "      <td>314.895833</td>\n",
       "      <td>67.281250</td>\n",
       "      <td>38.7</td>\n",
       "      <td>-2.775</td>\n",
       "    </tr>\n",
       "    <tr>\n",
       "      <th>3</th>\n",
       "      <td>2018-02-04</td>\n",
       "      <td>-1.017708</td>\n",
       "      <td>7.000000</td>\n",
       "      <td>313.958333</td>\n",
       "      <td>72.010417</td>\n",
       "      <td>34.5</td>\n",
       "      <td>-5.750</td>\n",
       "    </tr>\n",
       "    <tr>\n",
       "      <th>4</th>\n",
       "      <td>2018-02-05</td>\n",
       "      <td>-0.077083</td>\n",
       "      <td>6.506250</td>\n",
       "      <td>304.687500</td>\n",
       "      <td>71.239583</td>\n",
       "      <td>36.0</td>\n",
       "      <td>-4.300</td>\n",
       "    </tr>\n",
       "    <tr>\n",
       "      <th>...</th>\n",
       "      <td>...</td>\n",
       "      <td>...</td>\n",
       "      <td>...</td>\n",
       "      <td>...</td>\n",
       "      <td>...</td>\n",
       "      <td>...</td>\n",
       "      <td>...</td>\n",
       "    </tr>\n",
       "    <tr>\n",
       "      <th>833</th>\n",
       "      <td>2020-05-14</td>\n",
       "      <td>18.710417</td>\n",
       "      <td>2.708333</td>\n",
       "      <td>174.166667</td>\n",
       "      <td>56.291667</td>\n",
       "      <td>63.8</td>\n",
       "      <td>18.650</td>\n",
       "    </tr>\n",
       "    <tr>\n",
       "      <th>834</th>\n",
       "      <td>2020-05-15</td>\n",
       "      <td>19.930208</td>\n",
       "      <td>3.497917</td>\n",
       "      <td>208.125000</td>\n",
       "      <td>91.500000</td>\n",
       "      <td>67.4</td>\n",
       "      <td>19.850</td>\n",
       "    </tr>\n",
       "    <tr>\n",
       "      <th>835</th>\n",
       "      <td>2020-05-16</td>\n",
       "      <td>17.560417</td>\n",
       "      <td>1.961458</td>\n",
       "      <td>205.000000</td>\n",
       "      <td>96.583333</td>\n",
       "      <td>63.5</td>\n",
       "      <td>17.425</td>\n",
       "    </tr>\n",
       "    <tr>\n",
       "      <th>836</th>\n",
       "      <td>2020-05-17</td>\n",
       "      <td>17.070833</td>\n",
       "      <td>2.247917</td>\n",
       "      <td>176.770833</td>\n",
       "      <td>91.635417</td>\n",
       "      <td>62.5</td>\n",
       "      <td>17.000</td>\n",
       "    </tr>\n",
       "    <tr>\n",
       "      <th>837</th>\n",
       "      <td>2020-05-18</td>\n",
       "      <td>19.205208</td>\n",
       "      <td>3.052083</td>\n",
       "      <td>167.916667</td>\n",
       "      <td>92.135417</td>\n",
       "      <td>66.2</td>\n",
       "      <td>19.075</td>\n",
       "    </tr>\n",
       "  </tbody>\n",
       "</table>\n",
       "<p>838 rows × 7 columns</p>\n",
       "</div>"
      ],
      "text/plain": [
       "          date       temp        ws          wd      humid  angry  body_temp\n",
       "0   2018-02-01   4.346739  3.859783  201.195652  60.119565   43.8      1.900\n",
       "1   2018-02-02   3.760417  4.320833  276.770833  55.281250   43.5      0.950\n",
       "2   2018-02-03   1.337500  6.854167  314.895833  67.281250   38.7     -2.775\n",
       "3   2018-02-04  -1.017708  7.000000  313.958333  72.010417   34.5     -5.750\n",
       "4   2018-02-05  -0.077083  6.506250  304.687500  71.239583   36.0     -4.300\n",
       "..         ...        ...       ...         ...        ...    ...        ...\n",
       "833 2020-05-14  18.710417  2.708333  174.166667  56.291667   63.8     18.650\n",
       "834 2020-05-15  19.930208  3.497917  208.125000  91.500000   67.4     19.850\n",
       "835 2020-05-16  17.560417  1.961458  205.000000  96.583333   63.5     17.425\n",
       "836 2020-05-17  17.070833  2.247917  176.770833  91.635417   62.5     17.000\n",
       "837 2020-05-18  19.205208  3.052083  167.916667  92.135417   66.2     19.075\n",
       "\n",
       "[838 rows x 7 columns]"
      ]
     },
     "execution_count": 84,
     "metadata": {},
     "output_type": "execute_result"
    }
   ],
   "source": [
    "weather_useful"
   ]
  },
  {
   "cell_type": "code",
   "execution_count": 85,
   "metadata": {},
   "outputs": [
    {
     "name": "stdout",
     "output_type": "stream",
     "text": [
      "<class 'pandas.core.frame.DataFrame'>\n",
      "RangeIndex: 838 entries, 0 to 837\n",
      "Data columns (total 7 columns):\n",
      " #   Column     Non-Null Count  Dtype         \n",
      "---  ------     --------------  -----         \n",
      " 0   date       838 non-null    datetime64[ns]\n",
      " 1   temp       838 non-null    float64       \n",
      " 2   ws         838 non-null    float64       \n",
      " 3   wd         838 non-null    float64       \n",
      " 4   humid      838 non-null    float64       \n",
      " 5   angry      838 non-null    float64       \n",
      " 6   body_temp  838 non-null    float64       \n",
      "dtypes: datetime64[ns](1), float64(6)\n",
      "memory usage: 46.0 KB\n"
     ]
    }
   ],
   "source": [
    "weather_useful.info()"
   ]
  },
  {
   "cell_type": "markdown",
   "metadata": {},
   "source": [
    "##### target 데이터 불러오기\n",
    "- 일별 최대 smp, 최소 smp, 평균 smp, 전력 수요량"
   ]
  },
  {
   "cell_type": "code",
   "execution_count": 88,
   "metadata": {},
   "outputs": [],
   "source": [
    "# target 데이터 불러오기\n",
    "target = pd.read_csv(\"target_v2.csv\")\n",
    "# target의 날짜 데이터의 자료형을 str -> datetime으로 변환\n",
    "target['date'] = pd.to_datetime(target['date'])"
   ]
  },
  {
   "cell_type": "code",
   "execution_count": 89,
   "metadata": {},
   "outputs": [],
   "source": [
    "# 날씨 데이터와 병합\n",
    "target = target.merge(weather_useful)"
   ]
  },
  {
   "cell_type": "code",
   "execution_count": 92,
   "metadata": {},
   "outputs": [],
   "source": [
    "# 컬럼 재정렬\n",
    "target = target[[\"date\", \"smp_max\", \"smp_min\", \"smp_mean\", \"temp\", \"ws\", \"wd\", \"humid\", \"angry\", \"body_temp\", \"supply\"]]"
   ]
  },
  {
   "cell_type": "code",
   "execution_count": null,
   "metadata": {},
   "outputs": [],
   "source": []
  }
 ],
 "metadata": {
  "kernelspec": {
   "display_name": "Python 3",
   "language": "python",
   "name": "python3"
  },
  "language_info": {
   "codemirror_mode": {
    "name": "ipython",
    "version": 3
   },
   "file_extension": ".py",
   "mimetype": "text/x-python",
   "name": "python",
   "nbconvert_exporter": "python",
   "pygments_lexer": "ipython3",
   "version": "3.7.6"
  }
 },
 "nbformat": 4,
 "nbformat_minor": 4
}
