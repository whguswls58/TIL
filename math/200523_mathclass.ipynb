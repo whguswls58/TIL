{
 "cells": [
  {
   "cell_type": "code",
   "execution_count": 2,
   "metadata": {},
   "outputs": [
    {
     "data": {
      "text/html": [
       "<div>\n",
       "<style scoped>\n",
       "    .dataframe tbody tr th:only-of-type {\n",
       "        vertical-align: middle;\n",
       "    }\n",
       "\n",
       "    .dataframe tbody tr th {\n",
       "        vertical-align: top;\n",
       "    }\n",
       "\n",
       "    .dataframe thead th {\n",
       "        text-align: right;\n",
       "    }\n",
       "</style>\n",
       "<table border=\"1\" class=\"dataframe\">\n",
       "  <thead>\n",
       "    <tr style=\"text-align: right;\">\n",
       "      <th></th>\n",
       "      <th>seeding</th>\n",
       "      <th>time</th>\n",
       "      <th>sne</th>\n",
       "      <th>cloudcover</th>\n",
       "      <th>prewetness</th>\n",
       "      <th>echomotion</th>\n",
       "      <th>rainfall</th>\n",
       "    </tr>\n",
       "  </thead>\n",
       "  <tbody>\n",
       "    <tr>\n",
       "      <th>19</th>\n",
       "      <td>yes</td>\n",
       "      <td>59</td>\n",
       "      <td>3.40</td>\n",
       "      <td>6.5</td>\n",
       "      <td>0.142</td>\n",
       "      <td>stationary</td>\n",
       "      <td>5.45</td>\n",
       "    </tr>\n",
       "    <tr>\n",
       "      <th>20</th>\n",
       "      <td>yes</td>\n",
       "      <td>65</td>\n",
       "      <td>3.15</td>\n",
       "      <td>3.1</td>\n",
       "      <td>0.073</td>\n",
       "      <td>moving</td>\n",
       "      <td>2.02</td>\n",
       "    </tr>\n",
       "    <tr>\n",
       "      <th>21</th>\n",
       "      <td>no</td>\n",
       "      <td>68</td>\n",
       "      <td>3.15</td>\n",
       "      <td>2.6</td>\n",
       "      <td>0.136</td>\n",
       "      <td>moving</td>\n",
       "      <td>0.82</td>\n",
       "    </tr>\n",
       "    <tr>\n",
       "      <th>22</th>\n",
       "      <td>yes</td>\n",
       "      <td>82</td>\n",
       "      <td>4.01</td>\n",
       "      <td>8.3</td>\n",
       "      <td>0.123</td>\n",
       "      <td>moving</td>\n",
       "      <td>1.09</td>\n",
       "    </tr>\n",
       "    <tr>\n",
       "      <th>23</th>\n",
       "      <td>no</td>\n",
       "      <td>83</td>\n",
       "      <td>4.65</td>\n",
       "      <td>7.4</td>\n",
       "      <td>0.168</td>\n",
       "      <td>moving</td>\n",
       "      <td>0.28</td>\n",
       "    </tr>\n",
       "  </tbody>\n",
       "</table>\n",
       "</div>"
      ],
      "text/plain": [
       "   seeding  time   sne  cloudcover  prewetness  echomotion  rainfall\n",
       "19     yes    59  3.40         6.5       0.142  stationary      5.45\n",
       "20     yes    65  3.15         3.1       0.073      moving      2.02\n",
       "21      no    68  3.15         2.6       0.136      moving      0.82\n",
       "22     yes    82  4.01         8.3       0.123      moving      1.09\n",
       "23      no    83  4.65         7.4       0.168      moving      0.28"
      ]
     },
     "execution_count": 2,
     "metadata": {},
     "output_type": "execute_result"
    }
   ],
   "source": [
    "dataset = sm.datasets.get_rdataset(\"clouds\", package = \"HSAUR\")\n",
    "df = dataset.data\n",
    "df.tail()"
   ]
  },
  {
   "cell_type": "markdown",
   "metadata": {},
   "source": [
    "##### 1.1 선형모형\n",
    "- 종속변수 rainfall을 다른 변수로 예측하는 선형 모형을 만들고 결정계수로 성능을 구하여라"
   ]
  },
  {
   "cell_type": "code",
   "execution_count": 3,
   "metadata": {},
   "outputs": [],
   "source": [
    "%matplotlib inline"
   ]
  },
  {
   "cell_type": "code",
   "execution_count": 4,
   "metadata": {},
   "outputs": [],
   "source": [
    "from matplotlib import rc\n",
    "\n",
    "plt.style.use('seaborn')\n",
    "rc('font', family='NanumGothic')\n",
    "plt.rcParams['axes.unicode_minus'] = False"
   ]
  },
  {
   "cell_type": "code",
   "execution_count": 20,
   "metadata": {},
   "outputs": [],
   "source": [
    "formula_simple = \"rainfall ~ \" + \"seeding + scale(time) + scale(sne) + scale(cloudcover)\\\n",
    "                + scale(prewetness) + echomotion\""
   ]
  },
  {
   "cell_type": "code",
   "execution_count": 21,
   "metadata": {},
   "outputs": [
    {
     "name": "stdout",
     "output_type": "stream",
     "text": [
      "                            OLS Regression Results                            \n",
      "==============================================================================\n",
      "Dep. Variable:               rainfall   R-squared:                       0.385\n",
      "Model:                            OLS   Adj. R-squared:                  0.168\n",
      "Method:                 Least Squares   F-statistic:                     1.773\n",
      "Date:                Sat, 23 May 2020   Prob (F-statistic):              0.165\n",
      "Time:                        09:19:50   Log-Likelihood:                -54.936\n",
      "No. Observations:                  24   AIC:                             123.9\n",
      "Df Residuals:                      17   BIC:                             132.1\n",
      "Df Model:                           6                                         \n",
      "Covariance Type:            nonrobust                                         \n",
      "============================================================================================\n",
      "                               coef    std err          t      P>|t|      [0.025      0.975]\n",
      "--------------------------------------------------------------------------------------------\n",
      "Intercept                    3.4447      0.925      3.722      0.002       1.492       5.397\n",
      "seeding[T.yes]               1.0132      1.203      0.842      0.411      -1.526       3.552\n",
      "echomotion[T.stationary]     2.1680      1.579      1.373      0.188      -1.164       5.500\n",
      "scale(time)                 -0.7950      0.716     -1.111      0.282      -2.305       0.715\n",
      "scale(sne)                  -0.8269      0.682     -1.213      0.242      -2.266       0.612\n",
      "scale(cloudcover)            0.0398      0.808      0.049      0.961      -1.666       1.745\n",
      "scale(prewetness)            0.5635      0.843      0.669      0.513      -1.215       2.342\n",
      "==============================================================================\n",
      "Omnibus:                        6.905   Durbin-Watson:                   1.448\n",
      "Prob(Omnibus):                  0.032   Jarque-Bera (JB):                5.169\n",
      "Skew:                           0.723   Prob(JB):                       0.0754\n",
      "Kurtosis:                       4.754   Cond. No.                         4.27\n",
      "==============================================================================\n",
      "\n",
      "Warnings:\n",
      "[1] Standard Errors assume that the covariance matrix of the errors is correctly specified.\n"
     ]
    }
   ],
   "source": [
    "model1 = sm.OLS.from_formula(formula_simple, data=df)\n",
    "result1 = model1.fit()\n",
    "print(result1.summary())"
   ]
  },
  {
   "cell_type": "markdown",
   "metadata": {},
   "source": [
    "##### 1.3 seeding이 영향을 끼치는지?\n",
    "- ANOVA분석으로 검정, 유의수준 10%"
   ]
  },
  {
   "cell_type": "code",
   "execution_count": 22,
   "metadata": {},
   "outputs": [
    {
     "data": {
      "image/png": "[encoded data removed]",
      "text/plain": [
       "<Figure size 576x396 with 1 Axes>"
      ]
     },
     "metadata": {
      "image/png": {
       "height": 343,
       "width": 493
      }
     },
     "output_type": "display_data"
    }
   ],
   "source": [
    "sns.boxplot(x = \"seeding\", y = \"rainfall\", data=df)\n",
    "plt.show()"
   ]
  },
  {
   "cell_type": "code",
   "execution_count": 23,
   "metadata": {},
   "outputs": [],
   "source": [
    "model = sm.OLS.from_formula(\"rainfall ~ seeding\", data=df)\n",
    "result = model.fit()"
   ]
  },
  {
   "cell_type": "code",
   "execution_count": 25,
   "metadata": {},
   "outputs": [
    {
     "data": {
      "text/html": [
       "<div>\n",
       "<style scoped>\n",
       "    .dataframe tbody tr th:only-of-type {\n",
       "        vertical-align: middle;\n",
       "    }\n",
       "\n",
       "    .dataframe tbody tr th {\n",
       "        vertical-align: top;\n",
       "    }\n",
       "\n",
       "    .dataframe thead th {\n",
       "        text-align: right;\n",
       "    }\n",
       "</style>\n",
       "<table border=\"1\" class=\"dataframe\">\n",
       "  <thead>\n",
       "    <tr style=\"text-align: right;\">\n",
       "      <th></th>\n",
       "      <th>df</th>\n",
       "      <th>sum_sq</th>\n",
       "      <th>mean_sq</th>\n",
       "      <th>F</th>\n",
       "      <th>PR(&gt;F)</th>\n",
       "    </tr>\n",
       "  </thead>\n",
       "  <tbody>\n",
       "    <tr>\n",
       "      <th>seeding</th>\n",
       "      <td>1.0</td>\n",
       "      <td>1.283438</td>\n",
       "      <td>1.283438</td>\n",
       "      <td>0.127733</td>\n",
       "      <td>0.7242</td>\n",
       "    </tr>\n",
       "    <tr>\n",
       "      <th>Residual</th>\n",
       "      <td>22.0</td>\n",
       "      <td>221.051458</td>\n",
       "      <td>10.047794</td>\n",
       "      <td>NaN</td>\n",
       "      <td>NaN</td>\n",
       "    </tr>\n",
       "  </tbody>\n",
       "</table>\n",
       "</div>"
      ],
      "text/plain": [
       "            df      sum_sq    mean_sq         F  PR(>F)\n",
       "seeding    1.0    1.283438   1.283438  0.127733  0.7242\n",
       "Residual  22.0  221.051458  10.047794       NaN     NaN"
      ]
     },
     "execution_count": 25,
     "metadata": {},
     "output_type": "execute_result"
    }
   ],
   "source": [
    "sm.stats.anova_lm(result)\n",
    "# R-squared 값이 0인가 아닌가를 테스트 하는게 핵심\n",
    "# F-test\n",
    "# 답 : ANOVA 분석의 유의확률은 72%이므로 seeding은 영향을 미치지 않는다."
   ]
  },
  {
   "cell_type": "code",
   "execution_count": null,
   "metadata": {},
   "outputs": [],
   "source": []
  }
 ],
 "metadata": {
  "kernelspec": {
   "display_name": "Python 3",
   "language": "python",
   "name": "python3"
  },
  "language_info": {
   "codemirror_mode": {
    "name": "ipython",
    "version": 3
   },
   "file_extension": ".py",
   "mimetype": "text/x-python",
   "name": "python",
   "nbconvert_exporter": "python",
   "pygments_lexer": "ipython3",
   "version": "3.7.6"
  }
 },
 "nbformat": 4,
 "nbformat_minor": 4
}
