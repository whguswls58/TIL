{
 "cells": [
  {
   "cell_type": "code",
   "execution_count": 2,
   "metadata": {},
   "outputs": [
    {
     "data": {
      "text/html": [
       "<div>\n",
       "<style scoped>\n",
       "    .dataframe tbody tr th:only-of-type {\n",
       "        vertical-align: middle;\n",
       "    }\n",
       "\n",
       "    .dataframe tbody tr th {\n",
       "        vertical-align: top;\n",
       "    }\n",
       "\n",
       "    .dataframe thead th {\n",
       "        text-align: right;\n",
       "    }\n",
       "</style>\n",
       "<table border=\"1\" class=\"dataframe\">\n",
       "  <thead>\n",
       "    <tr style=\"text-align: right;\">\n",
       "      <th></th>\n",
       "      <th>seeding</th>\n",
       "      <th>time</th>\n",
       "      <th>sne</th>\n",
       "      <th>cloudcover</th>\n",
       "      <th>prewetness</th>\n",
       "      <th>echomotion</th>\n",
       "      <th>rainfall</th>\n",
       "    </tr>\n",
       "  </thead>\n",
       "  <tbody>\n",
       "    <tr>\n",
       "      <th>19</th>\n",
       "      <td>yes</td>\n",
       "      <td>59</td>\n",
       "      <td>3.40</td>\n",
       "      <td>6.5</td>\n",
       "      <td>0.142</td>\n",
       "      <td>stationary</td>\n",
       "      <td>5.45</td>\n",
       "    </tr>\n",
       "    <tr>\n",
       "      <th>20</th>\n",
       "      <td>yes</td>\n",
       "      <td>65</td>\n",
       "      <td>3.15</td>\n",
       "      <td>3.1</td>\n",
       "      <td>0.073</td>\n",
       "      <td>moving</td>\n",
       "      <td>2.02</td>\n",
       "    </tr>\n",
       "    <tr>\n",
       "      <th>21</th>\n",
       "      <td>no</td>\n",
       "      <td>68</td>\n",
       "      <td>3.15</td>\n",
       "      <td>2.6</td>\n",
       "      <td>0.136</td>\n",
       "      <td>moving</td>\n",
       "      <td>0.82</td>\n",
       "    </tr>\n",
       "    <tr>\n",
       "      <th>22</th>\n",
       "      <td>yes</td>\n",
       "      <td>82</td>\n",
       "      <td>4.01</td>\n",
       "      <td>8.3</td>\n",
       "      <td>0.123</td>\n",
       "      <td>moving</td>\n",
       "      <td>1.09</td>\n",
       "    </tr>\n",
       "    <tr>\n",
       "      <th>23</th>\n",
       "      <td>no</td>\n",
       "      <td>83</td>\n",
       "      <td>4.65</td>\n",
       "      <td>7.4</td>\n",
       "      <td>0.168</td>\n",
       "      <td>moving</td>\n",
       "      <td>0.28</td>\n",
       "    </tr>\n",
       "  </tbody>\n",
       "</table>\n",
       "</div>"
      ],
      "text/plain": [
       "   seeding  time   sne  cloudcover  prewetness  echomotion  rainfall\n",
       "19     yes    59  3.40         6.5       0.142  stationary      5.45\n",
       "20     yes    65  3.15         3.1       0.073      moving      2.02\n",
       "21      no    68  3.15         2.6       0.136      moving      0.82\n",
       "22     yes    82  4.01         8.3       0.123      moving      1.09\n",
       "23      no    83  4.65         7.4       0.168      moving      0.28"
      ]
     },
     "execution_count": 2,
     "metadata": {},
     "output_type": "execute_result"
    }
   ],
   "source": [
    "dataset = sm.datasets.get_rdataset(\"clouds\", package = \"HSAUR\")\n",
    "df = dataset.data\n",
    "df.tail()"
   ]
  },
  {
   "cell_type": "markdown",
   "metadata": {},
   "source": [
    "##### 1.1 선형모형\n",
    "- 종속변수 rainfall을 다른 변수로 예측하는 선형 모형을 만들고 결정계수로 성능을 구하여라"
   ]
  },
  {
   "cell_type": "code",
   "execution_count": 3,
   "metadata": {},
   "outputs": [],
   "source": [
    "%matplotlib inline"
   ]
  },
  {
   "cell_type": "code",
   "execution_count": 4,
   "metadata": {},
   "outputs": [],
   "source": [
    "from matplotlib import rc\n",
    "\n",
    "plt.style.use('seaborn')\n",
    "rc('font', family='NanumGothic')\n",
    "plt.rcParams['axes.unicode_minus'] = False"
   ]
  },
  {
   "cell_type": "code",
   "execution_count": 20,
   "metadata": {},
   "outputs": [],
   "source": [
    "formula_simple = \"rainfall ~ \" + \"seeding + scale(time) + scale(sne) + scale(cloudcover)\\\n",
    "                + scale(prewetness) + echomotion\""
   ]
  },
  {
   "cell_type": "code",
   "execution_count": 21,
   "metadata": {},
   "outputs": [
    {
     "name": "stdout",
     "output_type": "stream",
     "text": [
      "                            OLS Regression Results                            \n",
      "==============================================================================\n",
      "Dep. Variable:               rainfall   R-squared:                       0.385\n",
      "Model:                            OLS   Adj. R-squared:                  0.168\n",
      "Method:                 Least Squares   F-statistic:                     1.773\n",
      "Date:                Sat, 23 May 2020   Prob (F-statistic):              0.165\n",
      "Time:                        09:19:50   Log-Likelihood:                -54.936\n",
      "No. Observations:                  24   AIC:                             123.9\n",
      "Df Residuals:                      17   BIC:                             132.1\n",
      "Df Model:                           6                                         \n",
      "Covariance Type:            nonrobust                                         \n",
      "============================================================================================\n",
      "                               coef    std err          t      P>|t|      [0.025      0.975]\n",
      "--------------------------------------------------------------------------------------------\n",
      "Intercept                    3.4447      0.925      3.722      0.002       1.492       5.397\n",
      "seeding[T.yes]               1.0132      1.203      0.842      0.411      -1.526       3.552\n",
      "echomotion[T.stationary]     2.1680      1.579      1.373      0.188      -1.164       5.500\n",
      "scale(time)                 -0.7950      0.716     -1.111      0.282      -2.305       0.715\n",
      "scale(sne)                  -0.8269      0.682     -1.213      0.242      -2.266       0.612\n",
      "scale(cloudcover)            0.0398      0.808      0.049      0.961      -1.666       1.745\n",
      "scale(prewetness)            0.5635      0.843      0.669      0.513      -1.215       2.342\n",
      "==============================================================================\n",
      "Omnibus:                        6.905   Durbin-Watson:                   1.448\n",
      "Prob(Omnibus):                  0.032   Jarque-Bera (JB):                5.169\n",
      "Skew:                           0.723   Prob(JB):                       0.0754\n",
      "Kurtosis:                       4.754   Cond. No.                         4.27\n",
      "==============================================================================\n",
      "\n",
      "Warnings:\n",
      "[1] Standard Errors assume that the covariance matrix of the errors is correctly specified.\n"
     ]
    }
   ],
   "source": [
    "model1 = sm.OLS.from_formula(formula_simple, data=df)\n",
    "result1 = model1.fit()\n",
    "print(result1.summary())"
   ]
  },
  {
   "cell_type": "markdown",
   "metadata": {},
   "source": [
    "##### 1.3 seeding이 영향을 끼치는지?\n",
    "- ANOVA분석으로 검정, 유의수준 10%"
   ]
  },
  {
   "cell_type": "code",
   "execution_count": 22,
   "metadata": {},
   "outputs": [
    {
     "data": {
      "image/png": "[encoded data removed]",
      "text/plain": [
       "<Figure size 576x396 with 1 Axes>"
      ]
     },
     "metadata": {
      "image/png": {
       "height": 343,
       "width": 493
      }
     },
     "output_type": "display_data"
    }
   ],
   "source": [
    "sns.boxplot(x = \"seeding\", y = \"rainfall\", data=df)\n",
    "plt.show()"
   ]
  },
  {
   "cell_type": "code",
   "execution_count": 23,
   "metadata": {},
   "outputs": [],
   "source": [
    "model = sm.OLS.from_formula(\"rainfall ~ seeding\", data=df)\n",
    "result = model.fit()"
   ]
  },
  {
   "cell_type": "code",
   "execution_count": 25,
   "metadata": {},
   "outputs": [
    {
     "data": {
      "text/html": [
       "<div>\n",
       "<style scoped>\n",
       "    .dataframe tbody tr th:only-of-type {\n",
       "        vertical-align: middle;\n",
       "    }\n",
       "\n",
       "    .dataframe tbody tr th {\n",
       "        vertical-align: top;\n",
       "    }\n",
       "\n",
       "    .dataframe thead th {\n",
       "        text-align: right;\n",
       "    }\n",
       "</style>\n",
       "<table border=\"1\" class=\"dataframe\">\n",
       "  <thead>\n",
       "    <tr style=\"text-align: right;\">\n",
       "      <th></th>\n",
       "      <th>df</th>\n",
       "      <th>sum_sq</th>\n",
       "      <th>mean_sq</th>\n",
       "      <th>F</th>\n",
       "      <th>PR(&gt;F)</th>\n",
       "    </tr>\n",
       "  </thead>\n",
       "  <tbody>\n",
       "    <tr>\n",
       "      <th>seeding</th>\n",
       "      <td>1.0</td>\n",
       "      <td>1.283438</td>\n",
       "      <td>1.283438</td>\n",
       "      <td>0.127733</td>\n",
       "      <td>0.7242</td>\n",
       "    </tr>\n",
       "    <tr>\n",
       "      <th>Residual</th>\n",
       "      <td>22.0</td>\n",
       "      <td>221.051458</td>\n",
       "      <td>10.047794</td>\n",
       "      <td>NaN</td>\n",
       "      <td>NaN</td>\n",
       "    </tr>\n",
       "  </tbody>\n",
       "</table>\n",
       "</div>"
      ],
      "text/plain": [
       "            df      sum_sq    mean_sq         F  PR(>F)\n",
       "seeding    1.0    1.283438   1.283438  0.127733  0.7242\n",
       "Residual  22.0  221.051458  10.047794       NaN     NaN"
      ]
     },
     "execution_count": 25,
     "metadata": {},
     "output_type": "execute_result"
    }
   ],
   "source": [
    "sm.stats.anova_lm(result)\n",
    "# R-squared 값이 0인가 아닌가를 테스트 하는게 핵심\n",
    "# F-test\n",
    "# 답 : ANOVA 분석의 유의확률은 72%이므로 seeding은 영향을 미치지 않는다."
   ]
  },
  {
   "cell_type": "markdown",
   "metadata": {},
   "source": [
    "##### 1.4 seeding과 다른 변수의 상호작용(interrection) 확인\n",
    "- 위 단순 모형에 seeding과 다른 변수의 상호작용을 추가하여 변수 중 seeding과의 상호작용이 유의한 변수를 찾아라"
   ]
  },
  {
   "cell_type": "code",
   "execution_count": 27,
   "metadata": {},
   "outputs": [
    {
     "data": {
      "text/html": [
       "<div>\n",
       "<style scoped>\n",
       "    .dataframe tbody tr th:only-of-type {\n",
       "        vertical-align: middle;\n",
       "    }\n",
       "\n",
       "    .dataframe tbody tr th {\n",
       "        vertical-align: top;\n",
       "    }\n",
       "\n",
       "    .dataframe thead th {\n",
       "        text-align: right;\n",
       "    }\n",
       "</style>\n",
       "<table border=\"1\" class=\"dataframe\">\n",
       "  <thead>\n",
       "    <tr style=\"text-align: right;\">\n",
       "      <th></th>\n",
       "      <th>df</th>\n",
       "      <th>sum_sq</th>\n",
       "      <th>mean_sq</th>\n",
       "      <th>F</th>\n",
       "      <th>PR(&gt;F)</th>\n",
       "    </tr>\n",
       "  </thead>\n",
       "  <tbody>\n",
       "    <tr>\n",
       "      <th>seeding:scale(time)</th>\n",
       "      <td>2.0</td>\n",
       "      <td>67.917706</td>\n",
       "      <td>33.958853</td>\n",
       "      <td>4.618242</td>\n",
       "      <td>0.021763</td>\n",
       "    </tr>\n",
       "    <tr>\n",
       "      <th>Residual</th>\n",
       "      <td>21.0</td>\n",
       "      <td>154.417189</td>\n",
       "      <td>7.353199</td>\n",
       "      <td>NaN</td>\n",
       "      <td>NaN</td>\n",
       "    </tr>\n",
       "  </tbody>\n",
       "</table>\n",
       "</div>"
      ],
      "text/plain": [
       "                       df      sum_sq    mean_sq         F    PR(>F)\n",
       "seeding:scale(time)   2.0   67.917706  33.958853  4.618242  0.021763\n",
       "Residual             21.0  154.417189   7.353199       NaN       NaN"
      ]
     },
     "execution_count": 27,
     "metadata": {},
     "output_type": "execute_result"
    }
   ],
   "source": [
    "# seeding - time 상호작용\n",
    "# 유의함\n",
    "model = sm.OLS.from_formula(\"rainfall ~ seeding : scale(time)\", data=df)\n",
    "result = model.fit()\n",
    "sm.stats.anova_lm(result)"
   ]
  },
  {
   "cell_type": "code",
   "execution_count": 28,
   "metadata": {},
   "outputs": [
    {
     "data": {
      "text/html": [
       "<div>\n",
       "<style scoped>\n",
       "    .dataframe tbody tr th:only-of-type {\n",
       "        vertical-align: middle;\n",
       "    }\n",
       "\n",
       "    .dataframe tbody tr th {\n",
       "        vertical-align: top;\n",
       "    }\n",
       "\n",
       "    .dataframe thead th {\n",
       "        text-align: right;\n",
       "    }\n",
       "</style>\n",
       "<table border=\"1\" class=\"dataframe\">\n",
       "  <thead>\n",
       "    <tr style=\"text-align: right;\">\n",
       "      <th></th>\n",
       "      <th>df</th>\n",
       "      <th>sum_sq</th>\n",
       "      <th>mean_sq</th>\n",
       "      <th>F</th>\n",
       "      <th>PR(&gt;F)</th>\n",
       "    </tr>\n",
       "  </thead>\n",
       "  <tbody>\n",
       "    <tr>\n",
       "      <th>seeding:scale(sne)</th>\n",
       "      <td>2.0</td>\n",
       "      <td>42.507615</td>\n",
       "      <td>21.253808</td>\n",
       "      <td>2.481992</td>\n",
       "      <td>0.107747</td>\n",
       "    </tr>\n",
       "    <tr>\n",
       "      <th>Residual</th>\n",
       "      <td>21.0</td>\n",
       "      <td>179.827281</td>\n",
       "      <td>8.563204</td>\n",
       "      <td>NaN</td>\n",
       "      <td>NaN</td>\n",
       "    </tr>\n",
       "  </tbody>\n",
       "</table>\n",
       "</div>"
      ],
      "text/plain": [
       "                      df      sum_sq    mean_sq         F    PR(>F)\n",
       "seeding:scale(sne)   2.0   42.507615  21.253808  2.481992  0.107747\n",
       "Residual            21.0  179.827281   8.563204       NaN       NaN"
      ]
     },
     "execution_count": 28,
     "metadata": {},
     "output_type": "execute_result"
    }
   ],
   "source": [
    "# seeding - sne 상호작용\n",
    "model = sm.OLS.from_formula(\"rainfall ~ seeding : scale(sne)\", data=df)\n",
    "result = model.fit()\n",
    "sm.stats.anova_lm(result)"
   ]
  },
  {
   "cell_type": "code",
   "execution_count": 29,
   "metadata": {},
   "outputs": [
    {
     "data": {
      "text/html": [
       "<div>\n",
       "<style scoped>\n",
       "    .dataframe tbody tr th:only-of-type {\n",
       "        vertical-align: middle;\n",
       "    }\n",
       "\n",
       "    .dataframe tbody tr th {\n",
       "        vertical-align: top;\n",
       "    }\n",
       "\n",
       "    .dataframe thead th {\n",
       "        text-align: right;\n",
       "    }\n",
       "</style>\n",
       "<table border=\"1\" class=\"dataframe\">\n",
       "  <thead>\n",
       "    <tr style=\"text-align: right;\">\n",
       "      <th></th>\n",
       "      <th>df</th>\n",
       "      <th>sum_sq</th>\n",
       "      <th>mean_sq</th>\n",
       "      <th>F</th>\n",
       "      <th>PR(&gt;F)</th>\n",
       "    </tr>\n",
       "  </thead>\n",
       "  <tbody>\n",
       "    <tr>\n",
       "      <th>seeding:scale(cloudcover)</th>\n",
       "      <td>2.0</td>\n",
       "      <td>71.621067</td>\n",
       "      <td>35.810533</td>\n",
       "      <td>4.989729</td>\n",
       "      <td>0.016867</td>\n",
       "    </tr>\n",
       "    <tr>\n",
       "      <th>Residual</th>\n",
       "      <td>21.0</td>\n",
       "      <td>150.713829</td>\n",
       "      <td>7.176849</td>\n",
       "      <td>NaN</td>\n",
       "      <td>NaN</td>\n",
       "    </tr>\n",
       "  </tbody>\n",
       "</table>\n",
       "</div>"
      ],
      "text/plain": [
       "                             df      sum_sq    mean_sq         F    PR(>F)\n",
       "seeding:scale(cloudcover)   2.0   71.621067  35.810533  4.989729  0.016867\n",
       "Residual                   21.0  150.713829   7.176849       NaN       NaN"
      ]
     },
     "execution_count": 29,
     "metadata": {},
     "output_type": "execute_result"
    }
   ],
   "source": [
    "# seeding - cloudcover 상호작용\n",
    "# 유의함\n",
    "model = sm.OLS.from_formula(\"rainfall ~ seeding : scale(cloudcover)\", data=df)\n",
    "result = model.fit()\n",
    "sm.stats.anova_lm(result)"
   ]
  },
  {
   "cell_type": "code",
   "execution_count": 34,
   "metadata": {},
   "outputs": [
    {
     "data": {
      "text/html": [
       "<div>\n",
       "<style scoped>\n",
       "    .dataframe tbody tr th:only-of-type {\n",
       "        vertical-align: middle;\n",
       "    }\n",
       "\n",
       "    .dataframe tbody tr th {\n",
       "        vertical-align: top;\n",
       "    }\n",
       "\n",
       "    .dataframe thead th {\n",
       "        text-align: right;\n",
       "    }\n",
       "</style>\n",
       "<table border=\"1\" class=\"dataframe\">\n",
       "  <thead>\n",
       "    <tr style=\"text-align: right;\">\n",
       "      <th></th>\n",
       "      <th>df</th>\n",
       "      <th>sum_sq</th>\n",
       "      <th>mean_sq</th>\n",
       "      <th>F</th>\n",
       "      <th>PR(&gt;F)</th>\n",
       "    </tr>\n",
       "  </thead>\n",
       "  <tbody>\n",
       "    <tr>\n",
       "      <th>seeding:echomotion</th>\n",
       "      <td>3.0</td>\n",
       "      <td>30.653819</td>\n",
       "      <td>10.217940</td>\n",
       "      <td>1.06614</td>\n",
       "      <td>0.385683</td>\n",
       "    </tr>\n",
       "    <tr>\n",
       "      <th>Residual</th>\n",
       "      <td>20.0</td>\n",
       "      <td>191.681077</td>\n",
       "      <td>9.584054</td>\n",
       "      <td>NaN</td>\n",
       "      <td>NaN</td>\n",
       "    </tr>\n",
       "  </tbody>\n",
       "</table>\n",
       "</div>"
      ],
      "text/plain": [
       "                      df      sum_sq    mean_sq        F    PR(>F)\n",
       "seeding:echomotion   3.0   30.653819  10.217940  1.06614  0.385683\n",
       "Residual            20.0  191.681077   9.584054      NaN       NaN"
      ]
     },
     "execution_count": 34,
     "metadata": {},
     "output_type": "execute_result"
    }
   ],
   "source": [
    "# seeding - echomotion 상호작용\n",
    "model = sm.OLS.from_formula(\"rainfall ~ seeding : echomotion\", data=df)\n",
    "result = model.fit()\n",
    "sm.stats.anova_lm(result)"
   ]
  },
  {
   "cell_type": "code",
   "execution_count": 35,
   "metadata": {},
   "outputs": [
    {
     "data": {
      "text/html": [
       "<div>\n",
       "<style scoped>\n",
       "    .dataframe tbody tr th:only-of-type {\n",
       "        vertical-align: middle;\n",
       "    }\n",
       "\n",
       "    .dataframe tbody tr th {\n",
       "        vertical-align: top;\n",
       "    }\n",
       "\n",
       "    .dataframe thead th {\n",
       "        text-align: right;\n",
       "    }\n",
       "</style>\n",
       "<table border=\"1\" class=\"dataframe\">\n",
       "  <thead>\n",
       "    <tr style=\"text-align: right;\">\n",
       "      <th></th>\n",
       "      <th>df</th>\n",
       "      <th>sum_sq</th>\n",
       "      <th>mean_sq</th>\n",
       "      <th>F</th>\n",
       "      <th>PR(&gt;F)</th>\n",
       "    </tr>\n",
       "  </thead>\n",
       "  <tbody>\n",
       "    <tr>\n",
       "      <th>seeding:scale(prewetness)</th>\n",
       "      <td>2.0</td>\n",
       "      <td>17.940774</td>\n",
       "      <td>8.970387</td>\n",
       "      <td>0.921642</td>\n",
       "      <td>0.413369</td>\n",
       "    </tr>\n",
       "    <tr>\n",
       "      <th>Residual</th>\n",
       "      <td>21.0</td>\n",
       "      <td>204.394122</td>\n",
       "      <td>9.733053</td>\n",
       "      <td>NaN</td>\n",
       "      <td>NaN</td>\n",
       "    </tr>\n",
       "  </tbody>\n",
       "</table>\n",
       "</div>"
      ],
      "text/plain": [
       "                             df      sum_sq   mean_sq         F    PR(>F)\n",
       "seeding:scale(prewetness)   2.0   17.940774  8.970387  0.921642  0.413369\n",
       "Residual                   21.0  204.394122  9.733053       NaN       NaN"
      ]
     },
     "execution_count": 35,
     "metadata": {},
     "output_type": "execute_result"
    }
   ],
   "source": [
    "# seeding - prewetness 상호작용\n",
    "model = sm.OLS.from_formula(\"rainfall ~ seeding : scale(prewetness)\", data=df)\n",
    "result = model.fit()\n",
    "sm.stats.anova_lm(result)"
   ]
  },
  {
   "cell_type": "code",
   "execution_count": 38,
   "metadata": {},
   "outputs": [],
   "source": [
    "# 이렇게 찾아주는게 좋다\n",
    "formula_interact = \"rainfall ~ \" + \"seeding*(scale(time) + scale(sne) + scale(cloudcover)\\\n",
    "                + scale(prewetness) + echomotion)\""
   ]
  },
  {
   "cell_type": "code",
   "execution_count": 39,
   "metadata": {},
   "outputs": [
    {
     "name": "stdout",
     "output_type": "stream",
     "text": [
      "                            OLS Regression Results                            \n",
      "==============================================================================\n",
      "Dep. Variable:               rainfall   R-squared:                       0.739\n",
      "Model:                            OLS   Adj. R-squared:                  0.501\n",
      "Method:                 Least Squares   F-statistic:                     3.095\n",
      "Date:                Sat, 23 May 2020   Prob (F-statistic):             0.0321\n",
      "Time:                        09:37:56   Log-Likelihood:                -44.630\n",
      "No. Observations:                  24   AIC:                             113.3\n",
      "Df Residuals:                      12   BIC:                             127.4\n",
      "Df Model:                          11                                         \n",
      "Covariance Type:            nonrobust                                         \n",
      "===========================================================================================================\n",
      "                                              coef    std err          t      P>|t|      [0.025      0.975]\n",
      "-----------------------------------------------------------------------------------------------------------\n",
      "Intercept                                   3.6943      0.833      4.435      0.001       1.879       5.509\n",
      "seeding[T.yes]                              1.0047      1.094      0.919      0.376      -1.378       3.387\n",
      "echomotion[T.stationary]                    2.9660      1.934      1.533      0.151      -1.249       7.181\n",
      "seeding[T.yes]:echomotion[T.stationary]    -0.2460      2.653     -0.093      0.928      -6.026       5.534\n",
      "scale(time)                                -2.2824      1.280     -1.783      0.100      -5.072       0.507\n",
      "seeding[T.yes]:scale(time)                  1.5245      1.462      1.043      0.318      -1.660       4.709\n",
      "scale(sne)                                  1.1948      1.092      1.094      0.295      -1.185       3.574\n",
      "seeding[T.yes]:scale(sne)                  -3.6996      1.378     -2.685      0.020      -6.702      -0.698\n",
      "scale(cloudcover)                           2.3272      1.575      1.477      0.165      -1.106       5.760\n",
      "seeding[T.yes]:scale(cloudcover)           -2.9186      1.758     -1.660      0.123      -6.748       0.911\n",
      "scale(prewetness)                           0.7689      1.192      0.645      0.531      -1.828       3.366\n",
      "seeding[T.yes]:scale(prewetness)           -0.2802      1.447     -0.194      0.850      -3.433       2.873\n",
      "==============================================================================\n",
      "Omnibus:                        6.606   Durbin-Watson:                   2.300\n",
      "Prob(Omnibus):                  0.037   Jarque-Bera (JB):                4.437\n",
      "Skew:                           0.905   Prob(JB):                        0.109\n",
      "Kurtosis:                       4.079   Cond. No.                         13.8\n",
      "==============================================================================\n",
      "\n",
      "Warnings:\n",
      "[1] Standard Errors assume that the covariance matrix of the errors is correctly specified.\n"
     ]
    }
   ],
   "source": [
    "model_interact = sm.OLS.from_formula(formula_interact, data = df)\n",
    "result_interact = model_interact.fit()\n",
    "print(result_interact.summary())\n",
    "# 범수형 자료형과 실수형 자료형의 상호작용\n",
    "# -> 기울기가 달라짐"
   ]
  },
  {
   "cell_type": "code",
   "execution_count": 40,
   "metadata": {},
   "outputs": [],
   "source": [
    "# 최종적으로 유의한 것들만 모으기\n",
    "formula_last = \"rainfall ~ scale(time) + seeding:scale(sne)\""
   ]
  },
  {
   "cell_type": "code",
   "execution_count": 41,
   "metadata": {},
   "outputs": [
    {
     "name": "stdout",
     "output_type": "stream",
     "text": [
      "                            OLS Regression Results                            \n",
      "==============================================================================\n",
      "Dep. Variable:               rainfall   R-squared:                       0.380\n",
      "Model:                            OLS   Adj. R-squared:                  0.287\n",
      "Method:                 Least Squares   F-statistic:                     4.090\n",
      "Date:                Sat, 23 May 2020   Prob (F-statistic):             0.0204\n",
      "Time:                        09:43:15   Log-Likelihood:                -55.028\n",
      "No. Observations:                  24   AIC:                             118.1\n",
      "Df Residuals:                      20   BIC:                             122.8\n",
      "Df Model:                           3                                         \n",
      "Covariance Type:            nonrobust                                         \n",
      "===========================================================================================\n",
      "                              coef    std err          t      P>|t|      [0.025      0.975]\n",
      "-------------------------------------------------------------------------------------------\n",
      "Intercept                   4.5881      0.547      8.394      0.000       3.448       5.728\n",
      "scale(time)                -1.5891      0.643     -2.470      0.023      -2.931      -0.247\n",
      "seeding[no]:scale(sne)      0.2220      0.808      0.275      0.786      -1.463       1.907\n",
      "seeding[yes]:scale(sne)    -1.8685      0.906     -2.063      0.052      -3.758       0.021\n",
      "==============================================================================\n",
      "Omnibus:                        5.251   Durbin-Watson:                   2.011\n",
      "Prob(Omnibus):                  0.072   Jarque-Bera (JB):                3.254\n",
      "Skew:                           0.795   Prob(JB):                        0.197\n",
      "Kurtosis:                       3.851   Cond. No.                         1.97\n",
      "==============================================================================\n",
      "\n",
      "Warnings:\n",
      "[1] Standard Errors assume that the covariance matrix of the errors is correctly specified.\n"
     ]
    }
   ],
   "source": [
    "model_last = sm.OLS.from_formula(formula_last, data = df)\n",
    "result_last = model_last.fit()\n",
    "print(result_last.summary())\n",
    "# seeding을 안했을 경우 p-value : 0.786\n",
    "# coef값이 0.2222는 믿을수 없는 값임 -> 0이라고 생각"
   ]
  },
  {
   "cell_type": "markdown",
   "metadata": {},
   "source": [
    "#### 2. 다항회귀"
   ]
  },
  {
   "cell_type": "code",
   "execution_count": 44,
   "metadata": {},
   "outputs": [
    {
     "data": {
      "text/html": [
       "<div>\n",
       "<style scoped>\n",
       "    .dataframe tbody tr th:only-of-type {\n",
       "        vertical-align: middle;\n",
       "    }\n",
       "\n",
       "    .dataframe tbody tr th {\n",
       "        vertical-align: top;\n",
       "    }\n",
       "\n",
       "    .dataframe thead th {\n",
       "        text-align: right;\n",
       "    }\n",
       "</style>\n",
       "<table border=\"1\" class=\"dataframe\">\n",
       "  <thead>\n",
       "    <tr style=\"text-align: right;\">\n",
       "      <th></th>\n",
       "      <th>experience</th>\n",
       "      <th>salary</th>\n",
       "    </tr>\n",
       "  </thead>\n",
       "  <tbody>\n",
       "    <tr>\n",
       "      <th>392</th>\n",
       "      <td>33</td>\n",
       "      <td>103106</td>\n",
       "    </tr>\n",
       "    <tr>\n",
       "      <th>393</th>\n",
       "      <td>31</td>\n",
       "      <td>150564</td>\n",
       "    </tr>\n",
       "    <tr>\n",
       "      <th>394</th>\n",
       "      <td>42</td>\n",
       "      <td>101738</td>\n",
       "    </tr>\n",
       "    <tr>\n",
       "      <th>395</th>\n",
       "      <td>25</td>\n",
       "      <td>95329</td>\n",
       "    </tr>\n",
       "    <tr>\n",
       "      <th>396</th>\n",
       "      <td>8</td>\n",
       "      <td>81035</td>\n",
       "    </tr>\n",
       "  </tbody>\n",
       "</table>\n",
       "</div>"
      ],
      "text/plain": [
       "     experience  salary\n",
       "392          33  103106\n",
       "393          31  150564\n",
       "394          42  101738\n",
       "395          25   95329\n",
       "396           8   81035"
      ]
     },
     "execution_count": 44,
     "metadata": {},
     "output_type": "execute_result"
    }
   ],
   "source": [
    "dataset = sm.datasets.get_rdataset(\"Salaries\", package = \"carData\")\n",
    "df = dataset.data[[\"yrs.since.phd\", \"salary\"]]\n",
    "df = df.rename(columns = {\"yrs.since.phd\": \"experience\"})\n",
    "df.tail()"
   ]
  },
  {
   "cell_type": "code",
   "execution_count": 45,
   "metadata": {},
   "outputs": [
    {
     "data": {
      "image/png": "[encoded data removed]",
      "text/plain": [
       "<Figure size 576x396 with 1 Axes>"
      ]
     },
     "metadata": {
      "image/png": {
       "height": 343,
       "width": 518
      }
     },
     "output_type": "display_data"
    }
   ],
   "source": [
    "sns.scatterplot(x = \"experience\", y = \"salary\", data = df)\n",
    "plt.show()"
   ]
  },
  {
   "cell_type": "code",
   "execution_count": 58,
   "metadata": {},
   "outputs": [
    {
     "name": "stdout",
     "output_type": "stream",
     "text": [
      "                            OLS Regression Results                            \n",
      "==============================================================================\n",
      "Dep. Variable:                 salary   R-squared:                       0.176\n",
      "Model:                            OLS   Adj. R-squared:                  0.174\n",
      "Method:                 Least Squares   F-statistic:                     84.23\n",
      "Date:                Sat, 23 May 2020   Prob (F-statistic):           2.50e-18\n",
      "Time:                        10:00:40   Log-Likelihood:                -4620.9\n",
      "No. Observations:                 397   AIC:                             9246.\n",
      "Df Residuals:                     395   BIC:                             9254.\n",
      "Df Model:                           1                                         \n",
      "Covariance Type:            nonrobust                                         \n",
      "==============================================================================\n",
      "                 coef    std err          t      P>|t|      [0.025      0.975]\n",
      "------------------------------------------------------------------------------\n",
      "Intercept   9.172e+04   2765.792     33.162      0.000    8.63e+04    9.72e+04\n",
      "experience   985.3421    107.365      9.177      0.000     774.264    1196.421\n",
      "==============================================================================\n",
      "Omnibus:                       14.453   Durbin-Watson:                   1.841\n",
      "Prob(Omnibus):                  0.001   Jarque-Bera (JB):               15.806\n",
      "Skew:                           0.403   Prob(JB):                     0.000370\n",
      "Kurtosis:                       3.552   Cond. No.                         51.6\n",
      "==============================================================================\n",
      "\n",
      "Warnings:\n",
      "[1] Standard Errors assume that the covariance matrix of the errors is correctly specified.\n"
     ]
    }
   ],
   "source": [
    "model = sm.OLS.from_formula(\"salary ~ experience\", data=df)\n",
    "result = model.fit()\n",
    "print(result.summary())"
   ]
  },
  {
   "cell_type": "code",
   "execution_count": 50,
   "metadata": {},
   "outputs": [
    {
     "data": {
      "image/png": "[encoded data removed]",
      "text/plain": [
       "<Figure size 576x396 with 1 Axes>"
      ]
     },
     "metadata": {
      "image/png": {
       "height": 343,
       "width": 518
      }
     },
     "output_type": "display_data"
    }
   ],
   "source": [
    "sns.regplot(x = \"experience\", y = \"salary\", data = df)\n",
    "plt.show()"
   ]
  },
  {
   "cell_type": "code",
   "execution_count": 63,
   "metadata": {},
   "outputs": [
    {
     "name": "stdout",
     "output_type": "stream",
     "text": [
      "                            OLS Regression Results                            \n",
      "==============================================================================\n",
      "Dep. Variable:                 salary   R-squared:                       0.311\n",
      "Model:                            OLS   Adj. R-squared:                  0.308\n",
      "Method:                 Least Squares   F-statistic:                     88.95\n",
      "Date:                Sat, 23 May 2020   Prob (F-statistic):           1.32e-32\n",
      "Time:                        10:02:52   Log-Likelihood:                -4585.3\n",
      "No. Observations:                 397   AIC:                             9177.\n",
      "Df Residuals:                     394   BIC:                             9189.\n",
      "Df Model:                           2                                         \n",
      "Covariance Type:            nonrobust                                         \n",
      "======================================================================================\n",
      "                         coef    std err          t      P>|t|      [0.025      0.975]\n",
      "--------------------------------------------------------------------------------------\n",
      "Intercept           6.505e+04   3949.715     16.470      0.000    5.73e+04    7.28e+04\n",
      "experience          4075.9028    364.819     11.172      0.000    3358.667    4793.138\n",
      "I(experience ** 2)   -63.7392      7.246     -8.797      0.000     -77.984     -49.494\n",
      "==============================================================================\n",
      "Omnibus:                       36.275   Durbin-Watson:                   1.735\n",
      "Prob(Omnibus):                  0.000   Jarque-Bera (JB):               48.812\n",
      "Skew:                           0.673   Prob(JB):                     2.52e-11\n",
      "Kurtosis:                       4.066   Cond. No.                     2.91e+03\n",
      "==============================================================================\n",
      "\n",
      "Warnings:\n",
      "[1] Standard Errors assume that the covariance matrix of the errors is correctly specified.\n",
      "[2] The condition number is large, 2.91e+03. This might indicate that there are\n",
      "strong multicollinearity or other numerical problems.\n"
     ]
    }
   ],
   "source": [
    "model2 = sm.OLS.from_formula(\"salary ~ experience + I(experience**2)\", data=df)\n",
    "result2 = model2.fit()\n",
    "print(result2.summary())\n",
    "# y값에 log를 취해줌"
   ]
  },
  {
   "cell_type": "code",
   "execution_count": 62,
   "metadata": {
    "scrolled": false
   },
   "outputs": [
    {
     "name": "stdout",
     "output_type": "stream",
     "text": [
      "                            OLS Regression Results                            \n",
      "==============================================================================\n",
      "Dep. Variable:         np.log(salary)   R-squared:                       0.357\n",
      "Model:                            OLS   Adj. R-squared:                  0.353\n",
      "Method:                 Least Squares   F-statistic:                     109.2\n",
      "Date:                Sat, 23 May 2020   Prob (F-statistic):           1.87e-38\n",
      "Time:                        10:02:36   Log-Likelihood:                 59.232\n",
      "No. Observations:                 397   AIC:                            -112.5\n",
      "Df Residuals:                     394   BIC:                            -100.5\n",
      "Df Model:                           2                                         \n",
      "Covariance Type:            nonrobust                                         \n",
      "======================================================================================\n",
      "                         coef    std err          t      P>|t|      [0.025      0.975]\n",
      "--------------------------------------------------------------------------------------\n",
      "Intercept             11.1547      0.033    340.215      0.000      11.090      11.219\n",
      "experience             0.0388      0.003     12.821      0.000       0.033       0.045\n",
      "I(experience ** 2)    -0.0006   6.01e-05    -10.368      0.000      -0.001      -0.001\n",
      "==============================================================================\n",
      "Omnibus:                        2.160   Durbin-Watson:                   1.663\n",
      "Prob(Omnibus):                  0.340   Jarque-Bera (JB):                2.016\n",
      "Skew:                           0.085   Prob(JB):                        0.365\n",
      "Kurtosis:                       3.304   Cond. No.                     2.91e+03\n",
      "==============================================================================\n",
      "\n",
      "Warnings:\n",
      "[1] Standard Errors assume that the covariance matrix of the errors is correctly specified.\n",
      "[2] The condition number is large, 2.91e+03. This might indicate that there are\n",
      "strong multicollinearity or other numerical problems.\n"
     ]
    }
   ],
   "source": [
    "model2 = sm.OLS.from_formula(\"np.log(salary) ~ experience + I(experience**2)\", data=df)\n",
    "result2 = model2.fit()\n",
    "print(result2.summary())"
   ]
  },
  {
   "cell_type": "code",
   "execution_count": 64,
   "metadata": {},
   "outputs": [],
   "source": [
    "# cross validation을 해서 train data에서 퍼포먼스 늘리는것 x -> test 데이터에서 퍼포먼스를 늘려야함\n",
    "# 근본적으로는 test 퍼포먼스만 좋아지면 일단은 된거임\n",
    "# 상대방에게 설득력을 높이기 위해서는 현실에서 왜 이런 현상이 일어났는가를 설명할수 있으면 더 좋다"
   ]
  },
  {
   "cell_type": "code",
   "execution_count": null,
   "metadata": {},
   "outputs": [],
   "source": []
  },
  {
   "cell_type": "code",
   "execution_count": 65,
   "metadata": {},
   "outputs": [
    {
     "data": {
      "text/html": [
       "<div>\n",
       "<style scoped>\n",
       "    .dataframe tbody tr th:only-of-type {\n",
       "        vertical-align: middle;\n",
       "    }\n",
       "\n",
       "    .dataframe tbody tr th {\n",
       "        vertical-align: top;\n",
       "    }\n",
       "\n",
       "    .dataframe thead th {\n",
       "        text-align: right;\n",
       "    }\n",
       "</style>\n",
       "<table border=\"1\" class=\"dataframe\">\n",
       "  <thead>\n",
       "    <tr style=\"text-align: right;\">\n",
       "      <th></th>\n",
       "      <th>mpg</th>\n",
       "      <th>cyl</th>\n",
       "      <th>disp</th>\n",
       "      <th>hp</th>\n",
       "      <th>drat</th>\n",
       "      <th>wt</th>\n",
       "      <th>qsec</th>\n",
       "      <th>vs</th>\n",
       "      <th>am</th>\n",
       "      <th>gear</th>\n",
       "      <th>carb</th>\n",
       "    </tr>\n",
       "  </thead>\n",
       "  <tbody>\n",
       "    <tr>\n",
       "      <th>Lotus Europa</th>\n",
       "      <td>30.4</td>\n",
       "      <td>4</td>\n",
       "      <td>95.1</td>\n",
       "      <td>113</td>\n",
       "      <td>3.77</td>\n",
       "      <td>1.513</td>\n",
       "      <td>16.9</td>\n",
       "      <td>1</td>\n",
       "      <td>1</td>\n",
       "      <td>5</td>\n",
       "      <td>2</td>\n",
       "    </tr>\n",
       "    <tr>\n",
       "      <th>Ford Pantera L</th>\n",
       "      <td>15.8</td>\n",
       "      <td>8</td>\n",
       "      <td>351.0</td>\n",
       "      <td>264</td>\n",
       "      <td>4.22</td>\n",
       "      <td>3.170</td>\n",
       "      <td>14.5</td>\n",
       "      <td>0</td>\n",
       "      <td>1</td>\n",
       "      <td>5</td>\n",
       "      <td>4</td>\n",
       "    </tr>\n",
       "    <tr>\n",
       "      <th>Ferrari Dino</th>\n",
       "      <td>19.7</td>\n",
       "      <td>6</td>\n",
       "      <td>145.0</td>\n",
       "      <td>175</td>\n",
       "      <td>3.62</td>\n",
       "      <td>2.770</td>\n",
       "      <td>15.5</td>\n",
       "      <td>0</td>\n",
       "      <td>1</td>\n",
       "      <td>5</td>\n",
       "      <td>6</td>\n",
       "    </tr>\n",
       "    <tr>\n",
       "      <th>Maserati Bora</th>\n",
       "      <td>15.0</td>\n",
       "      <td>8</td>\n",
       "      <td>301.0</td>\n",
       "      <td>335</td>\n",
       "      <td>3.54</td>\n",
       "      <td>3.570</td>\n",
       "      <td>14.6</td>\n",
       "      <td>0</td>\n",
       "      <td>1</td>\n",
       "      <td>5</td>\n",
       "      <td>8</td>\n",
       "    </tr>\n",
       "    <tr>\n",
       "      <th>Volvo 142E</th>\n",
       "      <td>21.4</td>\n",
       "      <td>4</td>\n",
       "      <td>121.0</td>\n",
       "      <td>109</td>\n",
       "      <td>4.11</td>\n",
       "      <td>2.780</td>\n",
       "      <td>18.6</td>\n",
       "      <td>1</td>\n",
       "      <td>1</td>\n",
       "      <td>4</td>\n",
       "      <td>2</td>\n",
       "    </tr>\n",
       "  </tbody>\n",
       "</table>\n",
       "</div>"
      ],
      "text/plain": [
       "                 mpg  cyl   disp   hp  drat     wt  qsec  vs  am  gear  carb\n",
       "Lotus Europa    30.4    4   95.1  113  3.77  1.513  16.9   1   1     5     2\n",
       "Ford Pantera L  15.8    8  351.0  264  4.22  3.170  14.5   0   1     5     4\n",
       "Ferrari Dino    19.7    6  145.0  175  3.62  2.770  15.5   0   1     5     6\n",
       "Maserati Bora   15.0    8  301.0  335  3.54  3.570  14.6   0   1     5     8\n",
       "Volvo 142E      21.4    4  121.0  109  4.11  2.780  18.6   1   1     4     2"
      ]
     },
     "execution_count": 65,
     "metadata": {},
     "output_type": "execute_result"
    }
   ],
   "source": [
    "mtcars = sm.datasets.get_rdataset(\"mtcars\")\n",
    "df = mtcars.data\n",
    "df.tail()"
   ]
  },
  {
   "cell_type": "code",
   "execution_count": 66,
   "metadata": {},
   "outputs": [
    {
     "name": "stdout",
     "output_type": "stream",
     "text": [
      "+--------+-----------------+\n",
      "| mtcars | R Documentation |\n",
      "+--------+-----------------+\n",
      "\n",
      "Motor Trend Car Road Tests\n",
      "--------------------------\n",
      "\n",
      "Description\n",
      "~~~~~~~~~~~\n",
      "\n",
      "The data was extracted from the 1974 *Motor Trend* US magazine, and\n",
      "comprises fuel consumption and 10 aspects of automobile design and\n",
      "performance for 32 automobiles (1973–74 models).\n",
      "\n",
      "Usage\n",
      "~~~~~\n",
      "\n",
      "::\n",
      "\n",
      "   mtcars\n",
      "\n",
      "Format\n",
      "~~~~~~\n",
      "\n",
      "A data frame with 32 observations on 11 (numeric) variables.\n",
      "\n",
      "+-------+------+------------------------------------------+\n",
      "| [, 1] | mpg  | Miles/(US) gallon                        |\n",
      "+-------+------+------------------------------------------+\n",
      "| [, 2] | cyl  | Number of cylinders                      |\n",
      "+-------+------+------------------------------------------+\n",
      "| [, 3] | disp | Displacement (cu.in.)                    |\n",
      "+-------+------+------------------------------------------+\n",
      "| [, 4] | hp   | Gross horsepower                         |\n",
      "+-------+------+------------------------------------------+\n",
      "| [, 5] | drat | Rear axle ratio                          |\n",
      "+-------+------+------------------------------------------+\n",
      "| [, 6] | wt   | Weight (1000 lbs)                        |\n",
      "+-------+------+------------------------------------------+\n",
      "| [, 7] | qsec | 1/4 mile time                            |\n",
      "+-------+------+------------------------------------------+\n",
      "| [, 8] | vs   | Engine (0 = V-shaped, 1 = straight)      |\n",
      "+-------+------+------------------------------------------+\n",
      "| [, 9] | am   | Transmission (0 = automatic, 1 = manual) |\n",
      "+-------+------+------------------------------------------+\n",
      "| [,10] | gear | Number of forward gears                  |\n",
      "+-------+------+------------------------------------------+\n",
      "| [,11] | carb | Number of carburetors                    |\n",
      "+-------+------+------------------------------------------+\n",
      "\n",
      "Source\n",
      "~~~~~~\n",
      "\n",
      "Henderson and Velleman (1981), Building multiple regression models\n",
      "interactively. *Biometrics*, **37**, 391–411.\n",
      "\n",
      "Examples\n",
      "~~~~~~~~\n",
      "\n",
      "::\n",
      "\n",
      "   require(graphics)\n",
      "   pairs(mtcars, main = \"mtcars data\", gap = 1/4)\n",
      "   coplot(mpg ~ disp | as.factor(cyl), data = mtcars,\n",
      "          panel = panel.smooth, rows = 1)\n",
      "   ## possibly more meaningful, e.g., for summary() or bivariate plots:\n",
      "   mtcars2 <- within(mtcars, {\n",
      "      vs <- factor(vs, labels = c(\"V\", \"S\"))\n",
      "      am <- factor(am, labels = c(\"automatic\", \"manual\"))\n",
      "      cyl  <- ordered(cyl)\n",
      "      gear <- ordered(gear)\n",
      "      carb <- ordered(carb)\n",
      "   })\n",
      "   summary(mtcars2)\n",
      "\n"
     ]
    }
   ],
   "source": [
    "print(mtcars.__doc__)"
   ]
  },
  {
   "cell_type": "code",
   "execution_count": 67,
   "metadata": {},
   "outputs": [
    {
     "name": "stdout",
     "output_type": "stream",
     "text": [
      "                            OLS Regression Results                            \n",
      "==============================================================================\n",
      "Dep. Variable:                    mpg   R-squared:                       0.869\n",
      "Model:                            OLS   Adj. R-squared:                  0.807\n",
      "Method:                 Least Squares   F-statistic:                     13.93\n",
      "Date:                Sat, 23 May 2020   Prob (F-statistic):           3.79e-07\n",
      "Time:                        10:22:07   Log-Likelihood:                -69.855\n",
      "No. Observations:                  32   AIC:                             161.7\n",
      "Df Residuals:                      21   BIC:                             177.8\n",
      "Df Model:                          10                                         \n",
      "Covariance Type:            nonrobust                                         \n",
      "==============================================================================\n",
      "                 coef    std err          t      P>|t|      [0.025      0.975]\n",
      "------------------------------------------------------------------------------\n",
      "Intercept     12.3034     18.718      0.657      0.518     -26.623      51.229\n",
      "cyl           -0.1114      1.045     -0.107      0.916      -2.285       2.062\n",
      "disp           0.0133      0.018      0.747      0.463      -0.024       0.050\n",
      "hp            -0.0215      0.022     -0.987      0.335      -0.067       0.024\n",
      "drat           0.7871      1.635      0.481      0.635      -2.614       4.188\n",
      "wt            -3.7153      1.894     -1.961      0.063      -7.655       0.224\n",
      "qsec           0.8210      0.731      1.123      0.274      -0.699       2.341\n",
      "vs             0.3178      2.105      0.151      0.881      -4.059       4.694\n",
      "am             2.5202      2.057      1.225      0.234      -1.757       6.797\n",
      "gear           0.6554      1.493      0.439      0.665      -2.450       3.761\n",
      "carb          -0.1994      0.829     -0.241      0.812      -1.923       1.524\n",
      "==============================================================================\n",
      "Omnibus:                        1.907   Durbin-Watson:                   1.861\n",
      "Prob(Omnibus):                  0.385   Jarque-Bera (JB):                1.747\n",
      "Skew:                           0.521   Prob(JB):                        0.418\n",
      "Kurtosis:                       2.526   Cond. No.                     1.22e+04\n",
      "==============================================================================\n",
      "\n",
      "Warnings:\n",
      "[1] Standard Errors assume that the covariance matrix of the errors is correctly specified.\n",
      "[2] The condition number is large, 1.22e+04. This might indicate that there are\n",
      "strong multicollinearity or other numerical problems.\n"
     ]
    }
   ],
   "source": [
    "formula0 = \"mpg ~ cyl + disp + hp + drat + wt + qsec + vs + am + gear + carb\"\n",
    "model0 = sm.OLS.from_formula(formula0, data = df)\n",
    "result0 = model0.fit()\n",
    "print(result0.summary())"
   ]
  },
  {
   "cell_type": "code",
   "execution_count": 147,
   "metadata": {},
   "outputs": [
    {
     "name": "stdout",
     "output_type": "stream",
     "text": [
      "                            OLS Regression Results                            \n",
      "==============================================================================\n",
      "Dep. Variable:                    mpg   R-squared:                       0.887\n",
      "Model:                            OLS   Adj. R-squared:                  0.781\n",
      "Method:                 Least Squares   F-statistic:                     8.352\n",
      "Date:                Sat, 23 May 2020   Prob (F-statistic):           6.04e-05\n",
      "Time:                        11:17:48   Log-Likelihood:                -67.528\n",
      "No. Observations:                  32   AIC:                             167.1\n",
      "Df Residuals:                      16   BIC:                             190.5\n",
      "Df Model:                          15                                         \n",
      "Covariance Type:            nonrobust                                         \n",
      "================================================================================\n",
      "                   coef    std err          t      P>|t|      [0.025      0.975]\n",
      "--------------------------------------------------------------------------------\n",
      "Intercept       18.3738      3.057      6.010      0.000      11.893      24.855\n",
      "C(vs)[T.1]       1.0491      2.705      0.388      0.703      -4.685       6.783\n",
      "C(am)[T.1]       0.9627      3.191      0.302      0.767      -5.803       7.728\n",
      "C(gear)[T.4]     1.7536      3.725      0.471      0.644      -6.144       9.651\n",
      "C(gear)[T.5]     1.8790      3.659      0.513      0.615      -5.878       9.636\n",
      "C(carb)[T.2]    -0.9343      2.309     -0.405      0.691      -5.830       3.961\n",
      "C(carb)[T.3]     3.4217      4.255      0.804      0.433      -5.599      12.442\n",
      "C(carb)[T.4]    -0.9936      3.847     -0.258      0.799      -9.149       7.161\n",
      "C(carb)[T.6]     1.9439      5.770      0.337      0.741     -10.288      14.175\n",
      "C(carb)[T.8]     4.3700      7.754      0.564      0.581     -12.068      20.808\n",
      "scale(cyl)      -1.7990      2.604     -0.691      0.500      -7.319       3.721\n",
      "scale(disp)      5.3388      3.730      1.431      0.172      -2.568      13.246\n",
      "scale(hp)       -3.2940      2.152     -1.531      0.145      -7.856       1.268\n",
      "scale(drat)      0.9582      1.253      0.765      0.456      -1.698       3.615\n",
      "scale(wt)       -4.4641      2.434     -1.834      0.085      -9.624       0.696\n",
      "scale(qsec)      0.4743      1.629      0.291      0.775      -2.979       3.928\n",
      "==============================================================================\n",
      "Omnibus:                        5.989   Durbin-Watson:                   2.032\n",
      "Prob(Omnibus):                  0.050   Jarque-Bera (JB):                4.531\n",
      "Skew:                           0.883   Prob(JB):                        0.104\n",
      "Kurtosis:                       3.526   Cond. No.                         48.0\n",
      "==============================================================================\n",
      "\n",
      "Warnings:\n",
      "[1] Standard Errors assume that the covariance matrix of the errors is correctly specified.\n"
     ]
    }
   ],
   "source": [
    "# 스캐일링\n",
    "formula1 = \"mpg ~ scale(cyl) + scale(disp) + scale(hp) + scale(drat) + scale(wt) + scale(qsec)\\\n",
    "        + C(vs) + C(am) + C(gear) + C(carb)\"\n",
    "model1 = sm.OLS.from_formula(formula1, data = df)\n",
    "result1 = model1.fit()\n",
    "print(result1.summary())"
   ]
  },
  {
   "cell_type": "code",
   "execution_count": 150,
   "metadata": {},
   "outputs": [
    {
     "name": "stdout",
     "output_type": "stream",
     "text": [
      "                            OLS Regression Results                            \n",
      "==============================================================================\n",
      "Dep. Variable:                    mpg   R-squared:                       0.869\n",
      "Model:                            OLS   Adj. R-squared:                  0.807\n",
      "Method:                 Least Squares   F-statistic:                     13.93\n",
      "Date:                Sat, 23 May 2020   Prob (F-statistic):           3.79e-07\n",
      "Time:                        11:18:32   Log-Likelihood:                -69.855\n",
      "No. Observations:                  32   AIC:                             161.7\n",
      "Df Residuals:                      21   BIC:                             177.8\n",
      "Df Model:                          10                                         \n",
      "Covariance Type:            nonrobust                                         \n",
      "===============================================================================\n",
      "                  coef    std err          t      P>|t|      [0.025      0.975]\n",
      "-------------------------------------------------------------------------------\n",
      "Intercept      18.9278      1.445     13.099      0.000      15.923      21.933\n",
      "C(vs)[T.1]      0.3178      2.105      0.151      0.881      -4.059       4.694\n",
      "C(am)[T.1]      2.5202      2.057      1.225      0.234      -1.757       6.797\n",
      "scale(cyl)     -0.1959      1.837     -0.107      0.916      -4.016       3.624\n",
      "scale(disp)     1.6267      2.178      0.747      0.463      -2.903       6.157\n",
      "scale(hp)      -1.4497      1.469     -0.987      0.335      -4.505       1.605\n",
      "scale(drat)     0.4142      0.861      0.481      0.635      -1.376       2.204\n",
      "scale(wt)      -3.5780      1.824     -1.961      0.063      -7.372       0.216\n",
      "scale(qsec)     1.4440      1.285      1.123      0.274      -1.229       4.117\n",
      "scale(gear)     0.4760      1.084      0.439      0.665      -1.779       2.731\n",
      "scale(carb)    -0.3170      1.318     -0.241      0.812      -3.057       2.423\n",
      "==============================================================================\n",
      "Omnibus:                        1.907   Durbin-Watson:                   1.861\n",
      "Prob(Omnibus):                  0.385   Jarque-Bera (JB):                1.747\n",
      "Skew:                           0.521   Prob(JB):                        0.418\n",
      "Kurtosis:                       2.526   Cond. No.                         14.6\n",
      "==============================================================================\n",
      "\n",
      "Warnings:\n",
      "[1] Standard Errors assume that the covariance matrix of the errors is correctly specified.\n"
     ]
    }
   ],
   "source": [
    "formula2 = \"mpg ~ scale(cyl) + scale(disp) + scale(hp) + scale(drat) + scale(wt) + scale(qsec)\\\n",
    "        + C(vs) + C(am) + scale(gear) + scale(carb)\"\n",
    "model2 = sm.OLS.from_formula(formula2, data = df)\n",
    "result2 = model2.fit()\n",
    "print(result2.summary())\n",
    "# wt만 유의함"
   ]
  },
  {
   "cell_type": "code",
   "execution_count": 158,
   "metadata": {},
   "outputs": [
    {
     "name": "stdout",
     "output_type": "stream",
     "text": [
      "                            OLS Regression Results                            \n",
      "==============================================================================\n",
      "Dep. Variable:                    mpg   R-squared:                       0.895\n",
      "Model:                            OLS   Adj. R-squared:                  0.879\n",
      "Method:                 Least Squares   F-statistic:                     57.37\n",
      "Date:                Sat, 23 May 2020   Prob (F-statistic):           8.28e-13\n",
      "Time:                        11:23:05   Log-Likelihood:                -66.359\n",
      "No. Observations:                  32   AIC:                             142.7\n",
      "Df Residuals:                      27   BIC:                             150.0\n",
      "Df Model:                           4                                         \n",
      "Covariance Type:            nonrobust                                         \n",
      "========================================================================================\n",
      "                           coef    std err          t      P>|t|      [0.025      0.975]\n",
      "----------------------------------------------------------------------------------------\n",
      "Intercept               18.6713      0.581     32.117      0.000      17.479      19.864\n",
      "scale(wt)               -3.0098      0.634     -4.751      0.000      -4.310      -1.710\n",
      "C(am)[T.1]:scale(wt)    -4.2134      1.158     -3.639      0.001      -6.589      -1.837\n",
      "C(am)[0]:scale(qsec)     1.6043      0.527      3.043      0.005       0.523       2.686\n",
      "C(am)[1]:scale(qsec)     1.7259      0.627      2.754      0.010       0.440       3.012\n",
      "==============================================================================\n",
      "Omnibus:                        2.689   Durbin-Watson:                   2.264\n",
      "Prob(Omnibus):                  0.261   Jarque-Bera (JB):                2.414\n",
      "Skew:                           0.637   Prob(JB):                        0.299\n",
      "Kurtosis:                       2.565   Cond. No.                         4.39\n",
      "==============================================================================\n",
      "\n",
      "Warnings:\n",
      "[1] Standard Errors assume that the covariance matrix of the errors is correctly specified.\n"
     ]
    }
   ],
   "source": [
    "formula3 = \"mpg ~ scale(wt) + C(am):(scale(wt) + scale(qsec))\"\n",
    "model3 = sm.OLS.from_formula(formula3, data = df)\n",
    "result3 = model3.fit()\n",
    "print(result3.summary())"
   ]
  },
  {
   "cell_type": "code",
   "execution_count": null,
   "metadata": {},
   "outputs": [],
   "source": []
  }
 ],
 "metadata": {
  "kernelspec": {
   "display_name": "Python 3",
   "language": "python",
   "name": "python3"
  },
  "language_info": {
   "codemirror_mode": {
    "name": "ipython",
    "version": 3
   },
   "file_extension": ".py",
   "mimetype": "text/x-python",
   "name": "python",
   "nbconvert_exporter": "python",
   "pygments_lexer": "ipython3",
   "version": "3.7.6"
  }
 },
 "nbformat": 4,
 "nbformat_minor": 4
}
