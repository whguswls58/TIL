{
 "cells": [
  {
   "cell_type": "code",
   "execution_count": 1,
   "metadata": {},
   "outputs": [],
   "source": [
    "from sklearn.datasets import load_iris\n",
    "\n",
    "data = load_iris()\n",
    "y = data.target\n",
    "X = data.data[:, 2:]\n",
    "feature_names = data.feature_names[2:]\n",
    "\n",
    "from sklearn.tree import DecisionTreeClassifier\n",
    "\n",
    "tree1 = DecisionTreeClassifier(criterion='entropy', max_depth=1, random_state=0).fit(X, y)"
   ]
  },
  {
   "cell_type": "code",
   "execution_count": 3,
   "metadata": {},
   "outputs": [],
   "source": [
    "import io\n",
    "import pydot\n",
    "from IPython.core.display import Image\n",
    "from sklearn.tree import export_graphviz\n",
    "\n",
    "\n",
    "def draw_decision_tree(model):\n",
    "    dot_buf = io.StringIO()\n",
    "    export_graphviz(model, out_file=dot_buf, feature_names=feature_names)\n",
    "    graph = pydot.graph_from_dot_data(dot_buf.getvalue())[0]\n",
    "    image = graph.create_png()\n",
    "    return Image(image)\n",
    "\n",
    "\n",
    "def plot_decision_regions(X, y, model, title):\n",
    "    resolution = 0.01\n",
    "    markers = ('s', '^', 'o')\n",
    "    colors = ('red', 'blue', 'lightgreen')\n",
    "    cmap = mpl.colors.ListedColormap(colors)\n",
    "\n",
    "    x1_min, x1_max = X[:, 0].min() - 1, X[:, 0].max() + 1\n",
    "    x2_min, x2_max = X[:, 1].min() - 1, X[:, 1].max() + 1\n",
    "    xx1, xx2 = np.meshgrid(np.arange(x1_min, x1_max, resolution),\n",
    "                           np.arange(x2_min, x2_max, resolution))\n",
    "    Z = model.predict(\n",
    "        np.array([xx1.ravel(), xx2.ravel()]).T).reshape(xx1.shape)\n",
    "\n",
    "    plt.contour(xx1, xx2, Z, cmap=mpl.colors.ListedColormap(['k']))\n",
    "    plt.contourf(xx1, xx2, Z, alpha=0.4, cmap=cmap)\n",
    "    plt.xlim(xx1.min(), xx1.max())\n",
    "    plt.ylim(xx2.min(), xx2.max())\n",
    "\n",
    "    for idx, cl in enumerate(np.unique(y)):\n",
    "        plt.scatter(x=X[y == cl, 0], y=X[y == cl, 1], alpha=0.8,\n",
    "                    c=[cmap(idx)], marker=markers[idx], s=80, label=cl)\n",
    "\n",
    "    plt.xlabel(data.feature_names[2])\n",
    "    plt.ylabel(data.feature_names[3])\n",
    "    plt.legend(loc='upper left')\n",
    "    plt.title(title)\n",
    "\n",
    "    return Z"
   ]
  },
  {
   "cell_type": "code",
   "execution_count": 4,
   "metadata": {},
   "outputs": [
    {
     "data": {
      "image/png": "[encoded data removed]",
      "text/plain": [
       "<IPython.core.display.Image object>"
      ]
     },
     "execution_count": 4,
     "metadata": {},
     "output_type": "execute_result"
    }
   ],
   "source": [
    "draw_decision_tree(tree1)"
   ]
  },
  {
   "cell_type": "code",
   "execution_count": 5,
   "metadata": {},
   "outputs": [],
   "source": [
    "plot_decision_regions(X, y, tree1, \"Depth 1\")\n",
    "plt.show()"
   ]
  },
  {
   "cell_type": "code",
   "execution_count": null,
   "metadata": {},
   "outputs": [],
   "source": []
  }
 ],
 "metadata": {
  "kernelspec": {
   "display_name": "Python 3",
   "language": "python",
   "name": "python3"
  },
  "language_info": {
   "codemirror_mode": {
    "name": "ipython",
    "version": 3
   },
   "file_extension": ".py",
   "mimetype": "text/x-python",
   "name": "python",
   "nbconvert_exporter": "python",
   "pygments_lexer": "ipython3",
   "version": "3.7.6"
  }
 },
 "nbformat": 4,
 "nbformat_minor": 4
}
