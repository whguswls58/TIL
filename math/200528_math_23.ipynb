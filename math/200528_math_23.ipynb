{
 "cells": [
  {
   "cell_type": "code",
   "execution_count": 10,
   "metadata": {},
   "outputs": [],
   "source": [
    "%matplotlib inline"
   ]
  },
  {
   "cell_type": "code",
   "execution_count": 11,
   "metadata": {},
   "outputs": [],
   "source": [
    "from matplotlib import rc\n",
    "\n",
    "plt.style.use('seaborn')\n",
    "rc('font', family='NanumGothic')\n",
    "plt.rcParams['axes.unicode_minus'] = False"
   ]
  },
  {
   "cell_type": "markdown",
   "metadata": {},
   "source": [
    "#### 다항분포 나이브베이즈 모형\n",
    "- 다항분포 나이브베이즈 모형 클래스 MultinomialNB는 가능도 추정과 관련 속성\n",
    "     - feature_count_: 각 클래스  k 에서  d 번째 면이 나온 횟수  $N_{d,k}$ \n",
    "     - feature_log_prob_: 다항분포의 모수의 로그\n",
    "$$\\log \\mu_k = (\\log \\mu_{1,k}, \\ldots, \\log \\mu_{D, k}) = \\left( \\log \\dfrac{N_{1,k}}{N_k}, \\ldots, \\log \\dfrac{N_{D,k}}{N_k} \\right)$$\n",
    "- $N_k$ 은 클래스 $k$에 대해 주사위를 던진 총 횟수\n",
    "- 스무디 공식\n",
    "$$\\hat{\\mu}_{d,k} = \\frac{ N_{d,k} + \\alpha}{N_k + D \\alpha}$$\n"
   ]
  },
  {
   "cell_type": "markdown",
   "metadata": {},
   "source": [
    "##### 예시 - 스팸 메일 필터링\n",
    " - BOW 인코딩 시, 각 키워드가 출현한 빈도를 직접 입력 변수로 사용"
   ]
  },
  {
   "cell_type": "code",
   "execution_count": 23,
   "metadata": {},
   "outputs": [],
   "source": [
    "X = np.array([\n",
    "    [3, 4, 1, 2],\n",
    "    [3, 5, 1, 1],\n",
    "    [3, 3, 0, 4],\n",
    "    [3, 4, 1, 2],\n",
    "    [1, 2, 1, 4],\n",
    "    [0, 0, 5, 3],\n",
    "    [1, 2, 4, 1],\n",
    "    [1, 1, 4, 2],\n",
    "    [0, 1, 2, 5],\n",
    "    [2, 1, 2, 3]])\n",
    "y = np.array([0, 0, 0, 0, 1, 1, 1, 1, 1, 1])"
   ]
  },
  {
   "cell_type": "code",
   "execution_count": 24,
   "metadata": {},
   "outputs": [],
   "source": [
    "from sklearn.naive_bayes import MultinomialNB\n",
    "model_mult = MultinomialNB().fit(X, y)"
   ]
  },
  {
   "cell_type": "code",
   "execution_count": 25,
   "metadata": {},
   "outputs": [
    {
     "data": {
      "text/plain": [
       "array([0, 1])"
      ]
     },
     "execution_count": 25,
     "metadata": {},
     "output_type": "execute_result"
    }
   ],
   "source": [
    "# 클래스\n",
    "model_mult.classes_"
   ]
  },
  {
   "cell_type": "code",
   "execution_count": 26,
   "metadata": {},
   "outputs": [
    {
     "data": {
      "text/plain": [
       "array([4., 6.])"
      ]
     },
     "execution_count": 26,
     "metadata": {},
     "output_type": "execute_result"
    }
   ],
   "source": [
    "# 클래스별 숫자\n",
    "model_mult.class_count_"
   ]
  },
  {
   "cell_type": "code",
   "execution_count": 27,
   "metadata": {},
   "outputs": [
    {
     "data": {
      "text/plain": [
       "array([[12., 16.,  3.,  9.],\n",
       "       [ 5.,  7., 18., 18.]])"
      ]
     },
     "execution_count": 27,
     "metadata": {},
     "output_type": "execute_result"
    }
   ],
   "source": [
    "# 각 클래스에 대한 가능도 확률분포를 구함\n",
    "# 각 클래스를 4개의 면을 가진 주사위로 생각\n",
    "# 각 면이 나올 확률은 각 면이 나온 횟수를 주사위를 던진 전체 횟수로 나눔\n",
    "# 각 클래스 별로 각각 면이 나온 횟수\n",
    "fc = model_mult.feature_count_\n",
    "fc"
   ]
  },
  {
   "cell_type": "code",
   "execution_count": 28,
   "metadata": {},
   "outputs": [
    {
     "data": {
      "text/plain": [
       "array([[0.3       , 0.4       , 0.075     , 0.225     ],\n",
       "       [0.10416667, 0.14583333, 0.375     , 0.375     ]])"
      ]
     },
     "execution_count": 28,
     "metadata": {},
     "output_type": "execute_result"
    }
   ],
   "source": [
    "fc / np.repeat(fc.sum(axis=1)[:, np.newaxis], 4, axis=1)"
   ]
  },
  {
   "cell_type": "code",
   "execution_count": 29,
   "metadata": {},
   "outputs": [
    {
     "data": {
      "text/plain": [
       "1.0"
      ]
     },
     "execution_count": 29,
     "metadata": {},
     "output_type": "execute_result"
    }
   ],
   "source": [
    "# 가중치 1인 스무딩\n",
    "model_mult.alpha"
   ]
  },
  {
   "cell_type": "code",
   "execution_count": 30,
   "metadata": {},
   "outputs": [
    {
     "data": {
      "text/plain": [
       "array([[0.29545455, 0.38636364, 0.09090909, 0.22727273],\n",
       "       [0.11538462, 0.15384615, 0.36538462, 0.36538462]])"
      ]
     },
     "execution_count": 30,
     "metadata": {},
     "output_type": "execute_result"
    }
   ],
   "source": [
    "# 모수 추정치\n",
    "theta = np.exp(model_mult.feature_log_prob_)\n",
    "theta"
   ]
  },
  {
   "cell_type": "code",
   "execution_count": 31,
   "metadata": {},
   "outputs": [
    {
     "data": {
      "text/plain": [
       "array([[0.38848858, 0.61151142]])"
      ]
     },
     "execution_count": 31,
     "metadata": {},
     "output_type": "execute_result"
    }
   ],
   "source": [
    "# 값을 예측\n",
    "# 메일에 1번부터 4번까지 키워드가 10번씩 나온 경우\n",
    "# 스팸 메일임\n",
    "x_new = np.array([10, 10, 10, 10])\n",
    "model_mult.predict_proba([x_new])"
   ]
  },
  {
   "cell_type": "code",
   "execution_count": 34,
   "metadata": {},
   "outputs": [
    {
     "data": {
      "text/plain": [
       "array([0.38848858, 0.61151142])"
      ]
     },
     "execution_count": 34,
     "metadata": {},
     "output_type": "execute_result"
    }
   ],
   "source": [
    "# 다항분포의 확률질량함수를 사용하여 직접 확률 계산\n",
    "p = (theta ** x_new).prod(axis=1)*np.exp(model_mult.class_log_prior_)\n",
    "p / p.sum()"
   ]
  },
  {
   "cell_type": "code",
   "execution_count": null,
   "metadata": {},
   "outputs": [],
   "source": []
  },
  {
   "cell_type": "code",
   "execution_count": null,
   "metadata": {},
   "outputs": [],
   "source": []
  },
  {
   "cell_type": "code",
   "execution_count": null,
   "metadata": {},
   "outputs": [],
   "source": []
  },
  {
   "cell_type": "code",
   "execution_count": null,
   "metadata": {},
   "outputs": [],
   "source": []
  },
  {
   "cell_type": "code",
   "execution_count": null,
   "metadata": {},
   "outputs": [],
   "source": []
  },
  {
   "cell_type": "code",
   "execution_count": null,
   "metadata": {},
   "outputs": [],
   "source": []
  },
  {
   "cell_type": "code",
   "execution_count": null,
   "metadata": {},
   "outputs": [],
   "source": []
  },
  {
   "cell_type": "code",
   "execution_count": null,
   "metadata": {},
   "outputs": [],
   "source": []
  },
  {
   "cell_type": "code",
   "execution_count": null,
   "metadata": {},
   "outputs": [],
   "source": []
  },
  {
   "cell_type": "code",
   "execution_count": null,
   "metadata": {},
   "outputs": [],
   "source": []
  },
  {
   "cell_type": "code",
   "execution_count": null,
   "metadata": {},
   "outputs": [],
   "source": []
  },
  {
   "cell_type": "code",
   "execution_count": null,
   "metadata": {},
   "outputs": [],
   "source": []
  },
  {
   "cell_type": "code",
   "execution_count": 1,
   "metadata": {},
   "outputs": [],
   "source": [
    "from sklearn.datasets import load_iris\n",
    "\n",
    "data = load_iris()\n",
    "y = data.target\n",
    "X = data.data[:, 2:]\n",
    "feature_names = data.feature_names[2:]\n",
    "\n",
    "from sklearn.tree import DecisionTreeClassifier\n",
    "\n",
    "tree1 = DecisionTreeClassifier(criterion='entropy', max_depth=1, random_state=0).fit(X, y)"
   ]
  },
  {
   "cell_type": "code",
   "execution_count": 3,
   "metadata": {},
   "outputs": [],
   "source": [
    "import io\n",
    "import pydot\n",
    "from IPython.core.display import Image\n",
    "from sklearn.tree import export_graphviz\n",
    "\n",
    "\n",
    "def draw_decision_tree(model):\n",
    "    dot_buf = io.StringIO()\n",
    "    export_graphviz(model, out_file=dot_buf, feature_names=feature_names)\n",
    "    graph = pydot.graph_from_dot_data(dot_buf.getvalue())[0]\n",
    "    image = graph.create_png()\n",
    "    return Image(image)\n",
    "\n",
    "\n",
    "def plot_decision_regions(X, y, model, title):\n",
    "    resolution = 0.01\n",
    "    markers = ('s', '^', 'o')\n",
    "    colors = ('red', 'blue', 'lightgreen')\n",
    "    cmap = mpl.colors.ListedColormap(colors)\n",
    "\n",
    "    x1_min, x1_max = X[:, 0].min() - 1, X[:, 0].max() + 1\n",
    "    x2_min, x2_max = X[:, 1].min() - 1, X[:, 1].max() + 1\n",
    "    xx1, xx2 = np.meshgrid(np.arange(x1_min, x1_max, resolution),\n",
    "                           np.arange(x2_min, x2_max, resolution))\n",
    "    Z = model.predict(\n",
    "        np.array([xx1.ravel(), xx2.ravel()]).T).reshape(xx1.shape)\n",
    "\n",
    "    plt.contour(xx1, xx2, Z, cmap=mpl.colors.ListedColormap(['k']))\n",
    "    plt.contourf(xx1, xx2, Z, alpha=0.4, cmap=cmap)\n",
    "    plt.xlim(xx1.min(), xx1.max())\n",
    "    plt.ylim(xx2.min(), xx2.max())\n",
    "\n",
    "    for idx, cl in enumerate(np.unique(y)):\n",
    "        plt.scatter(x=X[y == cl, 0], y=X[y == cl, 1], alpha=0.8,\n",
    "                    c=[cmap(idx)], marker=markers[idx], s=80, label=cl)\n",
    "\n",
    "    plt.xlabel(data.feature_names[2])\n",
    "    plt.ylabel(data.feature_names[3])\n",
    "    plt.legend(loc='upper left')\n",
    "    plt.title(title)\n",
    "\n",
    "    return Z"
   ]
  },
  {
   "cell_type": "code",
   "execution_count": 4,
   "metadata": {},
   "outputs": [
    {
     "data": {
      "image/png": "[encoded data removed]",
      "text/plain": [
       "<IPython.core.display.Image object>"
      ]
     },
     "execution_count": 4,
     "metadata": {},
     "output_type": "execute_result"
    }
   ],
   "source": [
    "draw_decision_tree(tree1)"
   ]
  },
  {
   "cell_type": "code",
   "execution_count": 22,
   "metadata": {},
   "outputs": [
    {
     "data": {
      "image/png": "[encoded data removed]",
      "text/plain": [
       "<Figure size 576x396 with 1 Axes>"
      ]
     },
     "metadata": {
      "image/png": {
       "height": 359,
       "width": 500
      }
     },
     "output_type": "display_data"
    }
   ],
   "source": [
    "plot_decision_regions(X, y, tree1, \"Depth 1\")\n",
    "plt.show()"
   ]
  },
  {
   "cell_type": "code",
   "execution_count": null,
   "metadata": {},
   "outputs": [],
   "source": []
  }
 ],
 "metadata": {
  "kernelspec": {
   "display_name": "Python 3",
   "language": "python",
   "name": "python3"
  },
  "language_info": {
   "codemirror_mode": {
    "name": "ipython",
    "version": 3
   },
   "file_extension": ".py",
   "mimetype": "text/x-python",
   "name": "python",
   "nbconvert_exporter": "python",
   "pygments_lexer": "ipython3",
   "version": "3.7.6"
  }
 },
 "nbformat": 4,
 "nbformat_minor": 4
}
