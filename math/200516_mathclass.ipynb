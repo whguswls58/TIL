{
 "cells": [
  {
   "cell_type": "markdown",
   "metadata": {},
   "source": [
    "- 내가 생각하는 데이터의 분포 -> 귀무가설\n",
    "- 귀무가설의 분포에서 데이터가 나왔다고 가정\n",
    "- 수식을 통해(통계량 계산식) 데이터 분포에서 계산\n",
    "- 자주 나오지 않는 값이 나온 경우\n",
    "    - 어쩌다가 낮은 확률로 나왔다\n",
    "    - 귀무가설이 틀렸다\n",
    "        - 자주 나오는 부분에 가까운지 자주 안나오는 부분에 가까운지 나타냄 : 유의 확률\n",
    "        - 유의확률이 작으면 면적이 작다 \n",
    "        - 잘 안나오는 부분에서 나온 값일 것이다 \n",
    "        - 귀무가설이 틀렸을 것이다"
   ]
  },
  {
   "cell_type": "code",
   "execution_count": 2,
   "metadata": {},
   "outputs": [],
   "source": [
    "from matplotlib import rc\n",
    "\n",
    "plt.style.use('seaborn')\n",
    "rc('font', family='NanumGothic')\n",
    "plt.rcParams['axes.unicode_minus'] = False"
   ]
  },
  {
   "cell_type": "code",
   "execution_count": 1,
   "metadata": {},
   "outputs": [],
   "source": [
    "%matplotlib inline"
   ]
  },
  {
   "cell_type": "code",
   "execution_count": 3,
   "metadata": {},
   "outputs": [
    {
     "name": "stdout",
     "output_type": "stream",
     "text": [
      "0.001953125\n",
      "0.021484374999999997\n",
      "0.10937500000000003\n",
      "0.3437499999999999\n",
      "0.7539062500000002\n",
      "1.0\n",
      "0.7539062500000002\n",
      "0.3437499999999999\n",
      "0.10937500000000003\n",
      "0.021484374999999997\n",
      "0.001953125\n"
     ]
    }
   ],
   "source": [
    "#  공정하다 = 귀무가설 -> H0 : theta = 0.5\n",
    "N = 10\n",
    "mu_0 = 0.5\n",
    "np.random.seed(0)\n",
    "x = sp.stats.bernoulli(mu_0).rvs(N)\n",
    "n = np.count_nonzero(x)\n",
    "\n",
    "for n in range(11):\n",
    "    print(sp.stats.binom_test(n, N))"
   ]
  },
  {
   "cell_type": "markdown",
   "metadata": {},
   "source": [
    "##### P-value의 문제\n",
    "- 데이터가 많으면 기준값에서 조금만 벗어나도 아니다 라는 결론이 나옴\n",
    "- 데이터가 많아지면 웬만한 기준값을 잡았을때 귀무가설이 다 틀리게 됨"
   ]
  },
  {
   "cell_type": "markdown",
   "metadata": {},
   "source": [
    "##### 연습문제 9.5.3"
   ]
  },
  {
   "cell_type": "code",
   "execution_count": 10,
   "metadata": {},
   "outputs": [
    {
     "name": "stdout",
     "output_type": "stream",
     "text": [
      "[0.011464662597118428, 0.010846034615784173, 0.012217718177775585, 0.011564180538640948, 0.01094167928669868, 0.012321524333038038, 0.011664010094599086, 0.011037636584668248, 0.010441170999066619, 0.011764149174270057, 0.011133904510498775, 0.010533671497389785, 0.011864595691550744, 0.011230481068759738, 0.01062648120851794, 0.010051397672693956, 0.011327364267820184, 0.010719598230985904, 0.010140850920599142, 0.011424552119955684, 0.010813020666259162, 0.010230609757981074, 0.011522042641581461, 0.010906746618812125, 0.010320672377846812, 0.011619833853149249, 0.011000774196259604, 0.010411036975530464, 0.00984945696958764, 0.011095101509538137, 0.010501701748552889, 0.009936559119073063, 0.011189726672880006, 0.010592664896908474, 0.010023959616883458, 0.009482478261132455, 0.010683924623092858, 0.010111656750687655, 0.009566711347876783, 0.01077547913230246, 0.010199648809811886, 0.009651238978859151, 0.01086732663244833, 0.010287934085446038, 0.009736059528705663, 0.010959465334332659, 0.010376510870809114, 0.009821171373184293, 0.009292345480031532, 0.01046537746117661]\n"
     ]
    }
   ],
   "source": [
    "pvalues = []\n",
    "N_range = range(1050, 1100)\n",
    "for N in N_range:\n",
    "    n = int(round(0.7 * N))\n",
    "    pvalues.append(sp.stats.binom_test(n, N, p = 2 / 3, alternative = \"greater\"))\n",
    "    \n",
    "print(pvalues)"
   ]
  },
  {
   "cell_type": "markdown",
   "metadata": {},
   "source": [
    "##### 검정\n",
    "- 표본조사를 한 1000명 중 520명이 찬성하였다. 전체 인구가 찬성이 더 많다고 말할 수 있는가?\n",
    "- 귀무가설 H_0 : theta = 0.5\n",
    "- 대립가설 H_a : theta > 0.5\n",
    "- 양측 / 단측 -> 우측 검정\n",
    "- 유의확률"
   ]
  },
  {
   "cell_type": "code",
   "execution_count": 11,
   "metadata": {},
   "outputs": [
    {
     "data": {
      "text/plain": [
       "0.10872414660212008"
      ]
     },
     "execution_count": 11,
     "metadata": {},
     "output_type": "execute_result"
    }
   ],
   "source": [
    "# 위의 유의 확률\n",
    "sp.stats.binom_test(520, 1000, 0.5, \"greater\")"
   ]
  },
  {
   "cell_type": "markdown",
   "metadata": {},
   "source": [
    "#### 이항검정\n",
    "- 1000가구 표본조사에서 40가구가 신청하고 있다. 시청률이 5%라고 할수 있는가? (유의수준 5%)\n",
    "- 귀무가설 H_0 : theta = 0.05\n",
    "- 대립가설 H_a : theta =! 0.05"
   ]
  },
  {
   "cell_type": "code",
   "execution_count": 21,
   "metadata": {},
   "outputs": [
    {
     "data": {
      "text/plain": [
       "0.014554102575329554"
      ]
     },
     "execution_count": 21,
     "metadata": {},
     "output_type": "execute_result"
    }
   ],
   "source": [
    "# 유의 확률 16% 귀무가설 채택\n",
    "# 시청률 조사나 설문조사를 하게 되면 \n",
    "# 시청률은 4%가 나왔고 유의수준 5%에서 오차범위 +- 3% 입니다 식으로 표현\n",
    "sp.stats.binom_test(40, 1000, 0.027)"
   ]
  },
  {
   "cell_type": "markdown",
   "metadata": {},
   "source": [
    "#### 카이제곱 검정"
   ]
  },
  {
   "cell_type": "code",
   "execution_count": 24,
   "metadata": {},
   "outputs": [
    {
     "data": {
      "text/plain": [
       "Power_divergenceResult(statistic=20.0, pvalue=0.0012497305630313773)"
      ]
     },
     "execution_count": 24,
     "metadata": {},
     "output_type": "execute_result"
    }
   ],
   "source": [
    "N = 5\n",
    "K = 6\n",
    "mu_0 = np.ones(K)/K\n",
    "np.random.seed(0)\n",
    "x = np.array([0, 0, 0, 0, 0, 5])\n",
    "n = np.bincount(x, minlength=K)\n",
    "sp.stats.chisquare(n)"
   ]
  },
  {
   "cell_type": "markdown",
   "metadata": {},
   "source": [
    "#### 카이제곱 독립검정\n",
    "- 어떤 범주형 확률변수 X가 다른 범주형 확률변수 Y와 독립인지 상관관계를 가지는가 검증에 사용"
   ]
  },
  {
   "cell_type": "code",
   "execution_count": 26,
   "metadata": {},
   "outputs": [
    {
     "data": {
      "text/plain": [
       "(24.915672295184493,\n",
       " 5.989353816039278e-07,\n",
       " 1,\n",
       " array([[10250.,  9750.],\n",
       "        [10250.,  9750.]]))"
      ]
     },
     "execution_count": 26,
     "metadata": {},
     "output_type": "execute_result"
    }
   ],
   "source": [
    "# 유의 확률이 0이면 반드시 관계가 있다고 볼 수 있음\n",
    "obs = np.array([[10500, 9500], [10000, 10000]])\n",
    "sp.stats.chi2_contingency(obs)"
   ]
  },
  {
   "cell_type": "code",
   "execution_count": null,
   "metadata": {},
   "outputs": [],
   "source": []
  }
 ],
 "metadata": {
  "kernelspec": {
   "display_name": "Python 3",
   "language": "python",
   "name": "python3"
  },
  "language_info": {
   "codemirror_mode": {
    "name": "ipython",
    "version": 3
   },
   "file_extension": ".py",
   "mimetype": "text/x-python",
   "name": "python",
   "nbconvert_exporter": "python",
   "pygments_lexer": "ipython3",
   "version": "3.7.6"
  }
 },
 "nbformat": 4,
 "nbformat_minor": 4
}
