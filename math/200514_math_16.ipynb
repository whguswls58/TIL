{
 "cells": [
  {
   "cell_type": "code",
   "execution_count": 1,
   "metadata": {},
   "outputs": [],
   "source": [
    "from matplotlib import rc\n",
    "\n",
    "plt.style.use('seaborn')\n",
    "rc('font', family='NanumGothic')\n",
    "plt.rcParams['axes.unicode_minus'] = False"
   ]
  },
  {
   "cell_type": "code",
   "execution_count": 2,
   "metadata": {},
   "outputs": [],
   "source": [
    "%matplotlib inline"
   ]
  },
  {
   "cell_type": "markdown",
   "metadata": {},
   "source": [
    "#### 단일 계수 t-검정"
   ]
  },
  {
   "cell_type": "code",
   "execution_count": 3,
   "metadata": {},
   "outputs": [],
   "source": [
    "from sklearn.datasets import make_regression\n",
    "\n",
    "X0, y, coef = make_regression(n_samples=100, n_features=1, noise=20,\n",
    "                              coef=True, random_state=0)\n",
    "dfX0 = pd.DataFrame(X0, columns=[\"X1\"])\n",
    "dfX = sm.add_constant(dfX0)\n",
    "dfy = pd.DataFrame(y, columns=[\"y\"])\n",
    "\n",
    "model = sm.OLS(dfy, dfX)\n",
    "result = model.fit()"
   ]
  },
  {
   "cell_type": "code",
   "execution_count": 4,
   "metadata": {},
   "outputs": [
    {
     "name": "stdout",
     "output_type": "stream",
     "text": [
      "                            OLS Regression Results                            \n",
      "==============================================================================\n",
      "Dep. Variable:                      y   R-squared:                       0.803\n",
      "Model:                            OLS   Adj. R-squared:                  0.801\n",
      "Method:                 Least Squares   F-statistic:                     400.3\n",
      "Date:                Thu, 14 May 2020   Prob (F-statistic):           2.21e-36\n",
      "Time:                        20:24:15   Log-Likelihood:                -448.09\n",
      "No. Observations:                 100   AIC:                             900.2\n",
      "Df Residuals:                      98   BIC:                             905.4\n",
      "Df Model:                           1                                         \n",
      "Covariance Type:            nonrobust                                         \n",
      "==============================================================================\n",
      "                 coef    std err          t      P>|t|      [0.025      0.975]\n",
      "------------------------------------------------------------------------------\n",
      "const         -1.6284      2.163     -0.753      0.453      -5.920       2.663\n",
      "X1            42.8534      2.142     20.008      0.000      38.603      47.104\n",
      "==============================================================================\n",
      "Omnibus:                        3.523   Durbin-Watson:                   1.984\n",
      "Prob(Omnibus):                  0.172   Jarque-Bera (JB):                2.059\n",
      "Skew:                          -0.073   Prob(JB):                        0.357\n",
      "Kurtosis:                       2.312   Cond. No.                         1.06\n",
      "==============================================================================\n",
      "\n",
      "Warnings:\n",
      "[1] Standard Errors assume that the covariance matrix of the errors is correctly specified.\n"
     ]
    }
   ],
   "source": [
    "# t : 검정 통계량\n",
    "# P : 귀무가설이 맞을 확률\n",
    "# 45% -> H_0 : w = 0 -> w가 0일 가능성이 충분히 높다\n",
    "print(result.summary())"
   ]
  },
  {
   "cell_type": "code",
   "execution_count": 5,
   "metadata": {},
   "outputs": [
    {
     "name": "stdout",
     "output_type": "stream",
     "text": [
      "                             Test for Constraints                             \n",
      "==============================================================================\n",
      "                 coef    std err          t      P>|t|      [0.025      0.975]\n",
      "------------------------------------------------------------------------------\n",
      "c0            42.8534      2.142      1.332      0.186      38.603      47.104\n",
      "==============================================================================\n"
     ]
    }
   ],
   "source": [
    "# 회귀분석 결과 w값이 42.8534가 나옴 -> w가 40정도면 상관없지 않을까\n",
    "# 귀무가설 : \"X1 = 40\"  문자열로 입력\n",
    "# t-검정\n",
    "# t = (coef - 40) / std err\n",
    "# P : 18% -> 귀무가설 채택함 -> X1의 계수를 40으로 써도 된다\n",
    "print(result.t_test(\"X1 = 40\"))"
   ]
  },
  {
   "cell_type": "code",
   "execution_count": 6,
   "metadata": {},
   "outputs": [
    {
     "name": "stdout",
     "output_type": "stream",
     "text": [
      "                            OLS Regression Results                            \n",
      "==============================================================================\n",
      "Dep. Variable:                  value   R-squared:                       0.930\n",
      "Model:                            OLS   Adj. R-squared:                  0.927\n",
      "Method:                 Least Squares   F-statistic:                     277.3\n",
      "Date:                Thu, 14 May 2020   Prob (F-statistic):          2.96e-125\n",
      "Time:                        20:25:20   Log-Likelihood:                -535.82\n",
      "No. Observations:                 240   AIC:                             1096.\n",
      "Df Residuals:                     228   BIC:                             1137.\n",
      "Df Model:                          11                                         \n",
      "Covariance Type:            nonrobust                                         \n",
      "================================================================================\n",
      "                   coef    std err          t      P>|t|      [0.025      0.975]\n",
      "--------------------------------------------------------------------------------\n",
      "C(month)[01]    39.6950      0.518     76.691      0.000      38.675      40.715\n",
      "C(month)[02]    39.1900      0.518     75.716      0.000      38.170      40.210\n",
      "C(month)[03]    42.1950      0.518     81.521      0.000      41.175      43.215\n",
      "C(month)[04]    46.2900      0.518     89.433      0.000      45.270      47.310\n",
      "C(month)[05]    52.5600      0.518    101.547      0.000      51.540      53.580\n",
      "C(month)[06]    58.0400      0.518    112.134      0.000      57.020      59.060\n",
      "C(month)[07]    61.9000      0.518    119.592      0.000      60.880      62.920\n",
      "C(month)[08]    60.5200      0.518    116.926      0.000      59.500      61.540\n",
      "C(month)[09]    56.4800      0.518    109.120      0.000      55.460      57.500\n",
      "C(month)[10]    49.4950      0.518     95.625      0.000      48.475      50.515\n",
      "C(month)[11]    42.5800      0.518     82.265      0.000      41.560      43.600\n",
      "C(month)[12]    39.5300      0.518     76.373      0.000      38.510      40.550\n",
      "==============================================================================\n",
      "Omnibus:                        5.430   Durbin-Watson:                   1.529\n",
      "Prob(Omnibus):                  0.066   Jarque-Bera (JB):                5.299\n",
      "Skew:                          -0.281   Prob(JB):                       0.0707\n",
      "Kurtosis:                       3.463   Cond. No.                         1.00\n",
      "==============================================================================\n",
      "\n",
      "Warnings:\n",
      "[1] Standard Errors assume that the covariance matrix of the errors is correctly specified.\n"
     ]
    }
   ],
   "source": [
    "import datetime\n",
    "from calendar import isleap\n",
    "\n",
    "df_nottem = sm.datasets.get_rdataset(\"nottem\").data \n",
    "\n",
    "def convert_partial_year(number):\n",
    "    year = int(number)\n",
    "    d = datetime.timedelta(days=(number - year) * (365 + isleap(year)))\n",
    "    day_one = datetime.datetime(year, 1, 1)\n",
    "    date = d + day_one\n",
    "    return date\n",
    "\n",
    "df_nottem[\"date0\"] = df_nottem[[\"time\"]].applymap(convert_partial_year)\n",
    "df_nottem[\"date\"] = pd.DatetimeIndex(df_nottem[\"date0\"]).round('60min') + datetime.timedelta(seconds=3600*24)\n",
    "df_nottem[\"month\"] = df_nottem[\"date\"].dt.strftime(\"%m\").astype('category')\n",
    "del df_nottem[\"date0\"], df_nottem[\"date\"]\n",
    "\n",
    "model_nottem = sm.OLS.from_formula(\"value ~ C(month) + 0\", df_nottem)\n",
    "result_nottem = model_nottem.fit()\n",
    "print(result_nottem.summary())"
   ]
  },
  {
   "cell_type": "code",
   "execution_count": 7,
   "metadata": {},
   "outputs": [
    {
     "name": "stdout",
     "output_type": "stream",
     "text": [
      "                             Test for Constraints                             \n",
      "==============================================================================\n",
      "                 coef    std err          t      P>|t|      [0.025      0.975]\n",
      "------------------------------------------------------------------------------\n",
      "c0             0.5050      0.732      0.690      0.491      -0.937       1.947\n",
      "==============================================================================\n"
     ]
    }
   ],
   "source": [
    "# 귀무가설 : w1은 w2 인가?\n",
    "# P-value 값 49% -> 귀무가설 채택\n",
    "print(result_nottem.t_test(\"C(month)[01] = C(month)[02]\"))"
   ]
  },
  {
   "cell_type": "code",
   "execution_count": 8,
   "metadata": {},
   "outputs": [
    {
     "name": "stdout",
     "output_type": "stream",
     "text": [
      "                             Test for Constraints                             \n",
      "==============================================================================\n",
      "                 coef    std err          t      P>|t|      [0.025      0.975]\n",
      "------------------------------------------------------------------------------\n",
      "c0             3.0050      0.732      4.105      0.000       1.563       4.447\n",
      "==============================================================================\n"
     ]
    }
   ],
   "source": [
    "# 귀무가설 : w3는 w2 인가?\n",
    "# P-value 값 0% -> 귀무가설 기각\n",
    "print(result_nottem.t_test(\"C(month)[03] = C(month)[02]\"))"
   ]
  },
  {
   "cell_type": "code",
   "execution_count": null,
   "metadata": {},
   "outputs": [],
   "source": []
  }
 ],
 "metadata": {
  "kernelspec": {
   "display_name": "Python 3",
   "language": "python",
   "name": "python3"
  },
  "language_info": {
   "codemirror_mode": {
    "name": "ipython",
    "version": 3
   },
   "file_extension": ".py",
   "mimetype": "text/x-python",
   "name": "python",
   "nbconvert_exporter": "python",
   "pygments_lexer": "ipython3",
   "version": "3.7.6"
  }
 },
 "nbformat": 4,
 "nbformat_minor": 4
}
